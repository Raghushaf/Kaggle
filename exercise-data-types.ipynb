{
 "cells": [
  {
   "cell_type": "markdown",
   "id": "26ba046e",
   "metadata": {
    "papermill": {
     "duration": 0.007502,
     "end_time": "2022-09-14T10:02:29.529518",
     "exception": false,
     "start_time": "2022-09-14T10:02:29.522016",
     "status": "completed"
    },
    "tags": []
   },
   "source": [
    "**This notebook is an exercise in the [Intro to Programming](https://www.kaggle.com/learn/intro-to-programming) course.  You can reference the tutorial at [this link](https://www.kaggle.com/alexisbcook/data-types).**\n",
    "\n",
    "---\n"
   ]
  },
  {
   "cell_type": "markdown",
   "id": "267186b1",
   "metadata": {
    "papermill": {
     "duration": 0.006636,
     "end_time": "2022-09-14T10:02:29.542571",
     "exception": false,
     "start_time": "2022-09-14T10:02:29.535935",
     "status": "completed"
    },
    "tags": []
   },
   "source": [
    "In the tutorial, you learned about four different data types: floats, integers, strings, and booleans.  In this exercise, you'll experiment with them.\n",
    "\n",
    "# Set up the notebook\n",
    "\n",
    "Run the next code cell without changes to set up the notebook."
   ]
  },
  {
   "cell_type": "code",
   "execution_count": 1,
   "id": "2484f6ff",
   "metadata": {
    "execution": {
     "iopub.execute_input": "2022-09-14T10:02:29.563045Z",
     "iopub.status.busy": "2022-09-14T10:02:29.562417Z",
     "iopub.status.idle": "2022-09-14T10:02:29.629301Z",
     "shell.execute_reply": "2022-09-14T10:02:29.627613Z"
    },
    "papermill": {
     "duration": 0.08291,
     "end_time": "2022-09-14T10:02:29.633244",
     "exception": false,
     "start_time": "2022-09-14T10:02:29.550334",
     "status": "completed"
    },
    "tags": []
   },
   "outputs": [
    {
     "name": "stdout",
     "output_type": "stream",
     "text": [
      "Setup complete.\n"
     ]
    }
   ],
   "source": [
    "# Set up the exercise\n",
    "from learntools.core import binder\n",
    "binder.bind(globals())\n",
    "from learntools.intro_to_programming.ex3 import *\n",
    "print('Setup complete.')"
   ]
  },
  {
   "cell_type": "markdown",
   "id": "231fb0f9",
   "metadata": {
    "papermill": {
     "duration": 0.009337,
     "end_time": "2022-09-14T10:02:29.651772",
     "exception": false,
     "start_time": "2022-09-14T10:02:29.642435",
     "status": "completed"
    },
    "tags": []
   },
   "source": [
    "# Question 1\n",
    "\n",
    "You have seen how to convert a float to an integer with the `int` function.  Try this out yourself by running the code cell below."
   ]
  },
  {
   "cell_type": "code",
   "execution_count": 2,
   "id": "4c8a51eb",
   "metadata": {
    "execution": {
     "iopub.execute_input": "2022-09-14T10:02:29.670276Z",
     "iopub.status.busy": "2022-09-14T10:02:29.669328Z",
     "iopub.status.idle": "2022-09-14T10:02:29.680132Z",
     "shell.execute_reply": "2022-09-14T10:02:29.678370Z"
    },
    "papermill": {
     "duration": 0.02217,
     "end_time": "2022-09-14T10:02:29.682680",
     "exception": false,
     "start_time": "2022-09-14T10:02:29.660510",
     "status": "completed"
    },
    "tags": []
   },
   "outputs": [
    {
     "name": "stdout",
     "output_type": "stream",
     "text": [
      "1.0\n",
      "<class 'float'>\n",
      "1\n",
      "<class 'int'>\n"
     ]
    }
   ],
   "source": [
    "# Define a float\n",
    "y = 1.\n",
    "print(y)\n",
    "print(type(y))\n",
    "\n",
    "# Convert float to integer with the int function\n",
    "z = int(y)\n",
    "print(z)\n",
    "print(type(z))"
   ]
  },
  {
   "cell_type": "markdown",
   "id": "637703df",
   "metadata": {
    "papermill": {
     "duration": 0.005942,
     "end_time": "2022-09-14T10:02:29.695118",
     "exception": false,
     "start_time": "2022-09-14T10:02:29.689176",
     "status": "completed"
    },
    "tags": []
   },
   "source": [
    "In this case, the float you are using has no numbers after the decimal.  \n",
    "- But what happens when you try to convert a float with a fractional part to an integer?  \n",
    "- How does the outcome of the `int` function change for positive and negative numbers?\n",
    "\n",
    "Use the next code cell to investigate and answer these questions.  Feel free to add or remove any lines of code -- it is your workspace!"
   ]
  },
  {
   "cell_type": "code",
   "execution_count": 3,
   "id": "09baf2a6",
   "metadata": {
    "execution": {
     "iopub.execute_input": "2022-09-14T10:02:29.709316Z",
     "iopub.status.busy": "2022-09-14T10:02:29.708889Z",
     "iopub.status.idle": "2022-09-14T10:02:29.714790Z",
     "shell.execute_reply": "2022-09-14T10:02:29.713513Z"
    },
    "papermill": {
     "duration": 0.017034,
     "end_time": "2022-09-14T10:02:29.718320",
     "exception": false,
     "start_time": "2022-09-14T10:02:29.701286",
     "status": "completed"
    },
    "tags": []
   },
   "outputs": [
    {
     "name": "stdout",
     "output_type": "stream",
     "text": [
      "1\n",
      "1\n",
      "-3\n",
      "-2\n"
     ]
    }
   ],
   "source": [
    "# Uncomment and run this code to get started!\n",
    "print(int(1.2321))\n",
    "print(int(1.747))\n",
    "print(int(-3.94535))\n",
    "print(int(-2.19774))"
   ]
  },
  {
   "cell_type": "markdown",
   "id": "c1e71a90",
   "metadata": {
    "papermill": {
     "duration": 0.006339,
     "end_time": "2022-09-14T10:02:29.731842",
     "exception": false,
     "start_time": "2022-09-14T10:02:29.725503",
     "status": "completed"
    },
    "tags": []
   },
   "source": [
    "Once you have an answer, run the code cell below to see the solution.  Viewing the solution will give you credit for answering the problem."
   ]
  },
  {
   "cell_type": "code",
   "execution_count": 4,
   "id": "d224955a",
   "metadata": {
    "execution": {
     "iopub.execute_input": "2022-09-14T10:02:29.746804Z",
     "iopub.status.busy": "2022-09-14T10:02:29.745885Z",
     "iopub.status.idle": "2022-09-14T10:02:29.756915Z",
     "shell.execute_reply": "2022-09-14T10:02:29.755878Z"
    },
    "papermill": {
     "duration": 0.020737,
     "end_time": "2022-09-14T10:02:29.759149",
     "exception": false,
     "start_time": "2022-09-14T10:02:29.738412",
     "status": "completed"
    },
    "tags": []
   },
   "outputs": [
    {
     "data": {
      "application/javascript": [
       "parent.postMessage({\"jupyterEvent\": \"custom.exercise_interaction\", \"data\": {\"outcomeType\": 1, \"valueTowardsCompletion\": 0.2, \"interactionType\": 1, \"questionType\": 4, \"questionId\": \"1_FloatToInt\", \"learnToolsVersion\": \"0.3.4\", \"failureMessage\": \"\", \"exceptionClass\": \"\", \"trace\": \"\"}}, \"*\")"
      ],
      "text/plain": [
       "<IPython.core.display.Javascript object>"
      ]
     },
     "metadata": {},
     "output_type": "display_data"
    },
    {
     "data": {
      "text/markdown": [
       "<span style=\"color:#33cc33\">Correct:</span> \n",
       "\n",
       "Negative floats are always rounded UP to the closest integer (for instance, both -1.1 and -1.9 are rounded up to -1). Positive floats are always rounded DOWN to the closest integer (for instance, 2.1 and 2.9 are rounded down to 2)."
      ],
      "text/plain": [
       "Correct: \n",
       "\n",
       "Negative floats are always rounded UP to the closest integer (for instance, both -1.1 and -1.9 are rounded up to -1). Positive floats are always rounded DOWN to the closest integer (for instance, 2.1 and 2.9 are rounded down to 2)."
      ]
     },
     "metadata": {},
     "output_type": "display_data"
    }
   ],
   "source": [
    "# Check your answer (Run this code cell to receive credit!)\n",
    "q1.check()"
   ]
  },
  {
   "cell_type": "markdown",
   "id": "6b3b5928",
   "metadata": {
    "papermill": {
     "duration": 0.006281,
     "end_time": "2022-09-14T10:02:29.772252",
     "exception": false,
     "start_time": "2022-09-14T10:02:29.765971",
     "status": "completed"
    },
    "tags": []
   },
   "source": [
    "# Question 2\n",
    "\n",
    "In the tutorial, you learned about booleans (which can take a value of `True` or `False`), in addition to integers, floats, and strings.  For this question, your goal is to determine what happens when you multiply a boolean by any of these data types.  Specifically, \n",
    "- What happens when you multiply an integer or float by `True`?  What happens when you multiply them by `False`?  How does the answer change if the numbers are positive or negative?\n",
    "- What happens when you multiply a string by `True`?  By `False`?\n",
    "\n",
    "Use the next code cell for your investigation. "
   ]
  },
  {
   "cell_type": "code",
   "execution_count": 5,
   "id": "b0029cb2",
   "metadata": {
    "execution": {
     "iopub.execute_input": "2022-09-14T10:02:29.789236Z",
     "iopub.status.busy": "2022-09-14T10:02:29.788254Z",
     "iopub.status.idle": "2022-09-14T10:02:29.797353Z",
     "shell.execute_reply": "2022-09-14T10:02:29.795736Z"
    },
    "papermill": {
     "duration": 0.021653,
     "end_time": "2022-09-14T10:02:29.800370",
     "exception": false,
     "start_time": "2022-09-14T10:02:29.778717",
     "status": "completed"
    },
    "tags": []
   },
   "outputs": [
    {
     "name": "stdout",
     "output_type": "stream",
     "text": [
      "3\n",
      "-3.1\n",
      "0\n",
      "<class 'str'>\n",
      "0\n"
     ]
    }
   ],
   "source": [
    "# Uncomment and run this code to get started!\n",
    "print(3 * True)\n",
    "print(-3.1 * True)\n",
    "print(3*False)\n",
    "print(type(\"abc\" * False))\n",
    "print(len(\"abc\" * False))"
   ]
  },
  {
   "cell_type": "markdown",
   "id": "0b89fb9a",
   "metadata": {
    "papermill": {
     "duration": 0.007992,
     "end_time": "2022-09-14T10:02:29.816053",
     "exception": false,
     "start_time": "2022-09-14T10:02:29.808061",
     "status": "completed"
    },
    "tags": []
   },
   "source": [
    "Once you have an answer, run the code cell below to see the solution.  Viewing the solution will give you credit for answering the problem."
   ]
  },
  {
   "cell_type": "code",
   "execution_count": 6,
   "id": "922a017e",
   "metadata": {
    "execution": {
     "iopub.execute_input": "2022-09-14T10:02:29.834599Z",
     "iopub.status.busy": "2022-09-14T10:02:29.834219Z",
     "iopub.status.idle": "2022-09-14T10:02:29.843168Z",
     "shell.execute_reply": "2022-09-14T10:02:29.842089Z"
    },
    "papermill": {
     "duration": 0.022225,
     "end_time": "2022-09-14T10:02:29.845379",
     "exception": false,
     "start_time": "2022-09-14T10:02:29.823154",
     "status": "completed"
    },
    "tags": []
   },
   "outputs": [
    {
     "data": {
      "application/javascript": [
       "parent.postMessage({\"jupyterEvent\": \"custom.exercise_interaction\", \"data\": {\"outcomeType\": 1, \"valueTowardsCompletion\": 0.2, \"interactionType\": 1, \"questionType\": 4, \"questionId\": \"2_MultiplyBooleans\", \"learnToolsVersion\": \"0.3.4\", \"failureMessage\": \"\", \"exceptionClass\": \"\", \"trace\": \"\"}}, \"*\")"
      ],
      "text/plain": [
       "<IPython.core.display.Javascript object>"
      ]
     },
     "metadata": {},
     "output_type": "display_data"
    },
    {
     "data": {
      "text/markdown": [
       "<span style=\"color:#33cc33\">Correct:</span> \n",
       "\n",
       "When you multiple an integer or float by a boolean with value `True`, it just returns that same integer or float (and is equivalent to multiplying by 1).  If you multiply an integer or float by a boolean with value `False`, it always returns 0.  This is true for both positive and negative numbers.  If you multiply a string by a boolean with value `True`, it just returns that same string.  And if you multiply a string by a boolean with value `False`, it returns an empty string (or a string with length zero)."
      ],
      "text/plain": [
       "Correct: \n",
       "\n",
       "When you multiple an integer or float by a boolean with value `True`, it just returns that same integer or float (and is equivalent to multiplying by 1).  If you multiply an integer or float by a boolean with value `False`, it always returns 0.  This is true for both positive and negative numbers.  If you multiply a string by a boolean with value `True`, it just returns that same string.  And if you multiply a string by a boolean with value `False`, it returns an empty string (or a string with length zero)."
      ]
     },
     "metadata": {},
     "output_type": "display_data"
    }
   ],
   "source": [
    "# Check your answer (Run this code cell to receive credit!)\n",
    "q2.check()"
   ]
  },
  {
   "cell_type": "markdown",
   "id": "7de4ac2b",
   "metadata": {
    "papermill": {
     "duration": 0.006736,
     "end_time": "2022-09-14T10:02:29.859958",
     "exception": false,
     "start_time": "2022-09-14T10:02:29.853222",
     "status": "completed"
    },
    "tags": []
   },
   "source": [
    "# Question 3\n",
    "\n",
    "In this question, you will build off your work from the previous exercise to write a function that estimates the value of a house.\n",
    "\n",
    "Use the next code cell to create a function `get_expected_cost` that takes as input three variables:\n",
    "- `beds` - number of bedrooms (data type float)\n",
    "- `baths` - number of bathrooms (data type float)\n",
    "- `has_basement` - whether or not the house has a basement (data type boolean)\n",
    "\n",
    "It should return the expected cost of a house with those characteristics. Assume that:\n",
    "- the expected cost for a house with 0 bedrooms and 0 bathrooms, and no basement is 80000, \n",
    "- each bedroom adds 30000 to the expected cost,\n",
    "- each bathroom adds 10000 to the expected cost, and\n",
    "- a basement adds 40000 to the expected cost.\n",
    "\n",
    "For instance,\n",
    "- a house with 1 bedroom, 1 bathroom, and no basement has an expected cost of 80000 + 30000 + 10000 = 120000.  This value will be calculated with `get_expected_cost(1, 1, False)`.\n",
    "- a house with 2 bedrooms, 1 bathroom, and a basement has an expected cost of 80000 + 2*30000 + 10000 + 40000 = 190000.  This value will be calculated with `get_expected_cost(2, 1, True)`.\n",
    "\n",
    "Remember you can always get a hint by uncommenting `q3.hint()` in the code cell following the next!"
   ]
  },
  {
   "cell_type": "code",
   "execution_count": 7,
   "id": "5b1e45e9",
   "metadata": {
    "execution": {
     "iopub.execute_input": "2022-09-14T10:02:29.876050Z",
     "iopub.status.busy": "2022-09-14T10:02:29.875571Z",
     "iopub.status.idle": "2022-09-14T10:02:29.884714Z",
     "shell.execute_reply": "2022-09-14T10:02:29.883872Z"
    },
    "papermill": {
     "duration": 0.020124,
     "end_time": "2022-09-14T10:02:29.887003",
     "exception": false,
     "start_time": "2022-09-14T10:02:29.866879",
     "status": "completed"
    },
    "tags": []
   },
   "outputs": [
    {
     "data": {
      "application/javascript": [
       "parent.postMessage({\"jupyterEvent\": \"custom.exercise_interaction\", \"data\": {\"outcomeType\": 1, \"valueTowardsCompletion\": 0.2, \"interactionType\": 1, \"questionType\": 2, \"questionId\": \"3_EstimateHouseValueBool\", \"learnToolsVersion\": \"0.3.4\", \"failureMessage\": \"\", \"exceptionClass\": \"\", \"trace\": \"\"}}, \"*\")"
      ],
      "text/plain": [
       "<IPython.core.display.Javascript object>"
      ]
     },
     "metadata": {},
     "output_type": "display_data"
    },
    {
     "data": {
      "text/markdown": [
       "<span style=\"color:#33cc33\">Correct</span>"
      ],
      "text/plain": [
       "Correct"
      ]
     },
     "metadata": {},
     "output_type": "display_data"
    }
   ],
   "source": [
    "# TODO: Complete the function\n",
    "def get_expected_cost(beds, baths, has_basement):\n",
    "    value = 80000+30000*beds+10000*baths+40000*has_basement\n",
    "    return value\n",
    "\n",
    "# Check your answer \n",
    "q3.check()"
   ]
  },
  {
   "cell_type": "code",
   "execution_count": 8,
   "id": "38f38d3e",
   "metadata": {
    "execution": {
     "iopub.execute_input": "2022-09-14T10:02:29.903359Z",
     "iopub.status.busy": "2022-09-14T10:02:29.902976Z",
     "iopub.status.idle": "2022-09-14T10:02:29.906980Z",
     "shell.execute_reply": "2022-09-14T10:02:29.906068Z"
    },
    "papermill": {
     "duration": 0.014767,
     "end_time": "2022-09-14T10:02:29.909136",
     "exception": false,
     "start_time": "2022-09-14T10:02:29.894369",
     "status": "completed"
    },
    "tags": []
   },
   "outputs": [],
   "source": [
    "# Uncomment to see a hint\n",
    "#q3.hint()\n",
    "\n",
    "# Uncomment to view the solution\n",
    "#q3.solution()"
   ]
  },
  {
   "cell_type": "markdown",
   "id": "6617b078",
   "metadata": {
    "papermill": {
     "duration": 0.007045,
     "end_time": "2022-09-14T10:02:29.923494",
     "exception": false,
     "start_time": "2022-09-14T10:02:29.916449",
     "status": "completed"
    },
    "tags": []
   },
   "source": [
    "# Question 4\n",
    "\n",
    "We'll continue our study of boolean arithmetic.  For this question, your task is to provide a description of what happpens when you add booleans. \n",
    "\n",
    "Use the next code cell for your investigation.  Feel free to add or remove any lines of code - use it as your workspace!"
   ]
  },
  {
   "cell_type": "code",
   "execution_count": 9,
   "id": "18c596d5",
   "metadata": {
    "execution": {
     "iopub.execute_input": "2022-09-14T10:02:29.939806Z",
     "iopub.status.busy": "2022-09-14T10:02:29.939372Z",
     "iopub.status.idle": "2022-09-14T10:02:29.946071Z",
     "shell.execute_reply": "2022-09-14T10:02:29.944808Z"
    },
    "papermill": {
     "duration": 0.01753,
     "end_time": "2022-09-14T10:02:29.948417",
     "exception": false,
     "start_time": "2022-09-14T10:02:29.930887",
     "status": "completed"
    },
    "tags": []
   },
   "outputs": [
    {
     "name": "stdout",
     "output_type": "stream",
     "text": [
      "0\n",
      "1\n",
      "1\n",
      "2\n",
      "3\n"
     ]
    }
   ],
   "source": [
    "print(False + False)\n",
    "print(True + False)\n",
    "print(False + True)\n",
    "print(True + True)\n",
    "print(False + True + True + True)"
   ]
  },
  {
   "cell_type": "markdown",
   "id": "c426d70b",
   "metadata": {
    "papermill": {
     "duration": 0.00687,
     "end_time": "2022-09-14T10:02:29.962716",
     "exception": false,
     "start_time": "2022-09-14T10:02:29.955846",
     "status": "completed"
    },
    "tags": []
   },
   "source": [
    "Once you have an answer, run the code cell below to see the solution.  Viewing the solution will give you credit for answering the problem."
   ]
  },
  {
   "cell_type": "code",
   "execution_count": 10,
   "id": "a88fb9e0",
   "metadata": {
    "execution": {
     "iopub.execute_input": "2022-09-14T10:02:29.978924Z",
     "iopub.status.busy": "2022-09-14T10:02:29.978466Z",
     "iopub.status.idle": "2022-09-14T10:02:29.987588Z",
     "shell.execute_reply": "2022-09-14T10:02:29.986676Z"
    },
    "papermill": {
     "duration": 0.019884,
     "end_time": "2022-09-14T10:02:29.989878",
     "exception": false,
     "start_time": "2022-09-14T10:02:29.969994",
     "status": "completed"
    },
    "tags": []
   },
   "outputs": [
    {
     "data": {
      "application/javascript": [
       "parent.postMessage({\"jupyterEvent\": \"custom.exercise_interaction\", \"data\": {\"outcomeType\": 1, \"valueTowardsCompletion\": 0.2, \"interactionType\": 1, \"questionType\": 4, \"questionId\": \"4_AddingBooleans\", \"learnToolsVersion\": \"0.3.4\", \"failureMessage\": \"\", \"exceptionClass\": \"\", \"trace\": \"\"}}, \"*\")"
      ],
      "text/plain": [
       "<IPython.core.display.Javascript object>"
      ]
     },
     "metadata": {},
     "output_type": "display_data"
    },
    {
     "data": {
      "text/markdown": [
       "<span style=\"color:#33cc33\">Correct:</span> \n",
       "\n",
       "When you add booleans, adding `False` is equivalent to adding 0, and adding `True` is equivalent to adding 1."
      ],
      "text/plain": [
       "Correct: \n",
       "\n",
       "When you add booleans, adding `False` is equivalent to adding 0, and adding `True` is equivalent to adding 1."
      ]
     },
     "metadata": {},
     "output_type": "display_data"
    }
   ],
   "source": [
    "# Check your answer (Run this code cell to receive credit!)\n",
    "q4.check()"
   ]
  },
  {
   "cell_type": "markdown",
   "id": "9726ead3",
   "metadata": {
    "papermill": {
     "duration": 0.007345,
     "end_time": "2022-09-14T10:02:30.004725",
     "exception": false,
     "start_time": "2022-09-14T10:02:29.997380",
     "status": "completed"
    },
    "tags": []
   },
   "source": [
    "# 🌶️ Question 5\n",
    "\n",
    "You own an online shop where you sell rings with custom engravings.  You offer both gold plated and solid gold rings.\n",
    "- Gold plated rings have a base cost of \\\\$50, and you charge \\\\$7 per engraved unit.  \n",
    "- Solid gold rings have a base cost of \\\\$100, and you charge \\\\$10 per engraved unit.\n",
    "- Spaces and punctuation are counted as engraved units.\n",
    "\n",
    "Write a function `cost_of_project()` that takes two arguments:\n",
    "- `engraving` - a Python string with the text of the engraving\n",
    "- `solid_gold` - a Boolean that indicates whether the ring is solid gold\n",
    "\n",
    "It should return the cost of the project.  This question should be fairly challenging, and you may need a hint."
   ]
  },
  {
   "cell_type": "code",
   "execution_count": 11,
   "id": "0c8ad748",
   "metadata": {
    "execution": {
     "iopub.execute_input": "2022-09-14T10:02:30.021468Z",
     "iopub.status.busy": "2022-09-14T10:02:30.021086Z",
     "iopub.status.idle": "2022-09-14T10:02:30.031746Z",
     "shell.execute_reply": "2022-09-14T10:02:30.030894Z"
    },
    "papermill": {
     "duration": 0.021873,
     "end_time": "2022-09-14T10:02:30.034034",
     "exception": false,
     "start_time": "2022-09-14T10:02:30.012161",
     "status": "completed"
    },
    "tags": []
   },
   "outputs": [
    {
     "data": {
      "application/javascript": [
       "parent.postMessage({\"jupyterEvent\": \"custom.exercise_interaction\", \"data\": {\"outcomeType\": 1, \"valueTowardsCompletion\": 0.2, \"interactionType\": 1, \"questionType\": 2, \"questionId\": \"5_CustomEngravings\", \"learnToolsVersion\": \"0.3.4\", \"failureMessage\": \"\", \"exceptionClass\": \"\", \"trace\": \"\"}}, \"*\")"
      ],
      "text/plain": [
       "<IPython.core.display.Javascript object>"
      ]
     },
     "metadata": {},
     "output_type": "display_data"
    },
    {
     "data": {
      "text/markdown": [
       "<span style=\"color:#33cc33\">Correct</span>"
      ],
      "text/plain": [
       "Correct"
      ]
     },
     "metadata": {},
     "output_type": "display_data"
    }
   ],
   "source": [
    "def cost_of_project(engraving, solid_gold):\n",
    "    cost = solid_gold*(100+10*len(engraving))+(not solid_gold)*(50+7*len(engraving))\n",
    "    return cost\n",
    "\n",
    "# Check your answer\n",
    "q5.check()"
   ]
  },
  {
   "cell_type": "code",
   "execution_count": 12,
   "id": "bcf3a889",
   "metadata": {
    "execution": {
     "iopub.execute_input": "2022-09-14T10:02:30.051550Z",
     "iopub.status.busy": "2022-09-14T10:02:30.051180Z",
     "iopub.status.idle": "2022-09-14T10:02:30.055586Z",
     "shell.execute_reply": "2022-09-14T10:02:30.054361Z"
    },
    "papermill": {
     "duration": 0.015846,
     "end_time": "2022-09-14T10:02:30.057782",
     "exception": false,
     "start_time": "2022-09-14T10:02:30.041936",
     "status": "completed"
    },
    "tags": []
   },
   "outputs": [],
   "source": [
    "# Uncomment to see a hint\n",
    "#q5.hint()\n",
    "\n",
    "# Uncomment to view the solution\n",
    "#q5.solution()"
   ]
  },
  {
   "cell_type": "markdown",
   "id": "66caa5a0",
   "metadata": {
    "papermill": {
     "duration": 0.007679,
     "end_time": "2022-09-14T10:02:30.073238",
     "exception": false,
     "start_time": "2022-09-14T10:02:30.065559",
     "status": "completed"
    },
    "tags": []
   },
   "source": [
    "Run the next code cell to calculate the cost of engraving `Charlie+Denver` on a solid gold ring."
   ]
  },
  {
   "cell_type": "code",
   "execution_count": 13,
   "id": "2e189269",
   "metadata": {
    "execution": {
     "iopub.execute_input": "2022-09-14T10:02:30.090860Z",
     "iopub.status.busy": "2022-09-14T10:02:30.090444Z",
     "iopub.status.idle": "2022-09-14T10:02:30.096257Z",
     "shell.execute_reply": "2022-09-14T10:02:30.095065Z"
    },
    "papermill": {
     "duration": 0.017517,
     "end_time": "2022-09-14T10:02:30.098645",
     "exception": false,
     "start_time": "2022-09-14T10:02:30.081128",
     "status": "completed"
    },
    "tags": []
   },
   "outputs": [
    {
     "name": "stdout",
     "output_type": "stream",
     "text": [
      "240\n"
     ]
    }
   ],
   "source": [
    "project_one = cost_of_project(\"Charlie+Denver\", True)\n",
    "print(project_one)"
   ]
  },
  {
   "cell_type": "markdown",
   "id": "d8e95b2f",
   "metadata": {
    "papermill": {
     "duration": 0.007763,
     "end_time": "2022-09-14T10:02:30.114430",
     "exception": false,
     "start_time": "2022-09-14T10:02:30.106667",
     "status": "completed"
    },
    "tags": []
   },
   "source": [
    "Use the next code cell to calculate the cost of engraving `08/10/2000` on a gold plated ring."
   ]
  },
  {
   "cell_type": "code",
   "execution_count": 14,
   "id": "58c8dad1",
   "metadata": {
    "execution": {
     "iopub.execute_input": "2022-09-14T10:02:30.131888Z",
     "iopub.status.busy": "2022-09-14T10:02:30.131462Z",
     "iopub.status.idle": "2022-09-14T10:02:30.137408Z",
     "shell.execute_reply": "2022-09-14T10:02:30.136344Z"
    },
    "papermill": {
     "duration": 0.017486,
     "end_time": "2022-09-14T10:02:30.139781",
     "exception": false,
     "start_time": "2022-09-14T10:02:30.122295",
     "status": "completed"
    },
    "tags": []
   },
   "outputs": [
    {
     "name": "stdout",
     "output_type": "stream",
     "text": [
      "120\n"
     ]
    }
   ],
   "source": [
    "project_two = cost_of_project(\"08/10/2000\", False)\n",
    "print(project_two)"
   ]
  },
  {
   "cell_type": "markdown",
   "id": "78155c37",
   "metadata": {
    "papermill": {
     "duration": 0.00755,
     "end_time": "2022-09-14T10:02:30.155342",
     "exception": false,
     "start_time": "2022-09-14T10:02:30.147792",
     "status": "completed"
    },
    "tags": []
   },
   "source": [
    "# Keep going\n",
    "\n",
    "Continue to the next lesson to **[learn about conditions and conditional statements](https://www.kaggle.com/alexisbcook/conditions-and-conditional-statements)**."
   ]
  },
  {
   "cell_type": "markdown",
   "id": "d5e29636",
   "metadata": {
    "papermill": {
     "duration": 0.007327,
     "end_time": "2022-09-14T10:02:30.170380",
     "exception": false,
     "start_time": "2022-09-14T10:02:30.163053",
     "status": "completed"
    },
    "tags": []
   },
   "source": [
    "---\n",
    "\n",
    "\n",
    "\n",
    "\n",
    "*Have questions or comments? Visit the [course discussion forum](https://www.kaggle.com/learn/intro-to-programming/discussion) to chat with other learners.*"
   ]
  }
 ],
 "metadata": {
  "kernelspec": {
   "display_name": "Python 3",
   "language": "python",
   "name": "python3"
  },
  "language_info": {
   "codemirror_mode": {
    "name": "ipython",
    "version": 3
   },
   "file_extension": ".py",
   "mimetype": "text/x-python",
   "name": "python",
   "nbconvert_exporter": "python",
   "pygments_lexer": "ipython3",
   "version": "3.7.12"
  },
  "papermill": {
   "default_parameters": {},
   "duration": 10.230497,
   "end_time": "2022-09-14T10:02:30.799067",
   "environment_variables": {},
   "exception": null,
   "input_path": "__notebook__.ipynb",
   "output_path": "__notebook__.ipynb",
   "parameters": {},
   "start_time": "2022-09-14T10:02:20.568570",
   "version": "2.3.4"
  }
 },
 "nbformat": 4,
 "nbformat_minor": 5
}
