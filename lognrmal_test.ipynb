{
 "cells": [
  {
   "cell_type": "code",
   "execution_count": 1,
   "id": "f182a777",
   "metadata": {
    "_cell_guid": "b1076dfc-b9ad-4769-8c92-a6c4dae69d19",
    "_uuid": "8f2839f25d086af736a60e9eeb907d3b93b6e0e5",
    "execution": {
     "iopub.execute_input": "2022-10-21T05:50:28.859046Z",
     "iopub.status.busy": "2022-10-21T05:50:28.858313Z",
     "iopub.status.idle": "2022-10-21T05:50:28.881540Z",
     "shell.execute_reply": "2022-10-21T05:50:28.880060Z"
    },
    "papermill": {
     "duration": 0.046338,
     "end_time": "2022-10-21T05:50:28.885098",
     "exception": false,
     "start_time": "2022-10-21T05:50:28.838760",
     "status": "completed"
    },
    "tags": []
   },
   "outputs": [
    {
     "name": "stdout",
     "output_type": "stream",
     "text": [
      "/kaggle/input/lognrml/assignment_python.csv\n"
     ]
    }
   ],
   "source": [
    "# This Python 3 environment comes with many helpful analytics libraries installed\n",
    "# It is defined by the kaggle/python Docker image: https://github.com/kaggle/docker-python\n",
    "# For example, here's several helpful packages to load\n",
    "\n",
    "import numpy as np # linear algebra\n",
    "import pandas as pd # data processing, CSV file I/O (e.g. pd.read_csv)\n",
    "\n",
    "# Input data files are available in the read-only \"../input/\" directory\n",
    "# For example, running this (by clicking run or pressing Shift+Enter) will list all files under the input directory\n",
    "\n",
    "import os\n",
    "for dirname, _, filenames in os.walk('/kaggle/input'):\n",
    "    for filename in filenames:\n",
    "        print(os.path.join(dirname, filename))\n",
    "\n",
    "# You can write up to 20GB to the current directory (/kaggle/working/) that gets preserved as output when you create a version using \"Save & Run All\" \n",
    "# You can also write temporary files to /kaggle/temp/, but they won't be saved outside of the current session"
   ]
  },
  {
   "cell_type": "markdown",
   "id": "4d20ac7a",
   "metadata": {
    "papermill": {
     "duration": 0.017163,
     "end_time": "2022-10-21T05:50:28.917191",
     "exception": false,
     "start_time": "2022-10-21T05:50:28.900028",
     "status": "completed"
    },
    "tags": []
   },
   "source": [
    "### Importing Required Library."
   ]
  },
  {
   "cell_type": "code",
   "execution_count": 2,
   "id": "2548e089",
   "metadata": {
    "execution": {
     "iopub.execute_input": "2022-10-21T05:50:28.950429Z",
     "iopub.status.busy": "2022-10-21T05:50:28.949679Z",
     "iopub.status.idle": "2022-10-21T05:50:30.333259Z",
     "shell.execute_reply": "2022-10-21T05:50:30.331947Z"
    },
    "papermill": {
     "duration": 1.404433,
     "end_time": "2022-10-21T05:50:30.336585",
     "exception": false,
     "start_time": "2022-10-21T05:50:28.932152",
     "status": "completed"
    },
    "tags": []
   },
   "outputs": [],
   "source": [
    "import numpy as np \n",
    "import pandas as pd\n",
    "import matplotlib.pyplot as plt\n",
    "import seaborn as sns\n",
    "\n",
    "from datetime import date"
   ]
  },
  {
   "cell_type": "markdown",
   "id": "72cd0eef",
   "metadata": {
    "papermill": {
     "duration": 0.013741,
     "end_time": "2022-10-21T05:50:30.364783",
     "exception": false,
     "start_time": "2022-10-21T05:50:30.351042",
     "status": "completed"
    },
    "tags": []
   },
   "source": [
    "# 1. Load the Data in the file - \"assignment_python.csv\" given to you as a .csv using Pandas\n",
    "### Loding CSV file data."
   ]
  },
  {
   "cell_type": "code",
   "execution_count": 3,
   "id": "793eaf2c",
   "metadata": {
    "execution": {
     "iopub.execute_input": "2022-10-21T05:50:30.396020Z",
     "iopub.status.busy": "2022-10-21T05:50:30.395525Z",
     "iopub.status.idle": "2022-10-21T05:50:30.471424Z",
     "shell.execute_reply": "2022-10-21T05:50:30.469793Z"
    },
    "papermill": {
     "duration": 0.095485,
     "end_time": "2022-10-21T05:50:30.474779",
     "exception": false,
     "start_time": "2022-10-21T05:50:30.379294",
     "status": "completed"
    },
    "tags": []
   },
   "outputs": [],
   "source": [
    "df=pd.read_csv(\"/kaggle/input/lognrml/assignment_python.csv\")\n",
    "dfx=df"
   ]
  },
  {
   "cell_type": "markdown",
   "id": "89c2f28b",
   "metadata": {
    "papermill": {
     "duration": 0.013898,
     "end_time": "2022-10-21T05:50:30.503243",
     "exception": false,
     "start_time": "2022-10-21T05:50:30.489345",
     "status": "completed"
    },
    "tags": []
   },
   "source": [
    "#### Printing first 15 line of CSV / DataFrame"
   ]
  },
  {
   "cell_type": "code",
   "execution_count": 4,
   "id": "3b50306e",
   "metadata": {
    "execution": {
     "iopub.execute_input": "2022-10-21T05:50:30.534159Z",
     "iopub.status.busy": "2022-10-21T05:50:30.533661Z",
     "iopub.status.idle": "2022-10-21T05:50:30.564891Z",
     "shell.execute_reply": "2022-10-21T05:50:30.563335Z"
    },
    "papermill": {
     "duration": 0.050386,
     "end_time": "2022-10-21T05:50:30.567902",
     "exception": false,
     "start_time": "2022-10-21T05:50:30.517516",
     "status": "completed"
    },
    "tags": []
   },
   "outputs": [
    {
     "data": {
      "text/html": [
       "<div>\n",
       "<style scoped>\n",
       "    .dataframe tbody tr th:only-of-type {\n",
       "        vertical-align: middle;\n",
       "    }\n",
       "\n",
       "    .dataframe tbody tr th {\n",
       "        vertical-align: top;\n",
       "    }\n",
       "\n",
       "    .dataframe thead th {\n",
       "        text-align: right;\n",
       "    }\n",
       "</style>\n",
       "<table border=\"1\" class=\"dataframe\">\n",
       "  <thead>\n",
       "    <tr style=\"text-align: right;\">\n",
       "      <th></th>\n",
       "      <th>IDCUSTOMER</th>\n",
       "      <th>GENDER</th>\n",
       "      <th>CITY</th>\n",
       "      <th>COUNTRY</th>\n",
       "      <th>FIRST_DEPOSIT_AMOUNT</th>\n",
       "      <th>REGISTRATION_DATE</th>\n",
       "      <th>DEPOSIT_DATE</th>\n",
       "    </tr>\n",
       "  </thead>\n",
       "  <tbody>\n",
       "    <tr>\n",
       "      <th>0</th>\n",
       "      <td>5075649</td>\n",
       "      <td>M</td>\n",
       "      <td>ankara</td>\n",
       "      <td>Turkey</td>\n",
       "      <td>100.0</td>\n",
       "      <td>2009-01-10</td>\n",
       "      <td>2022-06-05</td>\n",
       "    </tr>\n",
       "    <tr>\n",
       "      <th>1</th>\n",
       "      <td>5176235</td>\n",
       "      <td>M</td>\n",
       "      <td>elazığ</td>\n",
       "      <td>Turkey</td>\n",
       "      <td>400.0</td>\n",
       "      <td>2009-03-01</td>\n",
       "      <td>2022-02-11</td>\n",
       "    </tr>\n",
       "    <tr>\n",
       "      <th>2</th>\n",
       "      <td>5249140</td>\n",
       "      <td>M</td>\n",
       "      <td>izmir</td>\n",
       "      <td>Turkey</td>\n",
       "      <td>200.0</td>\n",
       "      <td>2009-04-06</td>\n",
       "      <td>2022-05-02</td>\n",
       "    </tr>\n",
       "    <tr>\n",
       "      <th>3</th>\n",
       "      <td>5300998</td>\n",
       "      <td>M</td>\n",
       "      <td>Üsküdar</td>\n",
       "      <td>Turkey</td>\n",
       "      <td>100.0</td>\n",
       "      <td>2009-05-02</td>\n",
       "      <td>2022-02-11</td>\n",
       "    </tr>\n",
       "    <tr>\n",
       "      <th>4</th>\n",
       "      <td>5371454</td>\n",
       "      <td>M</td>\n",
       "      <td>sakarya</td>\n",
       "      <td>Turkey</td>\n",
       "      <td>880.0</td>\n",
       "      <td>2009-06-07</td>\n",
       "      <td>2022-05-29</td>\n",
       "    </tr>\n",
       "    <tr>\n",
       "      <th>5</th>\n",
       "      <td>5636637</td>\n",
       "      <td>M</td>\n",
       "      <td>ANKARA</td>\n",
       "      <td>Turkey</td>\n",
       "      <td>100.0</td>\n",
       "      <td>2009-10-29</td>\n",
       "      <td>2022-03-15</td>\n",
       "    </tr>\n",
       "    <tr>\n",
       "      <th>6</th>\n",
       "      <td>5670349</td>\n",
       "      <td>M</td>\n",
       "      <td>hatay antakya</td>\n",
       "      <td>Turkey</td>\n",
       "      <td>50.0</td>\n",
       "      <td>2009-11-10</td>\n",
       "      <td>2022-03-16</td>\n",
       "    </tr>\n",
       "    <tr>\n",
       "      <th>7</th>\n",
       "      <td>5731391</td>\n",
       "      <td>M</td>\n",
       "      <td>İstanbul</td>\n",
       "      <td>Turkey</td>\n",
       "      <td>50.0</td>\n",
       "      <td>2009-12-03</td>\n",
       "      <td>2022-03-08</td>\n",
       "    </tr>\n",
       "    <tr>\n",
       "      <th>8</th>\n",
       "      <td>5769004</td>\n",
       "      <td>M</td>\n",
       "      <td>antalya</td>\n",
       "      <td>Turkey</td>\n",
       "      <td>100.0</td>\n",
       "      <td>2009-12-17</td>\n",
       "      <td>2022-07-07</td>\n",
       "    </tr>\n",
       "    <tr>\n",
       "      <th>9</th>\n",
       "      <td>5840612</td>\n",
       "      <td>M</td>\n",
       "      <td>tekirdağ çorlu</td>\n",
       "      <td>Turkey</td>\n",
       "      <td>50.0</td>\n",
       "      <td>2010-01-17</td>\n",
       "      <td>2022-07-06</td>\n",
       "    </tr>\n",
       "    <tr>\n",
       "      <th>10</th>\n",
       "      <td>5871190</td>\n",
       "      <td>M</td>\n",
       "      <td>istanbul kadiköy</td>\n",
       "      <td>Turkey</td>\n",
       "      <td>50.0</td>\n",
       "      <td>2010-01-29</td>\n",
       "      <td>2022-03-18</td>\n",
       "    </tr>\n",
       "    <tr>\n",
       "      <th>11</th>\n",
       "      <td>5928887</td>\n",
       "      <td>M</td>\n",
       "      <td>milas</td>\n",
       "      <td>Turkey</td>\n",
       "      <td>400.0</td>\n",
       "      <td>2010-02-20</td>\n",
       "      <td>2022-02-13</td>\n",
       "    </tr>\n",
       "    <tr>\n",
       "      <th>12</th>\n",
       "      <td>5956458</td>\n",
       "      <td>M</td>\n",
       "      <td>eskısehır</td>\n",
       "      <td>Turkey</td>\n",
       "      <td>50.0</td>\n",
       "      <td>2010-03-05</td>\n",
       "      <td>2022-02-17</td>\n",
       "    </tr>\n",
       "    <tr>\n",
       "      <th>13</th>\n",
       "      <td>6089455</td>\n",
       "      <td>M</td>\n",
       "      <td>Kahramanmaraş</td>\n",
       "      <td>Turkey</td>\n",
       "      <td>59.0</td>\n",
       "      <td>2010-05-20</td>\n",
       "      <td>2022-04-10</td>\n",
       "    </tr>\n",
       "    <tr>\n",
       "      <th>14</th>\n",
       "      <td>6308160</td>\n",
       "      <td>M</td>\n",
       "      <td>KIRKLARELİ LULEBURGAZ</td>\n",
       "      <td>Turkey</td>\n",
       "      <td>50.0</td>\n",
       "      <td>2010-09-01</td>\n",
       "      <td>2022-02-01</td>\n",
       "    </tr>\n",
       "  </tbody>\n",
       "</table>\n",
       "</div>"
      ],
      "text/plain": [
       "    IDCUSTOMER GENDER                   CITY COUNTRY  FIRST_DEPOSIT_AMOUNT  \\\n",
       "0      5075649      M                 ankara  Turkey                 100.0   \n",
       "1      5176235      M                 elazığ  Turkey                 400.0   \n",
       "2      5249140      M                  izmir  Turkey                 200.0   \n",
       "3      5300998      M                Üsküdar  Turkey                 100.0   \n",
       "4      5371454      M                sakarya  Turkey                 880.0   \n",
       "5      5636637      M                 ANKARA  Turkey                 100.0   \n",
       "6      5670349      M          hatay antakya  Turkey                  50.0   \n",
       "7      5731391      M               İstanbul  Turkey                  50.0   \n",
       "8      5769004      M                antalya  Turkey                 100.0   \n",
       "9      5840612      M         tekirdağ çorlu  Turkey                  50.0   \n",
       "10     5871190      M       istanbul kadiköy  Turkey                  50.0   \n",
       "11     5928887      M                  milas  Turkey                 400.0   \n",
       "12     5956458      M              eskısehır  Turkey                  50.0   \n",
       "13     6089455      M          Kahramanmaraş  Turkey                  59.0   \n",
       "14     6308160      M  KIRKLARELİ LULEBURGAZ  Turkey                  50.0   \n",
       "\n",
       "   REGISTRATION_DATE DEPOSIT_DATE  \n",
       "0         2009-01-10   2022-06-05  \n",
       "1         2009-03-01   2022-02-11  \n",
       "2         2009-04-06   2022-05-02  \n",
       "3         2009-05-02   2022-02-11  \n",
       "4         2009-06-07   2022-05-29  \n",
       "5         2009-10-29   2022-03-15  \n",
       "6         2009-11-10   2022-03-16  \n",
       "7         2009-12-03   2022-03-08  \n",
       "8         2009-12-17   2022-07-07  \n",
       "9         2010-01-17   2022-07-06  \n",
       "10        2010-01-29   2022-03-18  \n",
       "11        2010-02-20   2022-02-13  \n",
       "12        2010-03-05   2022-02-17  \n",
       "13        2010-05-20   2022-04-10  \n",
       "14        2010-09-01   2022-02-01  "
      ]
     },
     "execution_count": 4,
     "metadata": {},
     "output_type": "execute_result"
    }
   ],
   "source": [
    "df.head(15)"
   ]
  },
  {
   "cell_type": "markdown",
   "id": "02b5476d",
   "metadata": {
    "papermill": {
     "duration": 0.015282,
     "end_time": "2022-10-21T05:50:30.599771",
     "exception": false,
     "start_time": "2022-10-21T05:50:30.584489",
     "status": "completed"
    },
    "tags": []
   },
   "source": [
    "# 2. Understand the data using the columns given (metadata descriptions below)\n",
    "\n",
    "### Knowing the Shape of DataFrame for better understanding of Data."
   ]
  },
  {
   "cell_type": "code",
   "execution_count": 5,
   "id": "7fe38261",
   "metadata": {
    "execution": {
     "iopub.execute_input": "2022-10-21T05:50:30.633164Z",
     "iopub.status.busy": "2022-10-21T05:50:30.632571Z",
     "iopub.status.idle": "2022-10-21T05:50:30.671042Z",
     "shell.execute_reply": "2022-10-21T05:50:30.669163Z"
    },
    "papermill": {
     "duration": 0.059078,
     "end_time": "2022-10-21T05:50:30.674702",
     "exception": false,
     "start_time": "2022-10-21T05:50:30.615624",
     "status": "completed"
    },
    "tags": []
   },
   "outputs": [
    {
     "name": "stdout",
     "output_type": "stream",
     "text": [
      "<class 'pandas.core.frame.DataFrame'>\n",
      "RangeIndex: 22065 entries, 0 to 22064\n",
      "Data columns (total 7 columns):\n",
      " #   Column                Non-Null Count  Dtype  \n",
      "---  ------                --------------  -----  \n",
      " 0   IDCUSTOMER            22065 non-null  int64  \n",
      " 1   GENDER                22065 non-null  object \n",
      " 2   CITY                  22065 non-null  object \n",
      " 3   COUNTRY               22065 non-null  object \n",
      " 4   FIRST_DEPOSIT_AMOUNT  22065 non-null  float64\n",
      " 5   REGISTRATION_DATE     22065 non-null  object \n",
      " 6   DEPOSIT_DATE          22065 non-null  object \n",
      "dtypes: float64(1), int64(1), object(5)\n",
      "memory usage: 1.2+ MB\n"
     ]
    }
   ],
   "source": [
    "df.info()"
   ]
  },
  {
   "cell_type": "code",
   "execution_count": 6,
   "id": "a770caea",
   "metadata": {
    "execution": {
     "iopub.execute_input": "2022-10-21T05:50:30.706568Z",
     "iopub.status.busy": "2022-10-21T05:50:30.705994Z",
     "iopub.status.idle": "2022-10-21T05:50:30.714290Z",
     "shell.execute_reply": "2022-10-21T05:50:30.712519Z"
    },
    "papermill": {
     "duration": 0.027515,
     "end_time": "2022-10-21T05:50:30.716945",
     "exception": false,
     "start_time": "2022-10-21T05:50:30.689430",
     "status": "completed"
    },
    "tags": []
   },
   "outputs": [
    {
     "data": {
      "text/plain": [
       "(22065, 7)"
      ]
     },
     "execution_count": 6,
     "metadata": {},
     "output_type": "execute_result"
    }
   ],
   "source": [
    "df.shape #Shape of DataFrame "
   ]
  },
  {
   "cell_type": "markdown",
   "id": "bf413489",
   "metadata": {
    "papermill": {
     "duration": 0.014006,
     "end_time": "2022-10-21T05:50:30.745770",
     "exception": false,
     "start_time": "2022-10-21T05:50:30.731764",
     "status": "completed"
    },
    "tags": []
   },
   "source": [
    "### Cheking the Data types"
   ]
  },
  {
   "cell_type": "code",
   "execution_count": 7,
   "id": "0b296660",
   "metadata": {
    "execution": {
     "iopub.execute_input": "2022-10-21T05:50:30.778141Z",
     "iopub.status.busy": "2022-10-21T05:50:30.777511Z",
     "iopub.status.idle": "2022-10-21T05:50:30.788130Z",
     "shell.execute_reply": "2022-10-21T05:50:30.786701Z"
    },
    "papermill": {
     "duration": 0.029712,
     "end_time": "2022-10-21T05:50:30.790746",
     "exception": false,
     "start_time": "2022-10-21T05:50:30.761034",
     "status": "completed"
    },
    "tags": []
   },
   "outputs": [
    {
     "data": {
      "text/plain": [
       "IDCUSTOMER                int64\n",
       "GENDER                   object\n",
       "CITY                     object\n",
       "COUNTRY                  object\n",
       "FIRST_DEPOSIT_AMOUNT    float64\n",
       "REGISTRATION_DATE        object\n",
       "DEPOSIT_DATE             object\n",
       "dtype: object"
      ]
     },
     "execution_count": 7,
     "metadata": {},
     "output_type": "execute_result"
    }
   ],
   "source": [
    "df.dtypes #Data types of DataFrame Columns "
   ]
  },
  {
   "cell_type": "markdown",
   "id": "41b90bd9",
   "metadata": {
    "papermill": {
     "duration": 0.015238,
     "end_time": "2022-10-21T05:50:30.821062",
     "exception": false,
     "start_time": "2022-10-21T05:50:30.805824",
     "status": "completed"
    },
    "tags": []
   },
   "source": [
    "## Data Preprocessing:\n",
    "> ### Cheking is there any column have **NULL** value."
   ]
  },
  {
   "cell_type": "code",
   "execution_count": 8,
   "id": "f0215fad",
   "metadata": {
    "execution": {
     "iopub.execute_input": "2022-10-21T05:50:30.855769Z",
     "iopub.status.busy": "2022-10-21T05:50:30.855289Z",
     "iopub.status.idle": "2022-10-21T05:50:30.872213Z",
     "shell.execute_reply": "2022-10-21T05:50:30.870957Z"
    },
    "papermill": {
     "duration": 0.037999,
     "end_time": "2022-10-21T05:50:30.875549",
     "exception": false,
     "start_time": "2022-10-21T05:50:30.837550",
     "status": "completed"
    },
    "tags": []
   },
   "outputs": [
    {
     "data": {
      "text/plain": [
       "IDCUSTOMER              False\n",
       "GENDER                  False\n",
       "CITY                    False\n",
       "COUNTRY                 False\n",
       "FIRST_DEPOSIT_AMOUNT    False\n",
       "REGISTRATION_DATE       False\n",
       "DEPOSIT_DATE            False\n",
       "dtype: bool"
      ]
     },
     "execution_count": 8,
     "metadata": {},
     "output_type": "execute_result"
    }
   ],
   "source": [
    "df.isnull().any() #Cheking is there any column have NULL value"
   ]
  },
  {
   "cell_type": "markdown",
   "id": "b2aebf5e",
   "metadata": {
    "papermill": {
     "duration": 0.015,
     "end_time": "2022-10-21T05:50:30.907719",
     "exception": false,
     "start_time": "2022-10-21T05:50:30.892719",
     "status": "completed"
    },
    "tags": []
   },
   "source": [
    "> ### (ID should be unique) Validating IDCUSTOMER"
   ]
  },
  {
   "cell_type": "code",
   "execution_count": 9,
   "id": "b5e895d4",
   "metadata": {
    "execution": {
     "iopub.execute_input": "2022-10-21T05:50:30.941830Z",
     "iopub.status.busy": "2022-10-21T05:50:30.941272Z",
     "iopub.status.idle": "2022-10-21T05:50:30.954423Z",
     "shell.execute_reply": "2022-10-21T05:50:30.952623Z"
    },
    "papermill": {
     "duration": 0.033618,
     "end_time": "2022-10-21T05:50:30.957896",
     "exception": false,
     "start_time": "2022-10-21T05:50:30.924278",
     "status": "completed"
    },
    "tags": []
   },
   "outputs": [
    {
     "data": {
      "text/plain": [
       "True"
      ]
     },
     "execution_count": 9,
     "metadata": {},
     "output_type": "execute_result"
    }
   ],
   "source": [
    "df['IDCUSTOMER'].is_unique   #IDCUSTOMER should be unique so cheking all value are unique or not"
   ]
  },
  {
   "cell_type": "code",
   "execution_count": 10,
   "id": "20be38aa",
   "metadata": {
    "execution": {
     "iopub.execute_input": "2022-10-21T05:50:30.992476Z",
     "iopub.status.busy": "2022-10-21T05:50:30.990938Z",
     "iopub.status.idle": "2022-10-21T05:50:31.002284Z",
     "shell.execute_reply": "2022-10-21T05:50:31.000873Z"
    },
    "papermill": {
     "duration": 0.031078,
     "end_time": "2022-10-21T05:50:31.004975",
     "exception": false,
     "start_time": "2022-10-21T05:50:30.973897",
     "status": "completed"
    },
    "tags": []
   },
   "outputs": [
    {
     "data": {
      "text/plain": [
       "22065"
      ]
     },
     "execution_count": 10,
     "metadata": {},
     "output_type": "execute_result"
    }
   ],
   "source": [
    "df['IDCUSTOMER'].nunique()   #Counting no of value are unique"
   ]
  },
  {
   "cell_type": "markdown",
   "id": "53dee5f4",
   "metadata": {
    "papermill": {
     "duration": 0.015703,
     "end_time": "2022-10-21T05:50:31.037043",
     "exception": false,
     "start_time": "2022-10-21T05:50:31.021340",
     "status": "completed"
    },
    "tags": []
   },
   "source": [
    "### Setting INDEX to 'IDCOUSTOMER'"
   ]
  },
  {
   "cell_type": "code",
   "execution_count": 11,
   "id": "873e8b5c",
   "metadata": {
    "execution": {
     "iopub.execute_input": "2022-10-21T05:50:31.074449Z",
     "iopub.status.busy": "2022-10-21T05:50:31.072863Z",
     "iopub.status.idle": "2022-10-21T05:50:31.093980Z",
     "shell.execute_reply": "2022-10-21T05:50:31.092304Z"
    },
    "papermill": {
     "duration": 0.042429,
     "end_time": "2022-10-21T05:50:31.096984",
     "exception": false,
     "start_time": "2022-10-21T05:50:31.054555",
     "status": "completed"
    },
    "tags": []
   },
   "outputs": [
    {
     "data": {
      "text/html": [
       "<div>\n",
       "<style scoped>\n",
       "    .dataframe tbody tr th:only-of-type {\n",
       "        vertical-align: middle;\n",
       "    }\n",
       "\n",
       "    .dataframe tbody tr th {\n",
       "        vertical-align: top;\n",
       "    }\n",
       "\n",
       "    .dataframe thead th {\n",
       "        text-align: right;\n",
       "    }\n",
       "</style>\n",
       "<table border=\"1\" class=\"dataframe\">\n",
       "  <thead>\n",
       "    <tr style=\"text-align: right;\">\n",
       "      <th></th>\n",
       "      <th>GENDER</th>\n",
       "      <th>CITY</th>\n",
       "      <th>COUNTRY</th>\n",
       "      <th>FIRST_DEPOSIT_AMOUNT</th>\n",
       "      <th>REGISTRATION_DATE</th>\n",
       "      <th>DEPOSIT_DATE</th>\n",
       "    </tr>\n",
       "    <tr>\n",
       "      <th>IDCUSTOMER</th>\n",
       "      <th></th>\n",
       "      <th></th>\n",
       "      <th></th>\n",
       "      <th></th>\n",
       "      <th></th>\n",
       "      <th></th>\n",
       "    </tr>\n",
       "  </thead>\n",
       "  <tbody>\n",
       "    <tr>\n",
       "      <th>5075649</th>\n",
       "      <td>M</td>\n",
       "      <td>ankara</td>\n",
       "      <td>Turkey</td>\n",
       "      <td>100.0</td>\n",
       "      <td>2009-01-10</td>\n",
       "      <td>2022-06-05</td>\n",
       "    </tr>\n",
       "    <tr>\n",
       "      <th>5176235</th>\n",
       "      <td>M</td>\n",
       "      <td>elazığ</td>\n",
       "      <td>Turkey</td>\n",
       "      <td>400.0</td>\n",
       "      <td>2009-03-01</td>\n",
       "      <td>2022-02-11</td>\n",
       "    </tr>\n",
       "    <tr>\n",
       "      <th>5249140</th>\n",
       "      <td>M</td>\n",
       "      <td>izmir</td>\n",
       "      <td>Turkey</td>\n",
       "      <td>200.0</td>\n",
       "      <td>2009-04-06</td>\n",
       "      <td>2022-05-02</td>\n",
       "    </tr>\n",
       "    <tr>\n",
       "      <th>5300998</th>\n",
       "      <td>M</td>\n",
       "      <td>Üsküdar</td>\n",
       "      <td>Turkey</td>\n",
       "      <td>100.0</td>\n",
       "      <td>2009-05-02</td>\n",
       "      <td>2022-02-11</td>\n",
       "    </tr>\n",
       "    <tr>\n",
       "      <th>5371454</th>\n",
       "      <td>M</td>\n",
       "      <td>sakarya</td>\n",
       "      <td>Turkey</td>\n",
       "      <td>880.0</td>\n",
       "      <td>2009-06-07</td>\n",
       "      <td>2022-05-29</td>\n",
       "    </tr>\n",
       "  </tbody>\n",
       "</table>\n",
       "</div>"
      ],
      "text/plain": [
       "           GENDER     CITY COUNTRY  FIRST_DEPOSIT_AMOUNT REGISTRATION_DATE  \\\n",
       "IDCUSTOMER                                                                   \n",
       "5075649         M   ankara  Turkey                 100.0        2009-01-10   \n",
       "5176235         M   elazığ  Turkey                 400.0        2009-03-01   \n",
       "5249140         M    izmir  Turkey                 200.0        2009-04-06   \n",
       "5300998         M  Üsküdar  Turkey                 100.0        2009-05-02   \n",
       "5371454         M  sakarya  Turkey                 880.0        2009-06-07   \n",
       "\n",
       "           DEPOSIT_DATE  \n",
       "IDCUSTOMER               \n",
       "5075649      2022-06-05  \n",
       "5176235      2022-02-11  \n",
       "5249140      2022-05-02  \n",
       "5300998      2022-02-11  \n",
       "5371454      2022-05-29  "
      ]
     },
     "execution_count": 11,
     "metadata": {},
     "output_type": "execute_result"
    }
   ],
   "source": [
    "#Setting INDEX to 'IDCOUSTOMER'\n",
    "df=df.set_index(\"IDCUSTOMER\")\n",
    "df.head()"
   ]
  },
  {
   "cell_type": "markdown",
   "id": "e83a3181",
   "metadata": {
    "papermill": {
     "duration": 0.015053,
     "end_time": "2022-10-21T05:50:31.128065",
     "exception": false,
     "start_time": "2022-10-21T05:50:31.113012",
     "status": "completed"
    },
    "tags": []
   },
   "source": [
    "### Validating Customer GENDER"
   ]
  },
  {
   "cell_type": "code",
   "execution_count": 12,
   "id": "bbb86649",
   "metadata": {
    "execution": {
     "iopub.execute_input": "2022-10-21T05:50:31.162348Z",
     "iopub.status.busy": "2022-10-21T05:50:31.161841Z",
     "iopub.status.idle": "2022-10-21T05:50:31.176576Z",
     "shell.execute_reply": "2022-10-21T05:50:31.174794Z"
    },
    "papermill": {
     "duration": 0.035831,
     "end_time": "2022-10-21T05:50:31.179491",
     "exception": false,
     "start_time": "2022-10-21T05:50:31.143660",
     "status": "completed"
    },
    "tags": []
   },
   "outputs": [
    {
     "name": "stdout",
     "output_type": "stream",
     "text": [
      "['M' 'F' 'M  ']\n",
      "Error in Data M  \n"
     ]
    }
   ],
   "source": [
    "print(df[\"GENDER\"].unique()) #Gender should be either \"MALE\",\"FEMALE\",or \"other\" \n",
    "\n",
    "#Another mathod to validate data\n",
    "for x in df['GENDER']:\n",
    "    if x not in (\"M\",\"F\"):\n",
    "        print(\"Error in Data\",x)"
   ]
  },
  {
   "cell_type": "code",
   "execution_count": 13,
   "id": "23a80aa8",
   "metadata": {
    "execution": {
     "iopub.execute_input": "2022-10-21T05:50:31.217891Z",
     "iopub.status.busy": "2022-10-21T05:50:31.217232Z",
     "iopub.status.idle": "2022-10-21T05:50:31.232984Z",
     "shell.execute_reply": "2022-10-21T05:50:31.231281Z"
    },
    "papermill": {
     "duration": 0.038977,
     "end_time": "2022-10-21T05:50:31.236228",
     "exception": false,
     "start_time": "2022-10-21T05:50:31.197251",
     "status": "completed"
    },
    "tags": []
   },
   "outputs": [
    {
     "name": "stdout",
     "output_type": "stream",
     "text": [
      "Index of data where Error present: [147389271]\n"
     ]
    }
   ],
   "source": [
    "print(\"Index of data where Error present:\",df[df['GENDER']=='M  '].index.values)"
   ]
  },
  {
   "cell_type": "code",
   "execution_count": 14,
   "id": "d9494b38",
   "metadata": {
    "execution": {
     "iopub.execute_input": "2022-10-21T05:50:31.271276Z",
     "iopub.status.busy": "2022-10-21T05:50:31.270741Z",
     "iopub.status.idle": "2022-10-21T05:50:31.278432Z",
     "shell.execute_reply": "2022-10-21T05:50:31.276956Z"
    },
    "papermill": {
     "duration": 0.029325,
     "end_time": "2022-10-21T05:50:31.281862",
     "exception": false,
     "start_time": "2022-10-21T05:50:31.252537",
     "status": "completed"
    },
    "tags": []
   },
   "outputs": [],
   "source": [
    "df.at[147389271, 'GENDER']='M'  #Correction in data"
   ]
  },
  {
   "cell_type": "code",
   "execution_count": 15,
   "id": "d85b723d",
   "metadata": {
    "execution": {
     "iopub.execute_input": "2022-10-21T05:50:31.317227Z",
     "iopub.status.busy": "2022-10-21T05:50:31.316706Z",
     "iopub.status.idle": "2022-10-21T05:50:31.326487Z",
     "shell.execute_reply": "2022-10-21T05:50:31.324687Z"
    },
    "papermill": {
     "duration": 0.030876,
     "end_time": "2022-10-21T05:50:31.329428",
     "exception": false,
     "start_time": "2022-10-21T05:50:31.298552",
     "status": "completed"
    },
    "tags": []
   },
   "outputs": [
    {
     "name": "stdout",
     "output_type": "stream",
     "text": [
      "['M' 'F']\n"
     ]
    }
   ],
   "source": [
    "print(df[\"GENDER\"].unique()) #Recheking "
   ]
  },
  {
   "cell_type": "markdown",
   "id": "12e680f0",
   "metadata": {
    "papermill": {
     "duration": 0.016525,
     "end_time": "2022-10-21T05:50:31.362673",
     "exception": false,
     "start_time": "2022-10-21T05:50:31.346148",
     "status": "completed"
    },
    "tags": []
   },
   "source": [
    "### Correction in DataTypes "
   ]
  },
  {
   "cell_type": "code",
   "execution_count": 16,
   "id": "f1a97236",
   "metadata": {
    "execution": {
     "iopub.execute_input": "2022-10-21T05:50:31.399405Z",
     "iopub.status.busy": "2022-10-21T05:50:31.398191Z",
     "iopub.status.idle": "2022-10-21T05:50:31.419337Z",
     "shell.execute_reply": "2022-10-21T05:50:31.418027Z"
    },
    "papermill": {
     "duration": 0.043102,
     "end_time": "2022-10-21T05:50:31.422246",
     "exception": false,
     "start_time": "2022-10-21T05:50:31.379144",
     "status": "completed"
    },
    "tags": []
   },
   "outputs": [],
   "source": [
    "#converting \"REGISTRATION_DATE\" and \"DEPOSIT_DATE\" into TimeSeries data\n",
    "df.REGISTRATION_DATE = pd.to_datetime(df.REGISTRATION_DATE)\n",
    "df.DEPOSIT_DATE = pd.to_datetime(df.DEPOSIT_DATE)"
   ]
  },
  {
   "cell_type": "code",
   "execution_count": 17,
   "id": "582fa899",
   "metadata": {
    "execution": {
     "iopub.execute_input": "2022-10-21T05:50:31.456981Z",
     "iopub.status.busy": "2022-10-21T05:50:31.455652Z",
     "iopub.status.idle": "2022-10-21T05:50:31.466542Z",
     "shell.execute_reply": "2022-10-21T05:50:31.465176Z"
    },
    "papermill": {
     "duration": 0.031137,
     "end_time": "2022-10-21T05:50:31.469254",
     "exception": false,
     "start_time": "2022-10-21T05:50:31.438117",
     "status": "completed"
    },
    "tags": []
   },
   "outputs": [
    {
     "data": {
      "text/plain": [
       "GENDER                          object\n",
       "CITY                            object\n",
       "COUNTRY                         object\n",
       "FIRST_DEPOSIT_AMOUNT           float64\n",
       "REGISTRATION_DATE       datetime64[ns]\n",
       "DEPOSIT_DATE            datetime64[ns]\n",
       "dtype: object"
      ]
     },
     "execution_count": 17,
     "metadata": {},
     "output_type": "execute_result"
    }
   ],
   "source": [
    "df.dtypes"
   ]
  },
  {
   "cell_type": "markdown",
   "id": "2e8772dc",
   "metadata": {
    "papermill": {
     "duration": 0.017582,
     "end_time": "2022-10-21T05:50:31.504409",
     "exception": false,
     "start_time": "2022-10-21T05:50:31.486827",
     "status": "completed"
    },
    "tags": []
   },
   "source": [
    "# 3. Calculate the time period in days for which the customer was active (days from first deposit date) and enter the value in a new column titled 'Customer Lifetime' & what is the lifetime in days for customer ID - 5371454\n"
   ]
  },
  {
   "cell_type": "code",
   "execution_count": 18,
   "id": "6265d04f",
   "metadata": {
    "execution": {
     "iopub.execute_input": "2022-10-21T05:50:31.553639Z",
     "iopub.status.busy": "2022-10-21T05:50:31.551930Z",
     "iopub.status.idle": "2022-10-21T05:50:31.565771Z",
     "shell.execute_reply": "2022-10-21T05:50:31.564006Z"
    },
    "papermill": {
     "duration": 0.040181,
     "end_time": "2022-10-21T05:50:31.569730",
     "exception": false,
     "start_time": "2022-10-21T05:50:31.529549",
     "status": "completed"
    },
    "tags": []
   },
   "outputs": [],
   "source": [
    "#Life time of Coustomer from first Deposit day to till today.\n",
    "today=pd.to_datetime(date.today())  #taking today date and converting it into datetime64[ns] data type.\n",
    "df['CUSTOMER_LIFETIME'] = (today - df.DEPOSIT_DATE)"
   ]
  },
  {
   "cell_type": "code",
   "execution_count": 19,
   "id": "9debc775",
   "metadata": {
    "execution": {
     "iopub.execute_input": "2022-10-21T05:50:31.621457Z",
     "iopub.status.busy": "2022-10-21T05:50:31.620209Z",
     "iopub.status.idle": "2022-10-21T05:50:31.663262Z",
     "shell.execute_reply": "2022-10-21T05:50:31.661787Z"
    },
    "papermill": {
     "duration": 0.07296,
     "end_time": "2022-10-21T05:50:31.666377",
     "exception": false,
     "start_time": "2022-10-21T05:50:31.593417",
     "status": "completed"
    },
    "tags": []
   },
   "outputs": [
    {
     "data": {
      "text/html": [
       "<div>\n",
       "<style scoped>\n",
       "    .dataframe tbody tr th:only-of-type {\n",
       "        vertical-align: middle;\n",
       "    }\n",
       "\n",
       "    .dataframe tbody tr th {\n",
       "        vertical-align: top;\n",
       "    }\n",
       "\n",
       "    .dataframe thead th {\n",
       "        text-align: right;\n",
       "    }\n",
       "</style>\n",
       "<table border=\"1\" class=\"dataframe\">\n",
       "  <thead>\n",
       "    <tr style=\"text-align: right;\">\n",
       "      <th></th>\n",
       "      <th>GENDER</th>\n",
       "      <th>CITY</th>\n",
       "      <th>COUNTRY</th>\n",
       "      <th>FIRST_DEPOSIT_AMOUNT</th>\n",
       "      <th>REGISTRATION_DATE</th>\n",
       "      <th>DEPOSIT_DATE</th>\n",
       "      <th>CUSTOMER_LIFETIME</th>\n",
       "    </tr>\n",
       "    <tr>\n",
       "      <th>IDCUSTOMER</th>\n",
       "      <th></th>\n",
       "      <th></th>\n",
       "      <th></th>\n",
       "      <th></th>\n",
       "      <th></th>\n",
       "      <th></th>\n",
       "      <th></th>\n",
       "    </tr>\n",
       "  </thead>\n",
       "  <tbody>\n",
       "    <tr>\n",
       "      <th>5075649</th>\n",
       "      <td>M</td>\n",
       "      <td>ankara</td>\n",
       "      <td>Turkey</td>\n",
       "      <td>100.0</td>\n",
       "      <td>2009-01-10</td>\n",
       "      <td>2022-06-05</td>\n",
       "      <td>138 days</td>\n",
       "    </tr>\n",
       "    <tr>\n",
       "      <th>5176235</th>\n",
       "      <td>M</td>\n",
       "      <td>elazığ</td>\n",
       "      <td>Turkey</td>\n",
       "      <td>400.0</td>\n",
       "      <td>2009-03-01</td>\n",
       "      <td>2022-02-11</td>\n",
       "      <td>252 days</td>\n",
       "    </tr>\n",
       "    <tr>\n",
       "      <th>5249140</th>\n",
       "      <td>M</td>\n",
       "      <td>izmir</td>\n",
       "      <td>Turkey</td>\n",
       "      <td>200.0</td>\n",
       "      <td>2009-04-06</td>\n",
       "      <td>2022-05-02</td>\n",
       "      <td>172 days</td>\n",
       "    </tr>\n",
       "    <tr>\n",
       "      <th>5300998</th>\n",
       "      <td>M</td>\n",
       "      <td>Üsküdar</td>\n",
       "      <td>Turkey</td>\n",
       "      <td>100.0</td>\n",
       "      <td>2009-05-02</td>\n",
       "      <td>2022-02-11</td>\n",
       "      <td>252 days</td>\n",
       "    </tr>\n",
       "    <tr>\n",
       "      <th>5371454</th>\n",
       "      <td>M</td>\n",
       "      <td>sakarya</td>\n",
       "      <td>Turkey</td>\n",
       "      <td>880.0</td>\n",
       "      <td>2009-06-07</td>\n",
       "      <td>2022-05-29</td>\n",
       "      <td>145 days</td>\n",
       "    </tr>\n",
       "    <tr>\n",
       "      <th>...</th>\n",
       "      <td>...</td>\n",
       "      <td>...</td>\n",
       "      <td>...</td>\n",
       "      <td>...</td>\n",
       "      <td>...</td>\n",
       "      <td>...</td>\n",
       "      <td>...</td>\n",
       "    </tr>\n",
       "    <tr>\n",
       "      <th>147844121</th>\n",
       "      <td>M</td>\n",
       "      <td>İstanbul</td>\n",
       "      <td>Turkey</td>\n",
       "      <td>50.0</td>\n",
       "      <td>2022-08-31</td>\n",
       "      <td>2022-08-31</td>\n",
       "      <td>51 days</td>\n",
       "    </tr>\n",
       "    <tr>\n",
       "      <th>147844491</th>\n",
       "      <td>M</td>\n",
       "      <td>Eskişehir</td>\n",
       "      <td>Turkey</td>\n",
       "      <td>50.0</td>\n",
       "      <td>2022-08-31</td>\n",
       "      <td>2022-08-31</td>\n",
       "      <td>51 days</td>\n",
       "    </tr>\n",
       "    <tr>\n",
       "      <th>147846481</th>\n",
       "      <td>M</td>\n",
       "      <td>Van</td>\n",
       "      <td>Turkey</td>\n",
       "      <td>100.0</td>\n",
       "      <td>2022-08-31</td>\n",
       "      <td>2022-08-31</td>\n",
       "      <td>51 days</td>\n",
       "    </tr>\n",
       "    <tr>\n",
       "      <th>147843561</th>\n",
       "      <td>M</td>\n",
       "      <td>Antalya</td>\n",
       "      <td>Turkey</td>\n",
       "      <td>200.0</td>\n",
       "      <td>2022-08-31</td>\n",
       "      <td>2022-08-31</td>\n",
       "      <td>51 days</td>\n",
       "    </tr>\n",
       "    <tr>\n",
       "      <th>147844971</th>\n",
       "      <td>M</td>\n",
       "      <td>İstanbul</td>\n",
       "      <td>Turkey</td>\n",
       "      <td>150.0</td>\n",
       "      <td>2022-08-31</td>\n",
       "      <td>2022-08-31</td>\n",
       "      <td>51 days</td>\n",
       "    </tr>\n",
       "  </tbody>\n",
       "</table>\n",
       "<p>22065 rows × 7 columns</p>\n",
       "</div>"
      ],
      "text/plain": [
       "           GENDER       CITY COUNTRY  FIRST_DEPOSIT_AMOUNT REGISTRATION_DATE  \\\n",
       "IDCUSTOMER                                                                     \n",
       "5075649         M     ankara  Turkey                 100.0        2009-01-10   \n",
       "5176235         M     elazığ  Turkey                 400.0        2009-03-01   \n",
       "5249140         M      izmir  Turkey                 200.0        2009-04-06   \n",
       "5300998         M    Üsküdar  Turkey                 100.0        2009-05-02   \n",
       "5371454         M    sakarya  Turkey                 880.0        2009-06-07   \n",
       "...           ...        ...     ...                   ...               ...   \n",
       "147844121       M   İstanbul  Turkey                  50.0        2022-08-31   \n",
       "147844491       M  Eskişehir  Turkey                  50.0        2022-08-31   \n",
       "147846481       M        Van  Turkey                 100.0        2022-08-31   \n",
       "147843561       M    Antalya  Turkey                 200.0        2022-08-31   \n",
       "147844971       M   İstanbul  Turkey                 150.0        2022-08-31   \n",
       "\n",
       "           DEPOSIT_DATE CUSTOMER_LIFETIME  \n",
       "IDCUSTOMER                                 \n",
       "5075649      2022-06-05          138 days  \n",
       "5176235      2022-02-11          252 days  \n",
       "5249140      2022-05-02          172 days  \n",
       "5300998      2022-02-11          252 days  \n",
       "5371454      2022-05-29          145 days  \n",
       "...                 ...               ...  \n",
       "147844121    2022-08-31           51 days  \n",
       "147844491    2022-08-31           51 days  \n",
       "147846481    2022-08-31           51 days  \n",
       "147843561    2022-08-31           51 days  \n",
       "147844971    2022-08-31           51 days  \n",
       "\n",
       "[22065 rows x 7 columns]"
      ]
     },
     "execution_count": 19,
     "metadata": {},
     "output_type": "execute_result"
    }
   ],
   "source": [
    "df"
   ]
  },
  {
   "cell_type": "markdown",
   "id": "88290f39",
   "metadata": {
    "papermill": {
     "duration": 0.016282,
     "end_time": "2022-10-21T05:50:31.699630",
     "exception": false,
     "start_time": "2022-10-21T05:50:31.683348",
     "status": "completed"
    },
    "tags": []
   },
   "source": [
    "### what is the lifetime in days for customer ID - 5371454¶"
   ]
  },
  {
   "cell_type": "code",
   "execution_count": 20,
   "id": "2f1ce122",
   "metadata": {
    "execution": {
     "iopub.execute_input": "2022-10-21T05:50:31.736029Z",
     "iopub.status.busy": "2022-10-21T05:50:31.734760Z",
     "iopub.status.idle": "2022-10-21T05:50:31.745467Z",
     "shell.execute_reply": "2022-10-21T05:50:31.743845Z"
    },
    "papermill": {
     "duration": 0.032481,
     "end_time": "2022-10-21T05:50:31.748334",
     "exception": false,
     "start_time": "2022-10-21T05:50:31.715853",
     "status": "completed"
    },
    "tags": []
   },
   "outputs": [
    {
     "name": "stdout",
     "output_type": "stream",
     "text": [
      "145 days 00:00:00\n"
     ]
    }
   ],
   "source": [
    "print(df.loc[5371454]['CUSTOMER_LIFETIME'])  #lifetime in days for customer ID - 5371454"
   ]
  },
  {
   "cell_type": "markdown",
   "id": "398c1a2a",
   "metadata": {
    "papermill": {
     "duration": 0.018999,
     "end_time": "2022-10-21T05:50:31.786124",
     "exception": false,
     "start_time": "2022-10-21T05:50:31.767125",
     "status": "completed"
    },
    "tags": []
   },
   "source": [
    "# 4. Find the city & country with the highest number of unique customers"
   ]
  },
  {
   "cell_type": "code",
   "execution_count": 21,
   "id": "55eeb2c0",
   "metadata": {
    "execution": {
     "iopub.execute_input": "2022-10-21T05:50:31.820938Z",
     "iopub.status.busy": "2022-10-21T05:50:31.820435Z",
     "iopub.status.idle": "2022-10-21T05:50:31.832366Z",
     "shell.execute_reply": "2022-10-21T05:50:31.830988Z"
    },
    "papermill": {
     "duration": 0.032983,
     "end_time": "2022-10-21T05:50:31.835527",
     "exception": false,
     "start_time": "2022-10-21T05:50:31.802544",
     "status": "completed"
    },
    "tags": []
   },
   "outputs": [
    {
     "data": {
      "text/plain": [
       "array(['Turkey'], dtype=object)"
      ]
     },
     "execution_count": 21,
     "metadata": {},
     "output_type": "execute_result"
    }
   ],
   "source": [
    "df[\"COUNTRY\"].unique()"
   ]
  },
  {
   "cell_type": "code",
   "execution_count": 22,
   "id": "00b173ab",
   "metadata": {
    "execution": {
     "iopub.execute_input": "2022-10-21T05:50:31.872758Z",
     "iopub.status.busy": "2022-10-21T05:50:31.871142Z",
     "iopub.status.idle": "2022-10-21T05:50:31.883100Z",
     "shell.execute_reply": "2022-10-21T05:50:31.881821Z"
    },
    "papermill": {
     "duration": 0.033503,
     "end_time": "2022-10-21T05:50:31.885775",
     "exception": false,
     "start_time": "2022-10-21T05:50:31.852272",
     "status": "completed"
    },
    "tags": []
   },
   "outputs": [
    {
     "data": {
      "text/plain": [
       "331"
      ]
     },
     "execution_count": 22,
     "metadata": {},
     "output_type": "execute_result"
    }
   ],
   "source": [
    "df['CITY'].nunique()"
   ]
  },
  {
   "cell_type": "code",
   "execution_count": 23,
   "id": "e9281e86",
   "metadata": {
    "execution": {
     "iopub.execute_input": "2022-10-21T05:50:31.932800Z",
     "iopub.status.busy": "2022-10-21T05:50:31.932163Z",
     "iopub.status.idle": "2022-10-21T05:50:31.947512Z",
     "shell.execute_reply": "2022-10-21T05:50:31.941760Z"
    },
    "papermill": {
     "duration": 0.045973,
     "end_time": "2022-10-21T05:50:31.952957",
     "exception": false,
     "start_time": "2022-10-21T05:50:31.906984",
     "status": "completed"
    },
    "tags": []
   },
   "outputs": [
    {
     "name": "stdout",
     "output_type": "stream",
     "text": [
      "['ankara' 'elazığ' 'izmir' 'Üsküdar' 'sakarya' 'ANKARA' 'hatay antakya'\n",
      " 'İstanbul' 'antalya' 'tekirdağ çorlu' 'istanbul kadiköy' 'milas'\n",
      " 'eskısehır' 'Kahramanmaraş' 'KIRKLARELİ LULEBURGAZ' 'Hatay' 'Mersin'\n",
      " 'yalova' 'SAKARYA AKYAZI' 'İstinye Sarıyer' 'BÜYÜKÇEKMECE' 'hatay'\n",
      " 'İSTANBUL' 'konya' 'istanbul fatih' 'Ankara' 'MERKEZ' 'bayraklı'\n",
      " 'istanbul' 'kayseri' 'merkez' 'lara/antalya' 'Keçiören' 'SİNCAN/ANKARA'\n",
      " 'bahçelievler' 'istanbul maltepe' 'izmir menemen' 'gebze' 'Rize'\n",
      " 'yıldırım' 'sanliurfa' 'mecidiyeköy' 'van' 'esenler' 'EDİRNE'\n",
      " 'beşiktaş/istanbul' 'alsancak' 'konya selcuklu' 'muğla'\n",
      " 'istanbul / zeytinburnu' 'adana/çukurova' 'çankırı' 'Çanakkale'\n",
      " 'zeytinburnu' 'mimsin- kayseri' 'kumluca' 'Kızıltepe' 'bayrampasa'\n",
      " 'afyon' 'TOKAT/Turhal' 'ANTALYA' 'k,maraş /elbistan' 'Meram'\n",
      " 'İZMİR -- FOÇA' 'Burdur' 'Trabzon' 'BAŞAKŞEHİR/İSTANBUL' 'izmir/konak'\n",
      " 'Kocaeli' 'istanbul kartal' 'İzmir Konak' 'Manisa' 'manisa merkez'\n",
      " 'didim/aydın' 'Gümüşhane/merkez' 'bilecik/merkez' 'Antalya'\n",
      " 'Sisli / Istanbul' 'yenişehir' 'ankara/altındağ' 'KAHRAMANMARAŞ' 'İzmir'\n",
      " 'Aydın/naziLLi' ' ' 'yenişehir/MERSİN' 'bilecik/bozüyük' 'Bursa'\n",
      " 'şanlıurfa' 'diyarbakır' 'elbistan' 'Keçiören / Ankara' 'ordu/ünye'\n",
      " 'Başakşehir' 'istanbuk/küçükçekmece' 'istanbu' 'siirt'\n",
      " 'istanbul buyukcekmece' 'izmir/bornova' 'izmir / Buca' 'gölbaşı'\n",
      " 'ankara mamak' 'İstanbul/Sultangazi' 'istanbul bahçelievler' 'Avsallar'\n",
      " 'diyarbakır / bağlar' 'buyukcekmece ISTANBUL' 'yalvac' 'hatay/antakya'\n",
      " 'tarsus' 'YEŞİLOVA / BURDUR' 'çubuk' 'Balıkesir' 'Muğla' 'Aydın'\n",
      " 'diyarbakır yenişehir' 'sinop/gerze' 'istanbul/beykoz' 'merkez/kütahya'\n",
      " 'Zeytinburnu-İst.' 'merkez/edirne' 'Erzurum Yakutiye '\n",
      " 'istanbul\\\\üsküdar' 'diyarbakır/bağlar' 'edirne keşan' 'izmir bornova'\n",
      " 'ksk' 'istanbul/sarıyer' 'Diyarbakır' 'çorlu tekirdağ'\n",
      " 'gaziantep   şehitkamil' 'PENDİK' 'fethiye-mugla' 'Karşıyaka'\n",
      " 'kocaeli/izmit' 'malatya/temelli' 'antalya kumluca' 'ordu/fatsa'\n",
      " 'muratli/tekirdag' 'kocaeli izmit' 'esenyurt istanbul' 'Çorum' 'Kayseri'\n",
      " 'İSTANBUL/EYÜP' 'kocaeli' 'İstanbul/Bahçelievler' 'Denizli/Merkez'\n",
      " 'SORGUN' 'antalya/muratpaşa' 'yenişehir/d.bakır' 'muratpaşa/antalya'\n",
      " 'Diyarbakır silvan' 'Bartın MERKEZ' 'konya/selçuklu' 'istanbul/kağıthane'\n",
      " 'adana' 'vezirkoprü' 'izmir tire' 'ordu' 'Esenler' 'Tepebaşı/Eskişehir'\n",
      " 'Tekirdağ' 'bursa' 'istanbul/zeytinburnu' 'zeytinburnu ' 'mersin'\n",
      " 'Ankara / Yenimahalle' 'İZMİR' 'fatsa' 'Sakarya' 'eskişehir'\n",
      " 'konya-selçuklu' 'bursa iznik yesılcami mh karaca skk' 'zonguldak/eregli'\n",
      " 'Pursaklar/ankara' 'samsun' 'Sivas' 'trabzon' 'istanbul gaziosmanpasa'\n",
      " 'kocaeli/derince' 'Kocaeli golcuk' 'ankara ' 'trabzön' 'Tekirdağ '\n",
      " 'Güneş Apt Blok No:22 İç Kapı No:8 Çankaya Ankara' 'nazilli'\n",
      " 'istanbul_tuzla' 'BALIKESİR' 'şırnak cizre' 'bornova' 'Perşembe ordu'\n",
      " 'Antakya' 'Bursa Karacabey' 'Fethiyr' 'aksaray' 'Güngören' 'C' 'adıyaman'\n",
      " 'Konya' 'Bitlis' 'Osmaniye' 'Iğdır' 'Zonguldak' 'Kırıkkale' 'Gaziantep'\n",
      " 'Bilecik' 'Erzurum' 'Kemalpasa / İzmir' 'Şanlıurfa' 'Adana' 'Adıyaman'\n",
      " 'Niğde' 'Amasya' 'Edirne' 'Giresun' 'Gümüşhane' 'Batman' 'Artvin' 'Ağrı'\n",
      " 'Bartın' 'Ordu' 'Bingöl' 'Düzce' 'Mardin' 'Samsun' 'Tokat' 'Malatya'\n",
      " 'Karaman' 'Bolu' 'Elazığ' 'Kastamonu' 'Eskişehir' 'Denizli' 'Karabük'\n",
      " 'Sinop' 'Hakkari' 'Aksaray' 'Siirt' 'Isparta' 'Van' 'GÜLAĞAÇ / AKSARAY'\n",
      " 'Erzincan' 'Kırklareli' 'Afyonkarahisar' 'Diyarbakir' 'Şırnak' 'Kütahya'\n",
      " 'Yalova' 'Kırşehir' 'Uşak' 'germencik/Aydın' 'Kars' 'Muş' 'Nevşehir'\n",
      " 'KONYA/ILGIN' 'malatya' 'Kocasinan/Kayseri' 'Kilis' 'amasya' 'Tunceli'\n",
      " 'Balıkesir/Bandırma' 'Bayburt' 'Çankırı' 'Seyhan/Adana'\n",
      " 'seferihisar/ İzmir' 'Avcılar/İstanbul' 'Yozgat' 'batman'\n",
      " 'Fatih/İstanbul' 'Beykoz - İstanbul' 'ataşehir istanbul' 'batum' 'kıbrıs'\n",
      " 'ÇANKAYA/ANKARA' 'dfagdfgadgaddfg' 'Kozan/Adana' 'İstanbul/bahçelievler'\n",
      " 'düzce' 'güneş apt Blok no 22 iç kapı no 8 Ankara Çankaya'\n",
      " 'sarıçam/Adana' '1212' 'Samsun/Bafra' 'Üsküdar/İSTANBUL' 'Ardahan'\n",
      " 'kağıthane istanbul' 'İLKADIM/SAMSUN' 'Antalya/Muratpaşa' 'GERÇÜŞ/BATMAN'\n",
      " 'İZMİR/karşıyaka' 'Van/İpekyolu' 'edirne' 'balıkkesir' 'altındağ Ankara'\n",
      " 'karasu/sakarya' 'Kaş/Antalya' 'TOKLU MAHALLESİ TRABZON ORTAHİSAR'\n",
      " 'Konya Emirgazi' 'Maltepe / İstanbul' 'Bağlar/Diyarbakır'\n",
      " 'Ankara/Çankaya' 'yenişehir/Mersin' 'Sarıyer İstanbul' 'asdas'\n",
      " 'Beykoz/ Istanbul' 'Gölpazarı/Bilecik' 'GÖLBAŞI' 'Jdhsısus'\n",
      " 'Gebze /KOCAELİ' 'SERİK ANTALYA' 'Kulp /Diyarbakir' 'Alanya /Antalya'\n",
      " 'Kepez Antalya' 'Atasehir -İstanbul' 'sdasd' 'srfdgfdgdf' 'tekirdağ'\n",
      " 'dfsadf' 'GAZİPAŞA' 'Yenimahalle Ankara' 'Ankara/ Yeni mahalle' 'Buca'\n",
      " 'Eskişehir / ODUNPAZARI' 'GİRESUN MERKEZ' 'Bursa.NİLÜFER'\n",
      " 'Tekirdağ\\\\ Çorlu' 'MERKEZ / Şırnak' 'İzmir/ buca' 'BOLU'\n",
      " 'İç kapı no 7 sancaktepe/İstanbul' 'DİYARBAKIR' 'hakkari' 'Batman Merkez']\n"
     ]
    }
   ],
   "source": [
    "x=df['CITY'].unique()\n",
    "print(x)"
   ]
  },
  {
   "cell_type": "code",
   "execution_count": 24,
   "id": "be49df31",
   "metadata": {
    "execution": {
     "iopub.execute_input": "2022-10-21T05:50:32.009178Z",
     "iopub.status.busy": "2022-10-21T05:50:32.008300Z",
     "iopub.status.idle": "2022-10-21T05:50:32.021033Z",
     "shell.execute_reply": "2022-10-21T05:50:32.019739Z"
    },
    "papermill": {
     "duration": 0.043354,
     "end_time": "2022-10-21T05:50:32.023954",
     "exception": false,
     "start_time": "2022-10-21T05:50:31.980600",
     "status": "completed"
    },
    "tags": []
   },
   "outputs": [
    {
     "name": "stdout",
     "output_type": "stream",
     "text": [
      "Find the city & country with the highest number of unique customers :===>  İstanbul\n"
     ]
    }
   ],
   "source": [
    "x=df['CITY'].value_counts().index #counting Highest no. of unique account city.\n",
    "print(\"Find the city & country with the highest number of unique customers :===> \",x[0])"
   ]
  },
  {
   "cell_type": "markdown",
   "id": "3c79e050",
   "metadata": {
    "papermill": {
     "duration": 0.018526,
     "end_time": "2022-10-21T05:50:32.062509",
     "exception": false,
     "start_time": "2022-10-21T05:50:32.043983",
     "status": "completed"
    },
    "tags": []
   },
   "source": [
    "# 5. Find the unique count of players in each country (in descending order) & specify the number of unique players from the city - Kayseri\n"
   ]
  },
  {
   "cell_type": "markdown",
   "id": "786b45d2",
   "metadata": {
    "papermill": {
     "duration": 0.017446,
     "end_time": "2022-10-21T05:50:32.098415",
     "exception": false,
     "start_time": "2022-10-21T05:50:32.080969",
     "status": "completed"
    },
    "tags": []
   },
   "source": [
    "> # NOTE: \n",
    "> in this Qustion Dataset will be diffrent so instead of using players i'm using `Customer` "
   ]
  },
  {
   "cell_type": "markdown",
   "id": "d5cc358c",
   "metadata": {
    "papermill": {
     "duration": 0.017381,
     "end_time": "2022-10-21T05:50:32.133832",
     "exception": false,
     "start_time": "2022-10-21T05:50:32.116451",
     "status": "completed"
    },
    "tags": []
   },
   "source": [
    "### Cheking No. Unique Counntry:"
   ]
  },
  {
   "cell_type": "code",
   "execution_count": 25,
   "id": "22a54204",
   "metadata": {
    "execution": {
     "iopub.execute_input": "2022-10-21T05:50:32.174056Z",
     "iopub.status.busy": "2022-10-21T05:50:32.173069Z",
     "iopub.status.idle": "2022-10-21T05:50:32.185892Z",
     "shell.execute_reply": "2022-10-21T05:50:32.184153Z"
    },
    "papermill": {
     "duration": 0.036303,
     "end_time": "2022-10-21T05:50:32.188901",
     "exception": false,
     "start_time": "2022-10-21T05:50:32.152598",
     "status": "completed"
    },
    "tags": []
   },
   "outputs": [
    {
     "data": {
      "text/plain": [
       "array(['Turkey'], dtype=object)"
      ]
     },
     "execution_count": 25,
     "metadata": {},
     "output_type": "execute_result"
    }
   ],
   "source": [
    "df.COUNTRY.unique()"
   ]
  },
  {
   "cell_type": "markdown",
   "id": "6abe320e",
   "metadata": {
    "papermill": {
     "duration": 0.017999,
     "end_time": "2022-10-21T05:50:32.224664",
     "exception": false,
     "start_time": "2022-10-21T05:50:32.206665",
     "status": "completed"
    },
    "tags": []
   },
   "source": [
    "### No. of Unique Coustomer"
   ]
  },
  {
   "cell_type": "code",
   "execution_count": 26,
   "id": "c8a44dbf",
   "metadata": {
    "execution": {
     "iopub.execute_input": "2022-10-21T05:50:32.263621Z",
     "iopub.status.busy": "2022-10-21T05:50:32.262528Z",
     "iopub.status.idle": "2022-10-21T05:50:32.284937Z",
     "shell.execute_reply": "2022-10-21T05:50:32.283553Z"
    },
    "papermill": {
     "duration": 0.044909,
     "end_time": "2022-10-21T05:50:32.287768",
     "exception": false,
     "start_time": "2022-10-21T05:50:32.242859",
     "status": "completed"
    },
    "tags": []
   },
   "outputs": [
    {
     "data": {
      "text/plain": [
       "COUNTRY\n",
       "Turkey    22065\n",
       "Name: IDCUSTOMER, dtype: int64"
      ]
     },
     "execution_count": 26,
     "metadata": {},
     "output_type": "execute_result"
    }
   ],
   "source": [
    "dfx1=dfx.groupby(dfx[\"COUNTRY\"]).count()\n",
    "dfx1.IDCUSTOMER"
   ]
  },
  {
   "cell_type": "markdown",
   "id": "fd9ab255",
   "metadata": {
    "papermill": {
     "duration": 0.017645,
     "end_time": "2022-10-21T05:50:32.322803",
     "exception": false,
     "start_time": "2022-10-21T05:50:32.305158",
     "status": "completed"
    },
    "tags": []
   },
   "source": [
    "### specify the number of unique players from the city - Kayseri¶"
   ]
  },
  {
   "cell_type": "code",
   "execution_count": 27,
   "id": "c4177b52",
   "metadata": {
    "execution": {
     "iopub.execute_input": "2022-10-21T05:50:32.360220Z",
     "iopub.status.busy": "2022-10-21T05:50:32.359299Z",
     "iopub.status.idle": "2022-10-21T05:50:32.374682Z",
     "shell.execute_reply": "2022-10-21T05:50:32.373121Z"
    },
    "papermill": {
     "duration": 0.037255,
     "end_time": "2022-10-21T05:50:32.377473",
     "exception": false,
     "start_time": "2022-10-21T05:50:32.340218",
     "status": "completed"
    },
    "tags": []
   },
   "outputs": [
    {
     "name": "stdout",
     "output_type": "stream",
     "text": [
      "Specify the number of unique players from the city - Kayseri¶======>>>\n"
     ]
    },
    {
     "data": {
      "text/plain": [
       "Kayseri    369\n",
       "Name: CITY, dtype: int64"
      ]
     },
     "execution_count": 27,
     "metadata": {},
     "output_type": "execute_result"
    }
   ],
   "source": [
    "#specify the number of unique players from the city - Kayseri¶\n",
    "print(\"Specify the number of unique players from the city - Kayseri¶======>>>\")\n",
    "df1=df[df[\"CITY\"]==\"Kayseri\"]\n",
    "df1['CITY'].value_counts()"
   ]
  },
  {
   "cell_type": "markdown",
   "id": "bc70ea63",
   "metadata": {
    "papermill": {
     "duration": 0.019434,
     "end_time": "2022-10-21T05:50:32.416006",
     "exception": false,
     "start_time": "2022-10-21T05:50:32.396572",
     "status": "completed"
    },
    "tags": []
   },
   "source": [
    "# 6. Which city gives the third highest average first_deposit_amount and what is the average amount? "
   ]
  },
  {
   "cell_type": "code",
   "execution_count": 28,
   "id": "11b32ee4",
   "metadata": {
    "execution": {
     "iopub.execute_input": "2022-10-21T05:50:32.455723Z",
     "iopub.status.busy": "2022-10-21T05:50:32.454706Z",
     "iopub.status.idle": "2022-10-21T05:50:32.476614Z",
     "shell.execute_reply": "2022-10-21T05:50:32.475297Z"
    },
    "papermill": {
     "duration": 0.04535,
     "end_time": "2022-10-21T05:50:32.479833",
     "exception": false,
     "start_time": "2022-10-21T05:50:32.434483",
     "status": "completed"
    },
    "tags": []
   },
   "outputs": [
    {
     "data": {
      "text/plain": [
       "'sarıçam/Adana'"
      ]
     },
     "execution_count": 28,
     "metadata": {},
     "output_type": "execute_result"
    }
   ],
   "source": [
    "#6.Which city gives the third highest average first_deposit_amount and what is the average amount?\n",
    "df2=df.groupby(df[\"CITY\"]).mean()\n",
    "df2=df2.sort_values(\"FIRST_DEPOSIT_AMOUNT\",ascending=False)\n",
    "df2.iloc[2].name"
   ]
  },
  {
   "cell_type": "code",
   "execution_count": 29,
   "id": "898b4ca7",
   "metadata": {
    "execution": {
     "iopub.execute_input": "2022-10-21T05:50:32.524841Z",
     "iopub.status.busy": "2022-10-21T05:50:32.523501Z",
     "iopub.status.idle": "2022-10-21T05:50:32.540358Z",
     "shell.execute_reply": "2022-10-21T05:50:32.538892Z"
    },
    "papermill": {
     "duration": 0.042628,
     "end_time": "2022-10-21T05:50:32.543752",
     "exception": false,
     "start_time": "2022-10-21T05:50:32.501124",
     "status": "completed"
    },
    "tags": []
   },
   "outputs": [
    {
     "data": {
      "text/html": [
       "<div>\n",
       "<style scoped>\n",
       "    .dataframe tbody tr th:only-of-type {\n",
       "        vertical-align: middle;\n",
       "    }\n",
       "\n",
       "    .dataframe tbody tr th {\n",
       "        vertical-align: top;\n",
       "    }\n",
       "\n",
       "    .dataframe thead th {\n",
       "        text-align: right;\n",
       "    }\n",
       "</style>\n",
       "<table border=\"1\" class=\"dataframe\">\n",
       "  <thead>\n",
       "    <tr style=\"text-align: right;\">\n",
       "      <th></th>\n",
       "      <th>FIRST_DEPOSIT_AMOUNT</th>\n",
       "    </tr>\n",
       "    <tr>\n",
       "      <th>CITY</th>\n",
       "      <th></th>\n",
       "    </tr>\n",
       "  </thead>\n",
       "  <tbody>\n",
       "    <tr>\n",
       "      <th>Atasehir -İstanbul</th>\n",
       "      <td>100000.000000</td>\n",
       "    </tr>\n",
       "    <tr>\n",
       "      <th>Seyhan/Adana</th>\n",
       "      <td>10000.000000</td>\n",
       "    </tr>\n",
       "    <tr>\n",
       "      <th>sarıçam/Adana</th>\n",
       "      <td>9000.000000</td>\n",
       "    </tr>\n",
       "    <tr>\n",
       "      <th>İZMİR/karşıyaka</th>\n",
       "      <td>5000.000000</td>\n",
       "    </tr>\n",
       "    <tr>\n",
       "      <th>Ankara/Çankaya</th>\n",
       "      <td>5000.000000</td>\n",
       "    </tr>\n",
       "    <tr>\n",
       "      <th>GİRESUN MERKEZ</th>\n",
       "      <td>2500.000000</td>\n",
       "    </tr>\n",
       "    <tr>\n",
       "      <th>seferihisar/ İzmir</th>\n",
       "      <td>2000.000000</td>\n",
       "    </tr>\n",
       "    <tr>\n",
       "      <th>Başakşehir</th>\n",
       "      <td>2000.000000</td>\n",
       "    </tr>\n",
       "    <tr>\n",
       "      <th>diyarbakır/bağlar</th>\n",
       "      <td>2000.000000</td>\n",
       "    </tr>\n",
       "    <tr>\n",
       "      <th>Kepez Antalya</th>\n",
       "      <td>2000.000000</td>\n",
       "    </tr>\n",
       "    <tr>\n",
       "      <th>TOKAT/Turhal</th>\n",
       "      <td>1500.000000</td>\n",
       "    </tr>\n",
       "    <tr>\n",
       "      <th>Tepebaşı/Eskişehir</th>\n",
       "      <td>1500.000000</td>\n",
       "    </tr>\n",
       "    <tr>\n",
       "      <th>Pursaklar/ankara</th>\n",
       "      <td>1449.930000</td>\n",
       "    </tr>\n",
       "    <tr>\n",
       "      <th>hatay</th>\n",
       "      <td>1183.333333</td>\n",
       "    </tr>\n",
       "    <tr>\n",
       "      <th>izmir tire</th>\n",
       "      <td>1100.000000</td>\n",
       "    </tr>\n",
       "    <tr>\n",
       "      <th>izmir / Buca</th>\n",
       "      <td>1100.000000</td>\n",
       "    </tr>\n",
       "    <tr>\n",
       "      <th>lara/antalya</th>\n",
       "      <td>1000.000000</td>\n",
       "    </tr>\n",
       "    <tr>\n",
       "      <th>Buca</th>\n",
       "      <td>1000.000000</td>\n",
       "    </tr>\n",
       "    <tr>\n",
       "      <th>Kocasinan/Kayseri</th>\n",
       "      <td>1000.000000</td>\n",
       "    </tr>\n",
       "    <tr>\n",
       "      <th>Beykoz - İstanbul</th>\n",
       "      <td>1000.000000</td>\n",
       "    </tr>\n",
       "    <tr>\n",
       "      <th>Üsküdar/İSTANBUL</th>\n",
       "      <td>1000.000000</td>\n",
       "    </tr>\n",
       "    <tr>\n",
       "      <th>asdas</th>\n",
       "      <td>1000.000000</td>\n",
       "    </tr>\n",
       "    <tr>\n",
       "      <th>Maltepe / İstanbul</th>\n",
       "      <td>1000.000000</td>\n",
       "    </tr>\n",
       "    <tr>\n",
       "      <th>GÖLBAŞI</th>\n",
       "      <td>1000.000000</td>\n",
       "    </tr>\n",
       "    <tr>\n",
       "      <th>Antakya</th>\n",
       "      <td>1000.000000</td>\n",
       "    </tr>\n",
       "    <tr>\n",
       "      <th>düzce</th>\n",
       "      <td>1000.000000</td>\n",
       "    </tr>\n",
       "    <tr>\n",
       "      <th>istanbul / zeytinburnu</th>\n",
       "      <td>1000.000000</td>\n",
       "    </tr>\n",
       "    <tr>\n",
       "      <th>Alanya /Antalya</th>\n",
       "      <td>1000.000000</td>\n",
       "    </tr>\n",
       "    <tr>\n",
       "      <th>Mardin</th>\n",
       "      <td>885.046875</td>\n",
       "    </tr>\n",
       "    <tr>\n",
       "      <th>sakarya</th>\n",
       "      <td>880.000000</td>\n",
       "    </tr>\n",
       "    <tr>\n",
       "      <th>izmir bornova</th>\n",
       "      <td>800.000000</td>\n",
       "    </tr>\n",
       "    <tr>\n",
       "      <th>ankara/altındağ</th>\n",
       "      <td>750.000000</td>\n",
       "    </tr>\n",
       "    <tr>\n",
       "      <th>Adana</th>\n",
       "      <td>720.728506</td>\n",
       "    </tr>\n",
       "    <tr>\n",
       "      <th>istanbuk/küçükçekmece</th>\n",
       "      <td>700.000000</td>\n",
       "    </tr>\n",
       "    <tr>\n",
       "      <th>İzmir Konak</th>\n",
       "      <td>700.000000</td>\n",
       "    </tr>\n",
       "    <tr>\n",
       "      <th>gölbaşı</th>\n",
       "      <td>700.000000</td>\n",
       "    </tr>\n",
       "    <tr>\n",
       "      <th>beşiktaş/istanbul</th>\n",
       "      <td>677.000000</td>\n",
       "    </tr>\n",
       "    <tr>\n",
       "      <th>İSTANBUL</th>\n",
       "      <td>575.000000</td>\n",
       "    </tr>\n",
       "    <tr>\n",
       "      <th>Ardahan</th>\n",
       "      <td>553.125000</td>\n",
       "    </tr>\n",
       "    <tr>\n",
       "      <th>Tunceli</th>\n",
       "      <td>535.398523</td>\n",
       "    </tr>\n",
       "    <tr>\n",
       "      <th>Çorum</th>\n",
       "      <td>501.621957</td>\n",
       "    </tr>\n",
       "    <tr>\n",
       "      <th>Yenimahalle Ankara</th>\n",
       "      <td>500.000000</td>\n",
       "    </tr>\n",
       "    <tr>\n",
       "      <th>konya/selçuklu</th>\n",
       "      <td>500.000000</td>\n",
       "    </tr>\n",
       "    <tr>\n",
       "      <th>ÇANKAYA/ANKARA</th>\n",
       "      <td>500.000000</td>\n",
       "    </tr>\n",
       "    <tr>\n",
       "      <th>Kemalpasa / İzmir</th>\n",
       "      <td>500.000000</td>\n",
       "    </tr>\n",
       "    <tr>\n",
       "      <th>aksaray</th>\n",
       "      <td>500.000000</td>\n",
       "    </tr>\n",
       "    <tr>\n",
       "      <th>gaziantep   şehitkamil</th>\n",
       "      <td>500.000000</td>\n",
       "    </tr>\n",
       "    <tr>\n",
       "      <th>yenişehir</th>\n",
       "      <td>500.000000</td>\n",
       "    </tr>\n",
       "    <tr>\n",
       "      <th>kağıthane istanbul</th>\n",
       "      <td>500.000000</td>\n",
       "    </tr>\n",
       "    <tr>\n",
       "      <th>esenyurt istanbul</th>\n",
       "      <td>500.000000</td>\n",
       "    </tr>\n",
       "  </tbody>\n",
       "</table>\n",
       "</div>"
      ],
      "text/plain": [
       "                        FIRST_DEPOSIT_AMOUNT\n",
       "CITY                                        \n",
       "Atasehir -İstanbul             100000.000000\n",
       "Seyhan/Adana                    10000.000000\n",
       "sarıçam/Adana                    9000.000000\n",
       "İZMİR/karşıyaka                  5000.000000\n",
       "Ankara/Çankaya                   5000.000000\n",
       "GİRESUN MERKEZ                   2500.000000\n",
       "seferihisar/ İzmir               2000.000000\n",
       "Başakşehir                       2000.000000\n",
       "diyarbakır/bağlar                2000.000000\n",
       "Kepez Antalya                    2000.000000\n",
       "TOKAT/Turhal                     1500.000000\n",
       "Tepebaşı/Eskişehir               1500.000000\n",
       "Pursaklar/ankara                 1449.930000\n",
       "hatay                            1183.333333\n",
       "izmir tire                       1100.000000\n",
       "izmir / Buca                     1100.000000\n",
       "lara/antalya                     1000.000000\n",
       "Buca                             1000.000000\n",
       "Kocasinan/Kayseri                1000.000000\n",
       "Beykoz - İstanbul                1000.000000\n",
       "Üsküdar/İSTANBUL                 1000.000000\n",
       "asdas                            1000.000000\n",
       "Maltepe / İstanbul               1000.000000\n",
       "GÖLBAŞI                          1000.000000\n",
       "Antakya                          1000.000000\n",
       "düzce                            1000.000000\n",
       "istanbul / zeytinburnu           1000.000000\n",
       "Alanya /Antalya                  1000.000000\n",
       "Mardin                            885.046875\n",
       "sakarya                           880.000000\n",
       "izmir bornova                     800.000000\n",
       "ankara/altındağ                   750.000000\n",
       "Adana                             720.728506\n",
       "istanbuk/küçükçekmece             700.000000\n",
       "İzmir Konak                       700.000000\n",
       "gölbaşı                           700.000000\n",
       "beşiktaş/istanbul                 677.000000\n",
       "İSTANBUL                          575.000000\n",
       "Ardahan                           553.125000\n",
       "Tunceli                           535.398523\n",
       "Çorum                             501.621957\n",
       "Yenimahalle Ankara                500.000000\n",
       "konya/selçuklu                    500.000000\n",
       "ÇANKAYA/ANKARA                    500.000000\n",
       "Kemalpasa / İzmir                 500.000000\n",
       "aksaray                           500.000000\n",
       "gaziantep   şehitkamil            500.000000\n",
       "yenişehir                         500.000000\n",
       "kağıthane istanbul                500.000000\n",
       "esenyurt istanbul                 500.000000"
      ]
     },
     "execution_count": 29,
     "metadata": {},
     "output_type": "execute_result"
    }
   ],
   "source": [
    "df2.head(50)"
   ]
  },
  {
   "cell_type": "markdown",
   "id": "a9a328b0",
   "metadata": {
    "papermill": {
     "duration": 0.017447,
     "end_time": "2022-10-21T05:50:32.579747",
     "exception": false,
     "start_time": "2022-10-21T05:50:32.562300",
     "status": "completed"
    },
    "tags": []
   },
   "source": [
    "# 7. Plot a graph showing the city and the descending unique count of the unique customers (upto the top 40 cities by the unique count) and make a large plot (clearly visible) and make sure the title and labels are clearly visible."
   ]
  },
  {
   "cell_type": "code",
   "execution_count": 30,
   "id": "e401136d",
   "metadata": {
    "execution": {
     "iopub.execute_input": "2022-10-21T05:50:32.620384Z",
     "iopub.status.busy": "2022-10-21T05:50:32.619416Z",
     "iopub.status.idle": "2022-10-21T05:50:32.642792Z",
     "shell.execute_reply": "2022-10-21T05:50:32.641317Z"
    },
    "papermill": {
     "duration": 0.047616,
     "end_time": "2022-10-21T05:50:32.645745",
     "exception": false,
     "start_time": "2022-10-21T05:50:32.598129",
     "status": "completed"
    },
    "tags": []
   },
   "outputs": [
    {
     "data": {
      "text/html": [
       "<div>\n",
       "<style scoped>\n",
       "    .dataframe tbody tr th:only-of-type {\n",
       "        vertical-align: middle;\n",
       "    }\n",
       "\n",
       "    .dataframe tbody tr th {\n",
       "        vertical-align: top;\n",
       "    }\n",
       "\n",
       "    .dataframe thead th {\n",
       "        text-align: right;\n",
       "    }\n",
       "</style>\n",
       "<table border=\"1\" class=\"dataframe\">\n",
       "  <thead>\n",
       "    <tr style=\"text-align: right;\">\n",
       "      <th></th>\n",
       "      <th>GENDER</th>\n",
       "    </tr>\n",
       "    <tr>\n",
       "      <th>CITY</th>\n",
       "      <th></th>\n",
       "    </tr>\n",
       "  </thead>\n",
       "  <tbody>\n",
       "    <tr>\n",
       "      <th>İstanbul</th>\n",
       "      <td>4770</td>\n",
       "    </tr>\n",
       "    <tr>\n",
       "      <th>Bursa</th>\n",
       "      <td>1652</td>\n",
       "    </tr>\n",
       "    <tr>\n",
       "      <th>Diyarbakır</th>\n",
       "      <td>1307</td>\n",
       "    </tr>\n",
       "    <tr>\n",
       "      <th>Ankara</th>\n",
       "      <td>1182</td>\n",
       "    </tr>\n",
       "    <tr>\n",
       "      <th>İzmir</th>\n",
       "      <td>1151</td>\n",
       "    </tr>\n",
       "    <tr>\n",
       "      <th>Antalya</th>\n",
       "      <td>789</td>\n",
       "    </tr>\n",
       "    <tr>\n",
       "      <th>Adana</th>\n",
       "      <td>676</td>\n",
       "    </tr>\n",
       "    <tr>\n",
       "      <th>Kocaeli</th>\n",
       "      <td>635</td>\n",
       "    </tr>\n",
       "    <tr>\n",
       "      <th>Gaziantep</th>\n",
       "      <td>576</td>\n",
       "    </tr>\n",
       "    <tr>\n",
       "      <th>Tekirdağ</th>\n",
       "      <td>370</td>\n",
       "    </tr>\n",
       "    <tr>\n",
       "      <th>Kayseri</th>\n",
       "      <td>369</td>\n",
       "    </tr>\n",
       "    <tr>\n",
       "      <th>Aydın</th>\n",
       "      <td>353</td>\n",
       "    </tr>\n",
       "    <tr>\n",
       "      <th>Denizli</th>\n",
       "      <td>351</td>\n",
       "    </tr>\n",
       "    <tr>\n",
       "      <th>Balıkesir</th>\n",
       "      <td>340</td>\n",
       "    </tr>\n",
       "    <tr>\n",
       "      <th>Konya</th>\n",
       "      <td>334</td>\n",
       "    </tr>\n",
       "    <tr>\n",
       "      <th>Hatay</th>\n",
       "      <td>318</td>\n",
       "    </tr>\n",
       "    <tr>\n",
       "      <th>Sakarya</th>\n",
       "      <td>310</td>\n",
       "    </tr>\n",
       "    <tr>\n",
       "      <th>Mersin</th>\n",
       "      <td>306</td>\n",
       "    </tr>\n",
       "    <tr>\n",
       "      <th>Manisa</th>\n",
       "      <td>271</td>\n",
       "    </tr>\n",
       "    <tr>\n",
       "      <th>Şanlıurfa</th>\n",
       "      <td>255</td>\n",
       "    </tr>\n",
       "    <tr>\n",
       "      <th>Muğla</th>\n",
       "      <td>249</td>\n",
       "    </tr>\n",
       "    <tr>\n",
       "      <th>Eskişehir</th>\n",
       "      <td>218</td>\n",
       "    </tr>\n",
       "    <tr>\n",
       "      <th>Samsun</th>\n",
       "      <td>215</td>\n",
       "    </tr>\n",
       "    <tr>\n",
       "      <th>Kahramanmaraş</th>\n",
       "      <td>201</td>\n",
       "    </tr>\n",
       "    <tr>\n",
       "      <th>Van</th>\n",
       "      <td>166</td>\n",
       "    </tr>\n",
       "    <tr>\n",
       "      <th>Trabzon</th>\n",
       "      <td>160</td>\n",
       "    </tr>\n",
       "    <tr>\n",
       "      <th>Mardin</th>\n",
       "      <td>160</td>\n",
       "    </tr>\n",
       "    <tr>\n",
       "      <th>Çanakkale</th>\n",
       "      <td>147</td>\n",
       "    </tr>\n",
       "    <tr>\n",
       "      <th>Batman</th>\n",
       "      <td>142</td>\n",
       "    </tr>\n",
       "    <tr>\n",
       "      <th>Edirne</th>\n",
       "      <td>136</td>\n",
       "    </tr>\n",
       "    <tr>\n",
       "      <th>Erzurum</th>\n",
       "      <td>135</td>\n",
       "    </tr>\n",
       "    <tr>\n",
       "      <th>Ordu</th>\n",
       "      <td>130</td>\n",
       "    </tr>\n",
       "    <tr>\n",
       "      <th>Malatya</th>\n",
       "      <td>129</td>\n",
       "    </tr>\n",
       "    <tr>\n",
       "      <th>Rize</th>\n",
       "      <td>125</td>\n",
       "    </tr>\n",
       "    <tr>\n",
       "      <th>Yalova</th>\n",
       "      <td>124</td>\n",
       "    </tr>\n",
       "    <tr>\n",
       "      <th>Kırklareli</th>\n",
       "      <td>121</td>\n",
       "    </tr>\n",
       "    <tr>\n",
       "      <th>Düzce</th>\n",
       "      <td>117</td>\n",
       "    </tr>\n",
       "    <tr>\n",
       "      <th>Sivas</th>\n",
       "      <td>113</td>\n",
       "    </tr>\n",
       "    <tr>\n",
       "      <th>Giresun</th>\n",
       "      <td>108</td>\n",
       "    </tr>\n",
       "    <tr>\n",
       "      <th>Elazığ</th>\n",
       "      <td>105</td>\n",
       "    </tr>\n",
       "  </tbody>\n",
       "</table>\n",
       "</div>"
      ],
      "text/plain": [
       "               GENDER\n",
       "CITY                 \n",
       "İstanbul         4770\n",
       "Bursa            1652\n",
       "Diyarbakır       1307\n",
       "Ankara           1182\n",
       "İzmir            1151\n",
       "Antalya           789\n",
       "Adana             676\n",
       "Kocaeli           635\n",
       "Gaziantep         576\n",
       "Tekirdağ          370\n",
       "Kayseri           369\n",
       "Aydın             353\n",
       "Denizli           351\n",
       "Balıkesir         340\n",
       "Konya             334\n",
       "Hatay             318\n",
       "Sakarya           310\n",
       "Mersin            306\n",
       "Manisa            271\n",
       "Şanlıurfa         255\n",
       "Muğla             249\n",
       "Eskişehir         218\n",
       "Samsun            215\n",
       "Kahramanmaraş     201\n",
       "Van               166\n",
       "Trabzon           160\n",
       "Mardin            160\n",
       "Çanakkale         147\n",
       "Batman            142\n",
       "Edirne            136\n",
       "Erzurum           135\n",
       "Ordu              130\n",
       "Malatya           129\n",
       "Rize              125\n",
       "Yalova            124\n",
       "Kırklareli        121\n",
       "Düzce             117\n",
       "Sivas             113\n",
       "Giresun           108\n",
       "Elazığ            105"
      ]
     },
     "execution_count": 30,
     "metadata": {},
     "output_type": "execute_result"
    }
   ],
   "source": [
    "\n",
    "df3=df.loc[:,[\"CITY\",'GENDER']]\n",
    "df3=df3.groupby(df3[\"CITY\"]).count().sort_values(\"GENDER\",ascending=False)[0:40]\n",
    "df3"
   ]
  },
  {
   "cell_type": "code",
   "execution_count": 31,
   "id": "d55ba698",
   "metadata": {
    "execution": {
     "iopub.execute_input": "2022-10-21T05:50:32.688253Z",
     "iopub.status.busy": "2022-10-21T05:50:32.687424Z",
     "iopub.status.idle": "2022-10-21T05:50:33.712165Z",
     "shell.execute_reply": "2022-10-21T05:50:33.710849Z"
    },
    "papermill": {
     "duration": 1.050692,
     "end_time": "2022-10-21T05:50:33.715375",
     "exception": false,
     "start_time": "2022-10-21T05:50:32.664683",
     "status": "completed"
    },
    "tags": []
   },
   "outputs": [
    {
     "data": {
      "image/png": "[encoded data removed]",
      "text/plain": [
       "<Figure size 1800x576 with 1 Axes>"
      ]
     },
     "metadata": {},
     "output_type": "display_data"
    }
   ],
   "source": [
    "sns.set(rc={'figure.figsize':(25,8)})\n",
    "\n",
    "ax = sns.barplot(y = 'GENDER', x =df3.index,data=df3) #here gender also represent unique coustomer count\n",
    "plt.xticks(rotation=90)\n",
    "\n",
    "ax.set_xlabel(\"CITY\",fontsize = 20)\n",
    "ax.set_ylabel('UNIQUE COUSTOMER',fontsize = 20)\n",
    "ax.set_title(\"Top 40 cities by the unique count\", fontsize = 20)\n",
    "\n",
    "ax.bar_label(ax.containers[0],fmt='%i')\n",
    "plt.show()"
   ]
  },
  {
   "cell_type": "markdown",
   "id": "88feac34",
   "metadata": {
    "papermill": {
     "duration": 0.021113,
     "end_time": "2022-10-21T05:50:33.756240",
     "exception": false,
     "start_time": "2022-10-21T05:50:33.735127",
     "status": "completed"
    },
    "tags": []
   },
   "source": [
    "# 8. Plot the conversion for each month of the data (Conversion % = No. of unique First Deposits in the month / No. of unique Registrations in the month) Here, the conversion percentage should be reflected in red, and the labels in the X-axis should be year & month out of the Deposit Dates.\n"
   ]
  },
  {
   "cell_type": "code",
   "execution_count": 32,
   "id": "74afce84",
   "metadata": {
    "execution": {
     "iopub.execute_input": "2022-10-21T05:50:33.798680Z",
     "iopub.status.busy": "2022-10-21T05:50:33.798142Z",
     "iopub.status.idle": "2022-10-21T05:50:33.814512Z",
     "shell.execute_reply": "2022-10-21T05:50:33.812723Z"
    },
    "papermill": {
     "duration": 0.041089,
     "end_time": "2022-10-21T05:50:33.817349",
     "exception": false,
     "start_time": "2022-10-21T05:50:33.776260",
     "status": "completed"
    },
    "tags": []
   },
   "outputs": [],
   "source": [
    "df[\"DEP_MONTH_YEAR\"]=df['DEPOSIT_DATE'].dt.to_period('M')"
   ]
  },
  {
   "cell_type": "code",
   "execution_count": 33,
   "id": "eaf5ccb7",
   "metadata": {
    "execution": {
     "iopub.execute_input": "2022-10-21T05:50:33.861240Z",
     "iopub.status.busy": "2022-10-21T05:50:33.860279Z",
     "iopub.status.idle": "2022-10-21T05:50:33.890318Z",
     "shell.execute_reply": "2022-10-21T05:50:33.888424Z"
    },
    "papermill": {
     "duration": 0.055633,
     "end_time": "2022-10-21T05:50:33.893147",
     "exception": false,
     "start_time": "2022-10-21T05:50:33.837514",
     "status": "completed"
    },
    "tags": []
   },
   "outputs": [
    {
     "name": "stdout",
     "output_type": "stream",
     "text": [
      "22065\n",
      "[87.70053475935828, 60.0, 60.40462427745664, 53.605769230769226, 205.6338028169014, 49.30555555555556, 232.87671232876713, 53.753753753753756]\n",
      "['2022-06', '2022-02', '2022-05', '2022-03', '2022-07', '2022-04', '2022-08', '2022-01']\n"
     ]
    }
   ],
   "source": [
    "conversion = []\n",
    "Unique_month = list(df.DEP_MONTH_YEAR.unique().astype(str))\n",
    "total = 0 \n",
    "for values in df.DEP_MONTH_YEAR.unique():\n",
    "    temp = df.loc[df['DEP_MONTH_YEAR'] == values]\n",
    "    total = total + len(temp)\n",
    "    x = len(temp.FIRST_DEPOSIT_AMOUNT.unique())\n",
    "    y = len(temp.REGISTRATION_DATE.unique())\n",
    "    conversion.append((x/y)*100)\n",
    "print(total)\n",
    "print(conversion)\n",
    "print(Unique_month)"
   ]
  },
  {
   "cell_type": "code",
   "execution_count": 34,
   "id": "65d8e779",
   "metadata": {
    "execution": {
     "iopub.execute_input": "2022-10-21T05:50:33.935226Z",
     "iopub.status.busy": "2022-10-21T05:50:33.933965Z",
     "iopub.status.idle": "2022-10-21T05:50:34.283189Z",
     "shell.execute_reply": "2022-10-21T05:50:34.281207Z"
    },
    "papermill": {
     "duration": 0.374188,
     "end_time": "2022-10-21T05:50:34.286936",
     "exception": false,
     "start_time": "2022-10-21T05:50:33.912748",
     "status": "completed"
    },
    "tags": []
   },
   "outputs": [
    {
     "data": {
      "image/png": "[encoded data removed]",
      "text/plain": [
       "<Figure size 1800x576 with 1 Axes>"
      ]
     },
     "metadata": {},
     "output_type": "display_data"
    }
   ],
   "source": [
    "X = Unique_month\n",
    "Y = conversion\n",
    "  \n",
    "X_axis = np.arange(len(X))\n",
    "  \n",
    "plt.bar(X_axis, Y, 0.2, label = 'conversion',color = 'red')\n",
    "  \n",
    "plt.xticks(X_axis, X)\n",
    "plt.xlabel(\"Unique Month\")\n",
    "plt.ylabel(\"Conversion %\")\n",
    "plt.title(\" conversion for each month of the data\")\n",
    "plt.legend()\n",
    "plt.show()"
   ]
  },
  {
   "cell_type": "markdown",
   "id": "b5af69ce",
   "metadata": {
    "papermill": {
     "duration": 0.022612,
     "end_time": "2022-10-21T05:50:34.331886",
     "exception": false,
     "start_time": "2022-10-21T05:50:34.309274",
     "status": "completed"
    },
    "tags": []
   },
   "source": [
    "# 9. What was the conversion rate in June 2022, limit the answer to 2 decimal places. (in %)"
   ]
  },
  {
   "cell_type": "code",
   "execution_count": 35,
   "id": "a00ec707",
   "metadata": {
    "execution": {
     "iopub.execute_input": "2022-10-21T05:50:34.379945Z",
     "iopub.status.busy": "2022-10-21T05:50:34.379420Z",
     "iopub.status.idle": "2022-10-21T05:50:34.386432Z",
     "shell.execute_reply": "2022-10-21T05:50:34.384995Z"
    },
    "papermill": {
     "duration": 0.034291,
     "end_time": "2022-10-21T05:50:34.389027",
     "exception": false,
     "start_time": "2022-10-21T05:50:34.354736",
     "status": "completed"
    },
    "tags": []
   },
   "outputs": [
    {
     "name": "stdout",
     "output_type": "stream",
     "text": [
      "COnversoion rate in June 2022: 87.7\n"
     ]
    }
   ],
   "source": [
    "d = dict(zip(Unique_month,conversion))\n",
    "print(\"COnversoion rate in June 2022:\",round(d['2022-06'],2))"
   ]
  },
  {
   "cell_type": "markdown",
   "id": "c85e0173",
   "metadata": {
    "papermill": {
     "duration": 0.02175,
     "end_time": "2022-10-21T05:50:34.433565",
     "exception": false,
     "start_time": "2022-10-21T05:50:34.411815",
     "status": "completed"
    },
    "tags": []
   },
   "source": [
    "# 10. Make a copy of the original data in the file assignment_python as a pandas dataframe called 'df_ft' and generate the following columns:"
   ]
  },
  {
   "cell_type": "code",
   "execution_count": 36,
   "id": "8fef8abe",
   "metadata": {
    "execution": {
     "iopub.execute_input": "2022-10-21T05:50:34.477960Z",
     "iopub.status.busy": "2022-10-21T05:50:34.477055Z",
     "iopub.status.idle": "2022-10-21T05:50:34.512519Z",
     "shell.execute_reply": "2022-10-21T05:50:34.511289Z"
    },
    "papermill": {
     "duration": 0.061194,
     "end_time": "2022-10-21T05:50:34.515591",
     "exception": false,
     "start_time": "2022-10-21T05:50:34.454397",
     "status": "completed"
    },
    "tags": []
   },
   "outputs": [],
   "source": [
    "df_dt=pd.read_csv(\"/kaggle/input/lognrml/assignment_python.csv\")"
   ]
  },
  {
   "cell_type": "code",
   "execution_count": 37,
   "id": "7058bbda",
   "metadata": {
    "execution": {
     "iopub.execute_input": "2022-10-21T05:50:34.562351Z",
     "iopub.status.busy": "2022-10-21T05:50:34.561442Z",
     "iopub.status.idle": "2022-10-21T05:50:34.583618Z",
     "shell.execute_reply": "2022-10-21T05:50:34.582477Z"
    },
    "papermill": {
     "duration": 0.048866,
     "end_time": "2022-10-21T05:50:34.586481",
     "exception": false,
     "start_time": "2022-10-21T05:50:34.537615",
     "status": "completed"
    },
    "tags": []
   },
   "outputs": [
    {
     "data": {
      "text/html": [
       "<div>\n",
       "<style scoped>\n",
       "    .dataframe tbody tr th:only-of-type {\n",
       "        vertical-align: middle;\n",
       "    }\n",
       "\n",
       "    .dataframe tbody tr th {\n",
       "        vertical-align: top;\n",
       "    }\n",
       "\n",
       "    .dataframe thead th {\n",
       "        text-align: right;\n",
       "    }\n",
       "</style>\n",
       "<table border=\"1\" class=\"dataframe\">\n",
       "  <thead>\n",
       "    <tr style=\"text-align: right;\">\n",
       "      <th></th>\n",
       "      <th>IDCUSTOMER</th>\n",
       "      <th>GENDER</th>\n",
       "      <th>CITY</th>\n",
       "      <th>COUNTRY</th>\n",
       "      <th>FIRST_DEPOSIT_AMOUNT</th>\n",
       "      <th>REGISTRATION_DATE</th>\n",
       "      <th>DEPOSIT_DATE</th>\n",
       "    </tr>\n",
       "  </thead>\n",
       "  <tbody>\n",
       "    <tr>\n",
       "      <th>0</th>\n",
       "      <td>5075649</td>\n",
       "      <td>M</td>\n",
       "      <td>ankara</td>\n",
       "      <td>Turkey</td>\n",
       "      <td>100.0</td>\n",
       "      <td>2009-01-10</td>\n",
       "      <td>2022-06-05</td>\n",
       "    </tr>\n",
       "    <tr>\n",
       "      <th>1</th>\n",
       "      <td>5176235</td>\n",
       "      <td>M</td>\n",
       "      <td>elazığ</td>\n",
       "      <td>Turkey</td>\n",
       "      <td>400.0</td>\n",
       "      <td>2009-03-01</td>\n",
       "      <td>2022-02-11</td>\n",
       "    </tr>\n",
       "    <tr>\n",
       "      <th>2</th>\n",
       "      <td>5249140</td>\n",
       "      <td>M</td>\n",
       "      <td>izmir</td>\n",
       "      <td>Turkey</td>\n",
       "      <td>200.0</td>\n",
       "      <td>2009-04-06</td>\n",
       "      <td>2022-05-02</td>\n",
       "    </tr>\n",
       "    <tr>\n",
       "      <th>3</th>\n",
       "      <td>5300998</td>\n",
       "      <td>M</td>\n",
       "      <td>Üsküdar</td>\n",
       "      <td>Turkey</td>\n",
       "      <td>100.0</td>\n",
       "      <td>2009-05-02</td>\n",
       "      <td>2022-02-11</td>\n",
       "    </tr>\n",
       "    <tr>\n",
       "      <th>4</th>\n",
       "      <td>5371454</td>\n",
       "      <td>M</td>\n",
       "      <td>sakarya</td>\n",
       "      <td>Turkey</td>\n",
       "      <td>880.0</td>\n",
       "      <td>2009-06-07</td>\n",
       "      <td>2022-05-29</td>\n",
       "    </tr>\n",
       "    <tr>\n",
       "      <th>...</th>\n",
       "      <td>...</td>\n",
       "      <td>...</td>\n",
       "      <td>...</td>\n",
       "      <td>...</td>\n",
       "      <td>...</td>\n",
       "      <td>...</td>\n",
       "      <td>...</td>\n",
       "    </tr>\n",
       "    <tr>\n",
       "      <th>22060</th>\n",
       "      <td>147844121</td>\n",
       "      <td>M</td>\n",
       "      <td>İstanbul</td>\n",
       "      <td>Turkey</td>\n",
       "      <td>50.0</td>\n",
       "      <td>2022-08-31</td>\n",
       "      <td>2022-08-31</td>\n",
       "    </tr>\n",
       "    <tr>\n",
       "      <th>22061</th>\n",
       "      <td>147844491</td>\n",
       "      <td>M</td>\n",
       "      <td>Eskişehir</td>\n",
       "      <td>Turkey</td>\n",
       "      <td>50.0</td>\n",
       "      <td>2022-08-31</td>\n",
       "      <td>2022-08-31</td>\n",
       "    </tr>\n",
       "    <tr>\n",
       "      <th>22062</th>\n",
       "      <td>147846481</td>\n",
       "      <td>M</td>\n",
       "      <td>Van</td>\n",
       "      <td>Turkey</td>\n",
       "      <td>100.0</td>\n",
       "      <td>2022-08-31</td>\n",
       "      <td>2022-08-31</td>\n",
       "    </tr>\n",
       "    <tr>\n",
       "      <th>22063</th>\n",
       "      <td>147843561</td>\n",
       "      <td>M</td>\n",
       "      <td>Antalya</td>\n",
       "      <td>Turkey</td>\n",
       "      <td>200.0</td>\n",
       "      <td>2022-08-31</td>\n",
       "      <td>2022-08-31</td>\n",
       "    </tr>\n",
       "    <tr>\n",
       "      <th>22064</th>\n",
       "      <td>147844971</td>\n",
       "      <td>M</td>\n",
       "      <td>İstanbul</td>\n",
       "      <td>Turkey</td>\n",
       "      <td>150.0</td>\n",
       "      <td>2022-08-31</td>\n",
       "      <td>2022-08-31</td>\n",
       "    </tr>\n",
       "  </tbody>\n",
       "</table>\n",
       "<p>22065 rows × 7 columns</p>\n",
       "</div>"
      ],
      "text/plain": [
       "       IDCUSTOMER GENDER       CITY COUNTRY  FIRST_DEPOSIT_AMOUNT  \\\n",
       "0         5075649      M     ankara  Turkey                 100.0   \n",
       "1         5176235      M     elazığ  Turkey                 400.0   \n",
       "2         5249140      M      izmir  Turkey                 200.0   \n",
       "3         5300998      M    Üsküdar  Turkey                 100.0   \n",
       "4         5371454      M    sakarya  Turkey                 880.0   \n",
       "...           ...    ...        ...     ...                   ...   \n",
       "22060   147844121      M   İstanbul  Turkey                  50.0   \n",
       "22061   147844491      M  Eskişehir  Turkey                  50.0   \n",
       "22062   147846481      M        Van  Turkey                 100.0   \n",
       "22063   147843561      M    Antalya  Turkey                 200.0   \n",
       "22064   147844971      M   İstanbul  Turkey                 150.0   \n",
       "\n",
       "      REGISTRATION_DATE DEPOSIT_DATE  \n",
       "0            2009-01-10   2022-06-05  \n",
       "1            2009-03-01   2022-02-11  \n",
       "2            2009-04-06   2022-05-02  \n",
       "3            2009-05-02   2022-02-11  \n",
       "4            2009-06-07   2022-05-29  \n",
       "...                 ...          ...  \n",
       "22060        2022-08-31   2022-08-31  \n",
       "22061        2022-08-31   2022-08-31  \n",
       "22062        2022-08-31   2022-08-31  \n",
       "22063        2022-08-31   2022-08-31  \n",
       "22064        2022-08-31   2022-08-31  \n",
       "\n",
       "[22065 rows x 7 columns]"
      ]
     },
     "execution_count": 37,
     "metadata": {},
     "output_type": "execute_result"
    }
   ],
   "source": [
    "df_dt"
   ]
  },
  {
   "cell_type": "markdown",
   "id": "32a09627",
   "metadata": {
    "papermill": {
     "duration": 0.022297,
     "end_time": "2022-10-21T05:50:34.632481",
     "exception": false,
     "start_time": "2022-10-21T05:50:34.610184",
     "status": "completed"
    },
    "tags": []
   },
   "source": [
    "##     10.1. week of day column from the deposit date column\n"
   ]
  },
  {
   "cell_type": "code",
   "execution_count": 38,
   "id": "00e7cb22",
   "metadata": {
    "execution": {
     "iopub.execute_input": "2022-10-21T05:50:34.681008Z",
     "iopub.status.busy": "2022-10-21T05:50:34.679868Z",
     "iopub.status.idle": "2022-10-21T05:50:34.722750Z",
     "shell.execute_reply": "2022-10-21T05:50:34.721423Z"
    },
    "papermill": {
     "duration": 0.071477,
     "end_time": "2022-10-21T05:50:34.725740",
     "exception": false,
     "start_time": "2022-10-21T05:50:34.654263",
     "status": "completed"
    },
    "tags": []
   },
   "outputs": [
    {
     "data": {
      "text/html": [
       "<div>\n",
       "<style scoped>\n",
       "    .dataframe tbody tr th:only-of-type {\n",
       "        vertical-align: middle;\n",
       "    }\n",
       "\n",
       "    .dataframe tbody tr th {\n",
       "        vertical-align: top;\n",
       "    }\n",
       "\n",
       "    .dataframe thead th {\n",
       "        text-align: right;\n",
       "    }\n",
       "</style>\n",
       "<table border=\"1\" class=\"dataframe\">\n",
       "  <thead>\n",
       "    <tr style=\"text-align: right;\">\n",
       "      <th></th>\n",
       "      <th>IDCUSTOMER</th>\n",
       "      <th>GENDER</th>\n",
       "      <th>CITY</th>\n",
       "      <th>COUNTRY</th>\n",
       "      <th>FIRST_DEPOSIT_AMOUNT</th>\n",
       "      <th>REGISTRATION_DATE</th>\n",
       "      <th>DEPOSIT_DATE</th>\n",
       "      <th>day_of_week</th>\n",
       "    </tr>\n",
       "  </thead>\n",
       "  <tbody>\n",
       "    <tr>\n",
       "      <th>0</th>\n",
       "      <td>5075649</td>\n",
       "      <td>M</td>\n",
       "      <td>ankara</td>\n",
       "      <td>Turkey</td>\n",
       "      <td>100.0</td>\n",
       "      <td>2009-01-10</td>\n",
       "      <td>2022-06-05</td>\n",
       "      <td>Sunday</td>\n",
       "    </tr>\n",
       "    <tr>\n",
       "      <th>1</th>\n",
       "      <td>5176235</td>\n",
       "      <td>M</td>\n",
       "      <td>elazığ</td>\n",
       "      <td>Turkey</td>\n",
       "      <td>400.0</td>\n",
       "      <td>2009-03-01</td>\n",
       "      <td>2022-02-11</td>\n",
       "      <td>Friday</td>\n",
       "    </tr>\n",
       "    <tr>\n",
       "      <th>2</th>\n",
       "      <td>5249140</td>\n",
       "      <td>M</td>\n",
       "      <td>izmir</td>\n",
       "      <td>Turkey</td>\n",
       "      <td>200.0</td>\n",
       "      <td>2009-04-06</td>\n",
       "      <td>2022-05-02</td>\n",
       "      <td>Monday</td>\n",
       "    </tr>\n",
       "    <tr>\n",
       "      <th>3</th>\n",
       "      <td>5300998</td>\n",
       "      <td>M</td>\n",
       "      <td>Üsküdar</td>\n",
       "      <td>Turkey</td>\n",
       "      <td>100.0</td>\n",
       "      <td>2009-05-02</td>\n",
       "      <td>2022-02-11</td>\n",
       "      <td>Friday</td>\n",
       "    </tr>\n",
       "    <tr>\n",
       "      <th>4</th>\n",
       "      <td>5371454</td>\n",
       "      <td>M</td>\n",
       "      <td>sakarya</td>\n",
       "      <td>Turkey</td>\n",
       "      <td>880.0</td>\n",
       "      <td>2009-06-07</td>\n",
       "      <td>2022-05-29</td>\n",
       "      <td>Sunday</td>\n",
       "    </tr>\n",
       "    <tr>\n",
       "      <th>...</th>\n",
       "      <td>...</td>\n",
       "      <td>...</td>\n",
       "      <td>...</td>\n",
       "      <td>...</td>\n",
       "      <td>...</td>\n",
       "      <td>...</td>\n",
       "      <td>...</td>\n",
       "      <td>...</td>\n",
       "    </tr>\n",
       "    <tr>\n",
       "      <th>22060</th>\n",
       "      <td>147844121</td>\n",
       "      <td>M</td>\n",
       "      <td>İstanbul</td>\n",
       "      <td>Turkey</td>\n",
       "      <td>50.0</td>\n",
       "      <td>2022-08-31</td>\n",
       "      <td>2022-08-31</td>\n",
       "      <td>Wednesday</td>\n",
       "    </tr>\n",
       "    <tr>\n",
       "      <th>22061</th>\n",
       "      <td>147844491</td>\n",
       "      <td>M</td>\n",
       "      <td>Eskişehir</td>\n",
       "      <td>Turkey</td>\n",
       "      <td>50.0</td>\n",
       "      <td>2022-08-31</td>\n",
       "      <td>2022-08-31</td>\n",
       "      <td>Wednesday</td>\n",
       "    </tr>\n",
       "    <tr>\n",
       "      <th>22062</th>\n",
       "      <td>147846481</td>\n",
       "      <td>M</td>\n",
       "      <td>Van</td>\n",
       "      <td>Turkey</td>\n",
       "      <td>100.0</td>\n",
       "      <td>2022-08-31</td>\n",
       "      <td>2022-08-31</td>\n",
       "      <td>Wednesday</td>\n",
       "    </tr>\n",
       "    <tr>\n",
       "      <th>22063</th>\n",
       "      <td>147843561</td>\n",
       "      <td>M</td>\n",
       "      <td>Antalya</td>\n",
       "      <td>Turkey</td>\n",
       "      <td>200.0</td>\n",
       "      <td>2022-08-31</td>\n",
       "      <td>2022-08-31</td>\n",
       "      <td>Wednesday</td>\n",
       "    </tr>\n",
       "    <tr>\n",
       "      <th>22064</th>\n",
       "      <td>147844971</td>\n",
       "      <td>M</td>\n",
       "      <td>İstanbul</td>\n",
       "      <td>Turkey</td>\n",
       "      <td>150.0</td>\n",
       "      <td>2022-08-31</td>\n",
       "      <td>2022-08-31</td>\n",
       "      <td>Wednesday</td>\n",
       "    </tr>\n",
       "  </tbody>\n",
       "</table>\n",
       "<p>22065 rows × 8 columns</p>\n",
       "</div>"
      ],
      "text/plain": [
       "       IDCUSTOMER GENDER       CITY COUNTRY  FIRST_DEPOSIT_AMOUNT  \\\n",
       "0         5075649      M     ankara  Turkey                 100.0   \n",
       "1         5176235      M     elazığ  Turkey                 400.0   \n",
       "2         5249140      M      izmir  Turkey                 200.0   \n",
       "3         5300998      M    Üsküdar  Turkey                 100.0   \n",
       "4         5371454      M    sakarya  Turkey                 880.0   \n",
       "...           ...    ...        ...     ...                   ...   \n",
       "22060   147844121      M   İstanbul  Turkey                  50.0   \n",
       "22061   147844491      M  Eskişehir  Turkey                  50.0   \n",
       "22062   147846481      M        Van  Turkey                 100.0   \n",
       "22063   147843561      M    Antalya  Turkey                 200.0   \n",
       "22064   147844971      M   İstanbul  Turkey                 150.0   \n",
       "\n",
       "      REGISTRATION_DATE DEPOSIT_DATE day_of_week  \n",
       "0            2009-01-10   2022-06-05      Sunday  \n",
       "1            2009-03-01   2022-02-11      Friday  \n",
       "2            2009-04-06   2022-05-02      Monday  \n",
       "3            2009-05-02   2022-02-11      Friday  \n",
       "4            2009-06-07   2022-05-29      Sunday  \n",
       "...                 ...          ...         ...  \n",
       "22060        2022-08-31   2022-08-31   Wednesday  \n",
       "22061        2022-08-31   2022-08-31   Wednesday  \n",
       "22062        2022-08-31   2022-08-31   Wednesday  \n",
       "22063        2022-08-31   2022-08-31   Wednesday  \n",
       "22064        2022-08-31   2022-08-31   Wednesday  \n",
       "\n",
       "[22065 rows x 8 columns]"
      ]
     },
     "execution_count": 38,
     "metadata": {},
     "output_type": "execute_result"
    }
   ],
   "source": [
    "df_dt.DEPOSIT_DATE = pd.to_datetime(df_dt.DEPOSIT_DATE)\n",
    "df_dt['day_of_week'] = df_dt['DEPOSIT_DATE'].dt.day_name()\n",
    "df_dt"
   ]
  },
  {
   "cell_type": "markdown",
   "id": "9ecfc884",
   "metadata": {
    "papermill": {
     "duration": 0.022316,
     "end_time": "2022-10-21T05:50:34.772375",
     "exception": false,
     "start_time": "2022-10-21T05:50:34.750059",
     "status": "completed"
    },
    "tags": []
   },
   "source": [
    "## 10.2. descriptive statistics of the table"
   ]
  },
  {
   "cell_type": "code",
   "execution_count": 39,
   "id": "12d1ebe8",
   "metadata": {
    "execution": {
     "iopub.execute_input": "2022-10-21T05:50:34.820770Z",
     "iopub.status.busy": "2022-10-21T05:50:34.820262Z",
     "iopub.status.idle": "2022-10-21T05:50:34.847487Z",
     "shell.execute_reply": "2022-10-21T05:50:34.846047Z"
    },
    "papermill": {
     "duration": 0.05434,
     "end_time": "2022-10-21T05:50:34.850191",
     "exception": false,
     "start_time": "2022-10-21T05:50:34.795851",
     "status": "completed"
    },
    "tags": []
   },
   "outputs": [
    {
     "data": {
      "text/html": [
       "<div>\n",
       "<style scoped>\n",
       "    .dataframe tbody tr th:only-of-type {\n",
       "        vertical-align: middle;\n",
       "    }\n",
       "\n",
       "    .dataframe tbody tr th {\n",
       "        vertical-align: top;\n",
       "    }\n",
       "\n",
       "    .dataframe thead th {\n",
       "        text-align: right;\n",
       "    }\n",
       "</style>\n",
       "<table border=\"1\" class=\"dataframe\">\n",
       "  <thead>\n",
       "    <tr style=\"text-align: right;\">\n",
       "      <th></th>\n",
       "      <th>IDCUSTOMER</th>\n",
       "      <th>FIRST_DEPOSIT_AMOUNT</th>\n",
       "    </tr>\n",
       "  </thead>\n",
       "  <tbody>\n",
       "    <tr>\n",
       "      <th>count</th>\n",
       "      <td>2.206500e+04</td>\n",
       "      <td>22065.000000</td>\n",
       "    </tr>\n",
       "    <tr>\n",
       "      <th>mean</th>\n",
       "      <td>1.380593e+08</td>\n",
       "      <td>284.806530</td>\n",
       "    </tr>\n",
       "    <tr>\n",
       "      <th>std</th>\n",
       "      <td>3.272693e+07</td>\n",
       "      <td>943.993064</td>\n",
       "    </tr>\n",
       "    <tr>\n",
       "      <th>min</th>\n",
       "      <td>5.075649e+06</td>\n",
       "      <td>0.380000</td>\n",
       "    </tr>\n",
       "    <tr>\n",
       "      <th>25%</th>\n",
       "      <td>1.459097e+08</td>\n",
       "      <td>70.000000</td>\n",
       "    </tr>\n",
       "    <tr>\n",
       "      <th>50%</th>\n",
       "      <td>1.465139e+08</td>\n",
       "      <td>100.000000</td>\n",
       "    </tr>\n",
       "    <tr>\n",
       "      <th>75%</th>\n",
       "      <td>1.471483e+08</td>\n",
       "      <td>250.000000</td>\n",
       "    </tr>\n",
       "    <tr>\n",
       "      <th>max</th>\n",
       "      <td>1.478480e+08</td>\n",
       "      <td>100000.000000</td>\n",
       "    </tr>\n",
       "  </tbody>\n",
       "</table>\n",
       "</div>"
      ],
      "text/plain": [
       "         IDCUSTOMER  FIRST_DEPOSIT_AMOUNT\n",
       "count  2.206500e+04          22065.000000\n",
       "mean   1.380593e+08            284.806530\n",
       "std    3.272693e+07            943.993064\n",
       "min    5.075649e+06              0.380000\n",
       "25%    1.459097e+08             70.000000\n",
       "50%    1.465139e+08            100.000000\n",
       "75%    1.471483e+08            250.000000\n",
       "max    1.478480e+08         100000.000000"
      ]
     },
     "execution_count": 39,
     "metadata": {},
     "output_type": "execute_result"
    }
   ],
   "source": [
    "df_dt.describe()"
   ]
  },
  {
   "cell_type": "markdown",
   "id": "5ca844c2",
   "metadata": {
    "papermill": {
     "duration": 0.020829,
     "end_time": "2022-10-21T05:50:34.892727",
     "exception": false,
     "start_time": "2022-10-21T05:50:34.871898",
     "status": "completed"
    },
    "tags": []
   },
   "source": [
    "## 10.3. make a column with the first_deposit_amounts binned in bins of 500 and reflected against every customer ID (for example, someone with a first deposit amount of 880 should reflect in the binning column as '500-1000'.\n"
   ]
  },
  {
   "cell_type": "code",
   "execution_count": 40,
   "id": "23e09aad",
   "metadata": {
    "execution": {
     "iopub.execute_input": "2022-10-21T05:50:34.938462Z",
     "iopub.status.busy": "2022-10-21T05:50:34.937516Z",
     "iopub.status.idle": "2022-10-21T05:50:35.011933Z",
     "shell.execute_reply": "2022-10-21T05:50:35.010554Z"
    },
    "papermill": {
     "duration": 0.100867,
     "end_time": "2022-10-21T05:50:35.015181",
     "exception": false,
     "start_time": "2022-10-21T05:50:34.914314",
     "status": "completed"
    },
    "tags": []
   },
   "outputs": [
    {
     "data": {
      "text/html": [
       "<div>\n",
       "<style scoped>\n",
       "    .dataframe tbody tr th:only-of-type {\n",
       "        vertical-align: middle;\n",
       "    }\n",
       "\n",
       "    .dataframe tbody tr th {\n",
       "        vertical-align: top;\n",
       "    }\n",
       "\n",
       "    .dataframe thead th {\n",
       "        text-align: right;\n",
       "    }\n",
       "</style>\n",
       "<table border=\"1\" class=\"dataframe\">\n",
       "  <thead>\n",
       "    <tr style=\"text-align: right;\">\n",
       "      <th></th>\n",
       "      <th>IDCUSTOMER</th>\n",
       "      <th>GENDER</th>\n",
       "      <th>CITY</th>\n",
       "      <th>COUNTRY</th>\n",
       "      <th>FIRST_DEPOSIT_AMOUNT</th>\n",
       "      <th>REGISTRATION_DATE</th>\n",
       "      <th>DEPOSIT_DATE</th>\n",
       "      <th>day_of_week</th>\n",
       "      <th>binned</th>\n",
       "    </tr>\n",
       "  </thead>\n",
       "  <tbody>\n",
       "    <tr>\n",
       "      <th>0</th>\n",
       "      <td>5075649</td>\n",
       "      <td>M</td>\n",
       "      <td>ankara</td>\n",
       "      <td>Turkey</td>\n",
       "      <td>100.0</td>\n",
       "      <td>2009-01-10</td>\n",
       "      <td>2022-06-05</td>\n",
       "      <td>Sunday</td>\n",
       "      <td>(0, 500]</td>\n",
       "    </tr>\n",
       "    <tr>\n",
       "      <th>1</th>\n",
       "      <td>5176235</td>\n",
       "      <td>M</td>\n",
       "      <td>elazığ</td>\n",
       "      <td>Turkey</td>\n",
       "      <td>400.0</td>\n",
       "      <td>2009-03-01</td>\n",
       "      <td>2022-02-11</td>\n",
       "      <td>Friday</td>\n",
       "      <td>(0, 500]</td>\n",
       "    </tr>\n",
       "    <tr>\n",
       "      <th>2</th>\n",
       "      <td>5249140</td>\n",
       "      <td>M</td>\n",
       "      <td>izmir</td>\n",
       "      <td>Turkey</td>\n",
       "      <td>200.0</td>\n",
       "      <td>2009-04-06</td>\n",
       "      <td>2022-05-02</td>\n",
       "      <td>Monday</td>\n",
       "      <td>(0, 500]</td>\n",
       "    </tr>\n",
       "    <tr>\n",
       "      <th>3</th>\n",
       "      <td>5300998</td>\n",
       "      <td>M</td>\n",
       "      <td>Üsküdar</td>\n",
       "      <td>Turkey</td>\n",
       "      <td>100.0</td>\n",
       "      <td>2009-05-02</td>\n",
       "      <td>2022-02-11</td>\n",
       "      <td>Friday</td>\n",
       "      <td>(0, 500]</td>\n",
       "    </tr>\n",
       "    <tr>\n",
       "      <th>4</th>\n",
       "      <td>5371454</td>\n",
       "      <td>M</td>\n",
       "      <td>sakarya</td>\n",
       "      <td>Turkey</td>\n",
       "      <td>880.0</td>\n",
       "      <td>2009-06-07</td>\n",
       "      <td>2022-05-29</td>\n",
       "      <td>Sunday</td>\n",
       "      <td>(500, 1000]</td>\n",
       "    </tr>\n",
       "    <tr>\n",
       "      <th>...</th>\n",
       "      <td>...</td>\n",
       "      <td>...</td>\n",
       "      <td>...</td>\n",
       "      <td>...</td>\n",
       "      <td>...</td>\n",
       "      <td>...</td>\n",
       "      <td>...</td>\n",
       "      <td>...</td>\n",
       "      <td>...</td>\n",
       "    </tr>\n",
       "    <tr>\n",
       "      <th>22060</th>\n",
       "      <td>147844121</td>\n",
       "      <td>M</td>\n",
       "      <td>İstanbul</td>\n",
       "      <td>Turkey</td>\n",
       "      <td>50.0</td>\n",
       "      <td>2022-08-31</td>\n",
       "      <td>2022-08-31</td>\n",
       "      <td>Wednesday</td>\n",
       "      <td>(0, 500]</td>\n",
       "    </tr>\n",
       "    <tr>\n",
       "      <th>22061</th>\n",
       "      <td>147844491</td>\n",
       "      <td>M</td>\n",
       "      <td>Eskişehir</td>\n",
       "      <td>Turkey</td>\n",
       "      <td>50.0</td>\n",
       "      <td>2022-08-31</td>\n",
       "      <td>2022-08-31</td>\n",
       "      <td>Wednesday</td>\n",
       "      <td>(0, 500]</td>\n",
       "    </tr>\n",
       "    <tr>\n",
       "      <th>22062</th>\n",
       "      <td>147846481</td>\n",
       "      <td>M</td>\n",
       "      <td>Van</td>\n",
       "      <td>Turkey</td>\n",
       "      <td>100.0</td>\n",
       "      <td>2022-08-31</td>\n",
       "      <td>2022-08-31</td>\n",
       "      <td>Wednesday</td>\n",
       "      <td>(0, 500]</td>\n",
       "    </tr>\n",
       "    <tr>\n",
       "      <th>22063</th>\n",
       "      <td>147843561</td>\n",
       "      <td>M</td>\n",
       "      <td>Antalya</td>\n",
       "      <td>Turkey</td>\n",
       "      <td>200.0</td>\n",
       "      <td>2022-08-31</td>\n",
       "      <td>2022-08-31</td>\n",
       "      <td>Wednesday</td>\n",
       "      <td>(0, 500]</td>\n",
       "    </tr>\n",
       "    <tr>\n",
       "      <th>22064</th>\n",
       "      <td>147844971</td>\n",
       "      <td>M</td>\n",
       "      <td>İstanbul</td>\n",
       "      <td>Turkey</td>\n",
       "      <td>150.0</td>\n",
       "      <td>2022-08-31</td>\n",
       "      <td>2022-08-31</td>\n",
       "      <td>Wednesday</td>\n",
       "      <td>(0, 500]</td>\n",
       "    </tr>\n",
       "  </tbody>\n",
       "</table>\n",
       "<p>22065 rows × 9 columns</p>\n",
       "</div>"
      ],
      "text/plain": [
       "       IDCUSTOMER GENDER       CITY COUNTRY  FIRST_DEPOSIT_AMOUNT  \\\n",
       "0         5075649      M     ankara  Turkey                 100.0   \n",
       "1         5176235      M     elazığ  Turkey                 400.0   \n",
       "2         5249140      M      izmir  Turkey                 200.0   \n",
       "3         5300998      M    Üsküdar  Turkey                 100.0   \n",
       "4         5371454      M    sakarya  Turkey                 880.0   \n",
       "...           ...    ...        ...     ...                   ...   \n",
       "22060   147844121      M   İstanbul  Turkey                  50.0   \n",
       "22061   147844491      M  Eskişehir  Turkey                  50.0   \n",
       "22062   147846481      M        Van  Turkey                 100.0   \n",
       "22063   147843561      M    Antalya  Turkey                 200.0   \n",
       "22064   147844971      M   İstanbul  Turkey                 150.0   \n",
       "\n",
       "      REGISTRATION_DATE DEPOSIT_DATE day_of_week       binned  \n",
       "0            2009-01-10   2022-06-05      Sunday     (0, 500]  \n",
       "1            2009-03-01   2022-02-11      Friday     (0, 500]  \n",
       "2            2009-04-06   2022-05-02      Monday     (0, 500]  \n",
       "3            2009-05-02   2022-02-11      Friday     (0, 500]  \n",
       "4            2009-06-07   2022-05-29      Sunday  (500, 1000]  \n",
       "...                 ...          ...         ...          ...  \n",
       "22060        2022-08-31   2022-08-31   Wednesday     (0, 500]  \n",
       "22061        2022-08-31   2022-08-31   Wednesday     (0, 500]  \n",
       "22062        2022-08-31   2022-08-31   Wednesday     (0, 500]  \n",
       "22063        2022-08-31   2022-08-31   Wednesday     (0, 500]  \n",
       "22064        2022-08-31   2022-08-31   Wednesday     (0, 500]  \n",
       "\n",
       "[22065 rows x 9 columns]"
      ]
     },
     "execution_count": 40,
     "metadata": {},
     "output_type": "execute_result"
    }
   ],
   "source": [
    "df_dt['binned']=pd.cut(df_dt['FIRST_DEPOSIT_AMOUNT'], bins=pd.interval_range(start=0,end=100000,periods=200))\n",
    "df_dt"
   ]
  },
  {
   "cell_type": "markdown",
   "id": "72488dd1",
   "metadata": {
    "papermill": {
     "duration": 0.02225,
     "end_time": "2022-10-21T05:50:35.060418",
     "exception": false,
     "start_time": "2022-10-21T05:50:35.038168",
     "status": "completed"
    },
    "tags": []
   },
   "source": [
    "# 11. Find a 7 days moving average of number of registrations. (calculating an average of the T-7 days for every week's total registrations)"
   ]
  },
  {
   "cell_type": "code",
   "execution_count": 41,
   "id": "d780c7ca",
   "metadata": {
    "execution": {
     "iopub.execute_input": "2022-10-21T05:50:35.110116Z",
     "iopub.status.busy": "2022-10-21T05:50:35.108934Z",
     "iopub.status.idle": "2022-10-21T05:50:37.102690Z",
     "shell.execute_reply": "2022-10-21T05:50:37.101416Z"
    },
    "papermill": {
     "duration": 2.02219,
     "end_time": "2022-10-21T05:50:37.105624",
     "exception": false,
     "start_time": "2022-10-21T05:50:35.083434",
     "status": "completed"
    },
    "tags": []
   },
   "outputs": [
    {
     "name": "stdout",
     "output_type": "stream",
     "text": [
      "7-Day Moving average of date==> 2009-01-10 is 0.0\n",
      "7-Day Moving average of date==> 2009-03-01 is 0.0\n",
      "7-Day Moving average of date==> 2009-04-06 is 0.0\n",
      "7-Day Moving average of date==> 2009-05-02 is 0.0\n",
      "7-Day Moving average of date==> 2009-06-07 is 0.0\n",
      "7-Day Moving average of date==> 2009-10-29 is 0.0\n",
      "7-Day Moving average of date==> 2009-11-10 is 0.0\n",
      "7-Day Moving average of date==> 2009-12-03 is 0.0\n",
      "7-Day Moving average of date==> 2009-12-17 is 0.0\n",
      "7-Day Moving average of date==> 2010-01-17 is 0.0\n",
      "7-Day Moving average of date==> 2010-01-29 is 0.0\n",
      "7-Day Moving average of date==> 2010-02-20 is 0.0\n",
      "7-Day Moving average of date==> 2010-03-05 is 0.0\n",
      "7-Day Moving average of date==> 2010-05-20 is 0.0\n",
      "7-Day Moving average of date==> 2010-09-01 is 0.1429\n",
      "7-Day Moving average of date==> 2010-09-04 is 0.1429\n",
      "7-Day Moving average of date==> 2010-09-05 is 0.2857\n",
      "7-Day Moving average of date==> 2010-11-08 is 0.4286\n",
      "7-Day Moving average of date==> 2010-12-15 is 0.5714\n",
      "7-Day Moving average of date==> 2010-12-18 is 0.5714\n",
      "7-Day Moving average of date==> 2010-12-29 is 0.7143\n",
      "7-Day Moving average of date==> 2011-01-23 is 0.7143\n",
      "7-Day Moving average of date==> 2011-01-30 is 0.7143\n",
      "7-Day Moving average of date==> 2011-02-18 is 0.7143\n",
      "7-Day Moving average of date==> 2011-02-20 is 0.8571\n",
      "7-Day Moving average of date==> 2011-03-02 is 1.0\n",
      "7-Day Moving average of date==> 2011-03-13 is 1.0\n",
      "7-Day Moving average of date==> 2011-04-11 is 1.0\n",
      "7-Day Moving average of date==> 2011-04-27 is 1.0\n",
      "7-Day Moving average of date==> 2011-05-09 is 1.1429\n",
      "7-Day Moving average of date==> 2011-05-23 is 1.2857\n",
      "7-Day Moving average of date==> 2011-05-27 is 1.2857\n",
      "7-Day Moving average of date==> 2011-06-01 is 1.2857\n",
      "7-Day Moving average of date==> 2011-06-30 is 1.4286\n",
      "7-Day Moving average of date==> 2011-07-03 is 1.5714\n",
      "7-Day Moving average of date==> 2011-08-10 is 1.7143\n",
      "7-Day Moving average of date==> 2011-08-16 is 1.8571\n",
      "7-Day Moving average of date==> 2011-08-21 is 2.0\n",
      "7-Day Moving average of date==> 2011-08-21 is 2.1429\n",
      "7-Day Moving average of date==> 2011-08-28 is 2.1429\n",
      "7-Day Moving average of date==> 2011-09-03 is 2.1429\n",
      "7-Day Moving average of date==> 2011-09-24 is 2.1429\n",
      "7-Day Moving average of date==> 2011-10-01 is 2.1429\n",
      "7-Day Moving average of date==> 2011-10-05 is 2.1429\n",
      "7-Day Moving average of date==> 2011-10-16 is 2.2857\n",
      "7-Day Moving average of date==> 2011-10-25 is 2.2857\n",
      "7-Day Moving average of date==> 2011-10-30 is 2.2857\n",
      "7-Day Moving average of date==> 2011-11-21 is 2.2857\n",
      "7-Day Moving average of date==> 2011-11-23 is 2.2857\n",
      "7-Day Moving average of date==> 2011-11-27 is 2.7143\n",
      "7-Day Moving average of date==> 2011-12-03 is 2.8571\n",
      "7-Day Moving average of date==> 2011-12-08 is 2.8571\n",
      "7-Day Moving average of date==> 2011-12-10 is 3.0\n",
      "7-Day Moving average of date==> 2011-12-19 is 3.1429\n",
      "7-Day Moving average of date==> 2011-12-25 is 3.2857\n",
      "7-Day Moving average of date==> 2012-01-08 is 3.4286\n",
      "7-Day Moving average of date==> 2012-02-05 is 3.5714\n",
      "7-Day Moving average of date==> 2012-02-15 is 3.5714\n",
      "7-Day Moving average of date==> 2012-02-18 is 3.7143\n",
      "7-Day Moving average of date==> 2012-03-02 is 3.7143\n",
      "7-Day Moving average of date==> 2012-03-15 is 3.8571\n",
      "7-Day Moving average of date==> 2012-03-18 is 3.8571\n",
      "7-Day Moving average of date==> 2012-03-19 is 3.8571\n",
      "7-Day Moving average of date==> 2012-04-04 is 3.8571\n",
      "7-Day Moving average of date==> 2012-04-06 is 4.0\n",
      "7-Day Moving average of date==> 2012-04-15 is 4.0\n",
      "7-Day Moving average of date==> 2012-05-01 is 4.0\n",
      "7-Day Moving average of date==> 2012-05-05 is 4.1429\n",
      "7-Day Moving average of date==> 2012-05-11 is 4.2857\n",
      "7-Day Moving average of date==> 2012-05-17 is 4.2857\n",
      "7-Day Moving average of date==> 2012-06-28 is 4.4286\n",
      "7-Day Moving average of date==> 2012-08-20 is 4.7143\n",
      "7-Day Moving average of date==> 2012-09-01 is 5.0\n",
      "7-Day Moving average of date==> 2012-09-16 is 5.1429\n",
      "7-Day Moving average of date==> 2012-09-16 is 5.2857\n",
      "7-Day Moving average of date==> 2012-10-23 is 5.7143\n",
      "7-Day Moving average of date==> 2012-11-06 is 5.7143\n",
      "7-Day Moving average of date==> 2012-11-09 is 5.8571\n",
      "7-Day Moving average of date==> 2012-11-11 is 6.1429\n",
      "7-Day Moving average of date==> 2012-11-13 is 6.2857\n",
      "7-Day Moving average of date==> 2012-11-15 is 6.2857\n",
      "7-Day Moving average of date==> 2012-11-23 is 6.7143\n",
      "7-Day Moving average of date==> 2012-12-08 is 7.2857\n",
      "7-Day Moving average of date==> 2012-12-10 is 7.4286\n",
      "7-Day Moving average of date==> 2012-12-16 is 7.4286\n",
      "7-Day Moving average of date==> 2012-12-19 is 7.7143\n",
      "7-Day Moving average of date==> 2012-12-22 is 7.7143\n",
      "7-Day Moving average of date==> 2012-12-27 is 7.8571\n",
      "7-Day Moving average of date==> 2013-01-01 is 8.1429\n",
      "7-Day Moving average of date==> 2013-01-13 is 8.2857\n",
      "7-Day Moving average of date==> 2013-01-18 is 8.4286\n",
      "7-Day Moving average of date==> 2013-01-30 is 8.8571\n",
      "7-Day Moving average of date==> 2013-03-02 is 8.8571\n",
      "7-Day Moving average of date==> 2013-03-05 is 9.0\n",
      "7-Day Moving average of date==> 2013-04-06 is 9.0\n",
      "7-Day Moving average of date==> 2013-05-14 is 9.2857\n",
      "7-Day Moving average of date==> 2013-06-30 is 9.5714\n",
      "7-Day Moving average of date==> 2013-08-04 is 10.0\n",
      "7-Day Moving average of date==> 2013-08-21 is 10.1429\n",
      "7-Day Moving average of date==> 2013-08-26 is 10.2857\n"
     ]
    }
   ],
   "source": [
    "list1=[]\n",
    "temp = df.copy()\n",
    "date='2022-05-04'\n",
    "list2=list(temp.REGISTRATION_DATE.dt.date.astype(str))\n",
    "for date in list2[0:100]: #you want whole csv to print remove slicing \n",
    "    for i in range(7):\n",
    "        temp['REGISTRATION_DATE'] = temp['REGISTRATION_DATE']- np.timedelta64(1,'D')    \n",
    "        list1.append(temp[temp['REGISTRATION_DATE']==date].GENDER.count())\n",
    "    print(\"7-Day Moving average of date==>\",date,'is',round(sum(list1)/7,4))"
   ]
  },
  {
   "cell_type": "code",
   "execution_count": null,
   "id": "4f64c286",
   "metadata": {
    "papermill": {
     "duration": 0.022908,
     "end_time": "2022-10-21T05:50:37.153400",
     "exception": false,
     "start_time": "2022-10-21T05:50:37.130492",
     "status": "completed"
    },
    "tags": []
   },
   "outputs": [],
   "source": []
  }
 ],
 "metadata": {
  "kernelspec": {
   "display_name": "Python 3",
   "language": "python",
   "name": "python3"
  },
  "language_info": {
   "codemirror_mode": {
    "name": "ipython",
    "version": 3
   },
   "file_extension": ".py",
   "mimetype": "text/x-python",
   "name": "python",
   "nbconvert_exporter": "python",
   "pygments_lexer": "ipython3",
   "version": "3.7.12"
  },
  "papermill": {
   "default_parameters": {},
   "duration": 21.621407,
   "end_time": "2022-10-21T05:50:38.415684",
   "environment_variables": {},
   "exception": null,
   "input_path": "__notebook__.ipynb",
   "output_path": "__notebook__.ipynb",
   "parameters": {},
   "start_time": "2022-10-21T05:50:16.794277",
   "version": "2.3.4"
  }
 },
 "nbformat": 4,
 "nbformat_minor": 5
}
