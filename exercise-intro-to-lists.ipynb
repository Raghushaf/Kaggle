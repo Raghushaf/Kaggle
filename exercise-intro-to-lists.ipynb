{
 "cells": [
  {
   "cell_type": "markdown",
   "id": "3511b5d2",
   "metadata": {
    "papermill": {
     "duration": 0.008571,
     "end_time": "2022-09-14T11:29:13.007389",
     "exception": false,
     "start_time": "2022-09-14T11:29:12.998818",
     "status": "completed"
    },
    "tags": []
   },
   "source": [
    "**This notebook is an exercise in the [Intro to Programming](https://www.kaggle.com/learn/intro-to-programming) course.  You can reference the tutorial at [this link](https://www.kaggle.com/alexisbcook/intro-to-lists).**\n",
    "\n",
    "---\n"
   ]
  },
  {
   "cell_type": "markdown",
   "id": "424900d8",
   "metadata": {
    "papermill": {
     "duration": 0.005999,
     "end_time": "2022-09-14T11:29:13.020744",
     "exception": false,
     "start_time": "2022-09-14T11:29:13.014745",
     "status": "completed"
    },
    "tags": []
   },
   "source": [
    "In the tutorial, you learned how to define and modify Python lists.  In this exercise, you will use your new knowledge to solve several problems.\n",
    "\n",
    "# Set up the notebook\n",
    "\n",
    "Run the next code cell without changes to set up the notebook."
   ]
  },
  {
   "cell_type": "code",
   "execution_count": 1,
   "id": "4cbdbeb8",
   "metadata": {
    "execution": {
     "iopub.execute_input": "2022-09-14T11:29:13.035436Z",
     "iopub.status.busy": "2022-09-14T11:29:13.034833Z",
     "iopub.status.idle": "2022-09-14T11:29:13.090071Z",
     "shell.execute_reply": "2022-09-14T11:29:13.089236Z"
    },
    "papermill": {
     "duration": 0.065598,
     "end_time": "2022-09-14T11:29:13.092560",
     "exception": false,
     "start_time": "2022-09-14T11:29:13.026962",
     "status": "completed"
    },
    "tags": []
   },
   "outputs": [
    {
     "name": "stdout",
     "output_type": "stream",
     "text": [
      "Setup complete.\n"
     ]
    }
   ],
   "source": [
    "from learntools.core import binder\n",
    "binder.bind(globals())\n",
    "from learntools.intro_to_programming.ex5 import *\n",
    "print('Setup complete.')"
   ]
  },
  {
   "cell_type": "markdown",
   "id": "8ef01b90",
   "metadata": {
    "papermill": {
     "duration": 0.006106,
     "end_time": "2022-09-14T11:29:13.105421",
     "exception": false,
     "start_time": "2022-09-14T11:29:13.099315",
     "status": "completed"
    },
    "tags": []
   },
   "source": [
    "# Question 1\n",
    "\n",
    "You own a restaurant with five food dishes, organized in the Python list `menu` below.  One day, you decide to:\n",
    "- remove bean soup (`'bean soup'`) from the menu, and\n",
    "- add roasted beet salad (`'roasted beet salad'`) to the menu.\n",
    "\n",
    "Implement this change to the list below.  While completing this task, \n",
    "- do not change the line that creates the `menu` list.  \n",
    "- your answer should use `.remove()` and `.append()`.  "
   ]
  },
  {
   "cell_type": "code",
   "execution_count": 2,
   "id": "d65b1f83",
   "metadata": {
    "execution": {
     "iopub.execute_input": "2022-09-14T11:29:13.119963Z",
     "iopub.status.busy": "2022-09-14T11:29:13.119532Z",
     "iopub.status.idle": "2022-09-14T11:29:13.130889Z",
     "shell.execute_reply": "2022-09-14T11:29:13.129642Z"
    },
    "papermill": {
     "duration": 0.021382,
     "end_time": "2022-09-14T11:29:13.133088",
     "exception": false,
     "start_time": "2022-09-14T11:29:13.111706",
     "status": "completed"
    },
    "tags": []
   },
   "outputs": [
    {
     "data": {
      "application/javascript": [
       "parent.postMessage({\"jupyterEvent\": \"custom.exercise_interaction\", \"data\": {\"outcomeType\": 1, \"valueTowardsCompletion\": 0.2, \"interactionType\": 1, \"questionType\": 2, \"questionId\": \"1_FoodMenu\", \"learnToolsVersion\": \"0.3.4\", \"failureMessage\": \"\", \"exceptionClass\": \"\", \"trace\": \"\"}}, \"*\")"
      ],
      "text/plain": [
       "<IPython.core.display.Javascript object>"
      ]
     },
     "metadata": {},
     "output_type": "display_data"
    },
    {
     "data": {
      "text/markdown": [
       "<span style=\"color:#33cc33\">Correct</span>"
      ],
      "text/plain": [
       "Correct"
      ]
     },
     "metadata": {},
     "output_type": "display_data"
    }
   ],
   "source": [
    "# Do not change: Initial menu for your restaurant\n",
    "menu = ['stewed meat with onions', 'bean soup', 'risotto with trout and shrimp',\n",
    "       'fish soup with cream and onion', 'gyro']\n",
    "\n",
    "# TODO: remove 'bean soup', and add 'roasted beet salad' to the end of the menu\n",
    "menu.remove(\"bean soup\")\n",
    "menu.append(\"roasted beet salad\")\n",
    "\n",
    "# Do not change: Check your answer\n",
    "q1.check()"
   ]
  },
  {
   "cell_type": "code",
   "execution_count": 3,
   "id": "2c61d31e",
   "metadata": {
    "execution": {
     "iopub.execute_input": "2022-09-14T11:29:13.148432Z",
     "iopub.status.busy": "2022-09-14T11:29:13.147337Z",
     "iopub.status.idle": "2022-09-14T11:29:13.152470Z",
     "shell.execute_reply": "2022-09-14T11:29:13.151339Z"
    },
    "papermill": {
     "duration": 0.015239,
     "end_time": "2022-09-14T11:29:13.154861",
     "exception": false,
     "start_time": "2022-09-14T11:29:13.139622",
     "status": "completed"
    },
    "tags": []
   },
   "outputs": [],
   "source": [
    "# Uncomment to see a hint\n",
    "#q1.hint()\n",
    "\n",
    "# Uncomment to see the solution\n",
    "#q1.solution()"
   ]
  },
  {
   "cell_type": "markdown",
   "id": "451fea5c",
   "metadata": {
    "papermill": {
     "duration": 0.006211,
     "end_time": "2022-09-14T11:29:13.167793",
     "exception": false,
     "start_time": "2022-09-14T11:29:13.161582",
     "status": "completed"
    },
    "tags": []
   },
   "source": [
    "# Question 2\n",
    "\n",
    "The list `num_customers` contains the number of customers who came into your restaurant every day over the last month (which lasted thirty days).  Fill in values for each of the following:\n",
    "- `avg_first_seven` - average number of customers who visited in the first seven days\n",
    "- `avg_last_seven` - average number of customers who visited in the last seven days\n",
    "- `max_month` - number of customers on the day that got the most customers in the last month\n",
    "- `min_month` - number of customers on the day that got the least customers in the last month\n",
    "\n",
    "Answer this question by writing code.  For instance, if you have to find the minimum value in a list, use `min()` instead of scanning for the smallest value and directly filling in a number."
   ]
  },
  {
   "cell_type": "code",
   "execution_count": 4,
   "id": "0c56921c",
   "metadata": {
    "execution": {
     "iopub.execute_input": "2022-09-14T11:29:13.182622Z",
     "iopub.status.busy": "2022-09-14T11:29:13.182159Z",
     "iopub.status.idle": "2022-09-14T11:29:13.194099Z",
     "shell.execute_reply": "2022-09-14T11:29:13.192920Z"
    },
    "papermill": {
     "duration": 0.021961,
     "end_time": "2022-09-14T11:29:13.196215",
     "exception": false,
     "start_time": "2022-09-14T11:29:13.174254",
     "status": "completed"
    },
    "tags": []
   },
   "outputs": [
    {
     "data": {
      "application/javascript": [
       "parent.postMessage({\"jupyterEvent\": \"custom.exercise_interaction\", \"data\": {\"outcomeType\": 1, \"valueTowardsCompletion\": 0.2, \"interactionType\": 1, \"questionType\": 1, \"questionId\": \"2_NumCustomers\", \"learnToolsVersion\": \"0.3.4\", \"failureMessage\": \"\", \"exceptionClass\": \"\", \"trace\": \"\"}}, \"*\")"
      ],
      "text/plain": [
       "<IPython.core.display.Javascript object>"
      ]
     },
     "metadata": {},
     "output_type": "display_data"
    },
    {
     "data": {
      "text/markdown": [
       "<span style=\"color:#33cc33\">Correct</span>"
      ],
      "text/plain": [
       "Correct"
      ]
     },
     "metadata": {},
     "output_type": "display_data"
    }
   ],
   "source": [
    "# Do not change: Number of customers each day for the last month\n",
    "num_customers = [137, 147, 135, 128, 170, 174, 165, 146, 126, 159,\n",
    "                 141, 148, 132, 147, 168, 153, 170, 161, 148, 152,\n",
    "                 141, 151, 131, 149, 164, 163, 143, 143, 166, 171]\n",
    "\n",
    "# TODO: Fill in values for the variables below\n",
    "avg_first_seven = sum(num_customers[:7])/7\n",
    "avg_last_seven = sum(num_customers[-7:])/7 \n",
    "max_month = max(num_customers)\n",
    "min_month = min(num_customers)\n",
    "\n",
    "# Do not change: Check your answer\n",
    "q2.check()"
   ]
  },
  {
   "cell_type": "code",
   "execution_count": 5,
   "id": "b54f015a",
   "metadata": {
    "execution": {
     "iopub.execute_input": "2022-09-14T11:29:13.211398Z",
     "iopub.status.busy": "2022-09-14T11:29:13.211004Z",
     "iopub.status.idle": "2022-09-14T11:29:13.220321Z",
     "shell.execute_reply": "2022-09-14T11:29:13.219009Z"
    },
    "papermill": {
     "duration": 0.019643,
     "end_time": "2022-09-14T11:29:13.222581",
     "exception": false,
     "start_time": "2022-09-14T11:29:13.202938",
     "status": "completed"
    },
    "tags": []
   },
   "outputs": [
    {
     "data": {
      "application/javascript": [
       "parent.postMessage({\"jupyterEvent\": \"custom.exercise_interaction\", \"data\": {\"interactionType\": 3, \"questionType\": 1, \"questionId\": \"2_NumCustomers\", \"learnToolsVersion\": \"0.3.4\", \"valueTowardsCompletion\": 0.0, \"failureMessage\": \"\", \"exceptionClass\": \"\", \"trace\": \"\", \"outcomeType\": 4}}, \"*\")"
      ],
      "text/plain": [
       "<IPython.core.display.Javascript object>"
      ]
     },
     "metadata": {},
     "output_type": "display_data"
    },
    {
     "data": {
      "text/markdown": [
       "<span style=\"color:#33cc99\">Solution:</span> \n",
       "```python\n",
       "# Fill in values for the variables below\n",
       "avg_first_seven = sum(num_customers[:7])/7 \n",
       "avg_last_seven = sum(num_customers[-7:])/7\n",
       "max_month = max(num_customers)\n",
       "min_month = min(num_customers)\n",
       "\n",
       "```"
      ],
      "text/plain": [
       "Solution: \n",
       "```python\n",
       "# Fill in values for the variables below\n",
       "avg_first_seven = sum(num_customers[:7])/7 \n",
       "avg_last_seven = sum(num_customers[-7:])/7\n",
       "max_month = max(num_customers)\n",
       "min_month = min(num_customers)\n",
       "\n",
       "```"
      ]
     },
     "metadata": {},
     "output_type": "display_data"
    }
   ],
   "source": [
    "# Uncomment to see a hint\n",
    "#q2.hint()\n",
    "\n",
    "# Uncomment to see the solution\n",
    "q2.solution()"
   ]
  },
  {
   "cell_type": "markdown",
   "id": "850a1230",
   "metadata": {
    "papermill": {
     "duration": 0.006646,
     "end_time": "2022-09-14T11:29:13.236305",
     "exception": false,
     "start_time": "2022-09-14T11:29:13.229659",
     "status": "completed"
    },
    "tags": []
   },
   "source": [
    "# Question 3\n",
    "\n",
    "In the tutorial, we gave an example of a Python string with information that was better as a list."
   ]
  },
  {
   "cell_type": "code",
   "execution_count": 6,
   "id": "e7afdf6c",
   "metadata": {
    "execution": {
     "iopub.execute_input": "2022-09-14T11:29:13.252126Z",
     "iopub.status.busy": "2022-09-14T11:29:13.251714Z",
     "iopub.status.idle": "2022-09-14T11:29:13.256415Z",
     "shell.execute_reply": "2022-09-14T11:29:13.255350Z"
    },
    "papermill": {
     "duration": 0.015548,
     "end_time": "2022-09-14T11:29:13.258881",
     "exception": false,
     "start_time": "2022-09-14T11:29:13.243333",
     "status": "completed"
    },
    "tags": []
   },
   "outputs": [],
   "source": [
    "flowers = \"pink primrose,hard-leaved pocket orchid,canterbury bells,sweet pea,english marigold,tiger lily,moon orchid,bird of paradise,monkshood,globe thistle\""
   ]
  },
  {
   "cell_type": "markdown",
   "id": "dcd3228c",
   "metadata": {
    "papermill": {
     "duration": 0.006695,
     "end_time": "2022-09-14T11:29:13.272774",
     "exception": false,
     "start_time": "2022-09-14T11:29:13.266079",
     "status": "completed"
    },
    "tags": []
   },
   "source": [
    "You can actually use Python to quickly turn this string into a list with `.split()`.  In the parentheses, we need to provide the character should be used to mark the end of one list item and the beginning of another, and enclose it in quotation marks.  In this case, that character is a comma."
   ]
  },
  {
   "cell_type": "code",
   "execution_count": 7,
   "id": "fd61620f",
   "metadata": {
    "execution": {
     "iopub.execute_input": "2022-09-14T11:29:13.289627Z",
     "iopub.status.busy": "2022-09-14T11:29:13.288858Z",
     "iopub.status.idle": "2022-09-14T11:29:13.295217Z",
     "shell.execute_reply": "2022-09-14T11:29:13.294000Z"
    },
    "papermill": {
     "duration": 0.017677,
     "end_time": "2022-09-14T11:29:13.298119",
     "exception": false,
     "start_time": "2022-09-14T11:29:13.280442",
     "status": "completed"
    },
    "tags": []
   },
   "outputs": [
    {
     "name": "stdout",
     "output_type": "stream",
     "text": [
      "['pink primrose', 'hard-leaved pocket orchid', 'canterbury bells', 'sweet pea', 'english marigold', 'tiger lily', 'moon orchid', 'bird of paradise', 'monkshood', 'globe thistle']\n"
     ]
    }
   ],
   "source": [
    " print(flowers.split(\",\"))"
   ]
  },
  {
   "cell_type": "markdown",
   "id": "b1b35778",
   "metadata": {
    "papermill": {
     "duration": 0.006923,
     "end_time": "2022-09-14T11:29:13.312696",
     "exception": false,
     "start_time": "2022-09-14T11:29:13.305773",
     "status": "completed"
    },
    "tags": []
   },
   "source": [
    "Now it is your turn to try this out!  Create two Python lists:\n",
    "- `letters` should be a Python list where each entry is an uppercase letter of the English alphabet.  For instance, the first two entries should be `\"A\"` and `\"B\"`, and the final two entries should be `\"Y\"` and `\"Z\"`.  Use the string `alphabet` to create this list.\n",
    "- `address` should be a Python list where each row in `address` is a different item in the list.  Currently, each row in `address` is separated by a comma. "
   ]
  },
  {
   "cell_type": "code",
   "execution_count": 8,
   "id": "56c19c83",
   "metadata": {
    "execution": {
     "iopub.execute_input": "2022-09-14T11:29:13.328818Z",
     "iopub.status.busy": "2022-09-14T11:29:13.328404Z",
     "iopub.status.idle": "2022-09-14T11:29:13.336219Z",
     "shell.execute_reply": "2022-09-14T11:29:13.335426Z"
    },
    "papermill": {
     "duration": 0.018299,
     "end_time": "2022-09-14T11:29:13.338199",
     "exception": false,
     "start_time": "2022-09-14T11:29:13.319900",
     "status": "completed"
    },
    "tags": []
   },
   "outputs": [
    {
     "data": {
      "application/javascript": [
       "parent.postMessage({\"jupyterEvent\": \"custom.exercise_interaction\", \"data\": {\"outcomeType\": 1, \"valueTowardsCompletion\": 0.2, \"interactionType\": 1, \"questionType\": 1, \"questionId\": \"3_SplitString\", \"learnToolsVersion\": \"0.3.4\", \"failureMessage\": \"\", \"exceptionClass\": \"\", \"trace\": \"\"}}, \"*\")"
      ],
      "text/plain": [
       "<IPython.core.display.Javascript object>"
      ]
     },
     "metadata": {},
     "output_type": "display_data"
    },
    {
     "data": {
      "text/markdown": [
       "<span style=\"color:#33cc33\">Correct</span>"
      ],
      "text/plain": [
       "Correct"
      ]
     },
     "metadata": {},
     "output_type": "display_data"
    }
   ],
   "source": [
    "# DO not change: Define two Python strings\n",
    "alphabet = \"A.B.C.D.E.F.G.H.I.J.K.L.M.N.O.P.Q.R.S.T.U.V.W.X.Y.Z\"\n",
    "address = \"Mr. H. Potter,The cupboard under the Stairs,4 Privet Drive,Little Whinging,Surrey\"\n",
    "\n",
    "# TODO: Convert strings into Python lists\n",
    "letters = alphabet.split(\".\")\n",
    "formatted_address = address.split(',')\n",
    "\n",
    "# Do not change: Check your answer\n",
    "q3.check()"
   ]
  },
  {
   "cell_type": "code",
   "execution_count": 9,
   "id": "83c0919e",
   "metadata": {
    "execution": {
     "iopub.execute_input": "2022-09-14T11:29:13.354956Z",
     "iopub.status.busy": "2022-09-14T11:29:13.354478Z",
     "iopub.status.idle": "2022-09-14T11:29:13.359636Z",
     "shell.execute_reply": "2022-09-14T11:29:13.358291Z"
    },
    "papermill": {
     "duration": 0.016331,
     "end_time": "2022-09-14T11:29:13.361810",
     "exception": false,
     "start_time": "2022-09-14T11:29:13.345479",
     "status": "completed"
    },
    "tags": []
   },
   "outputs": [],
   "source": [
    "# Uncomment to see a hint\n",
    "#q3.hint()\n",
    "\n",
    "# Uncomment to see the solution\n",
    "#q3.solution()"
   ]
  },
  {
   "cell_type": "markdown",
   "id": "9fda2b8b",
   "metadata": {
    "papermill": {
     "duration": 0.007101,
     "end_time": "2022-09-14T11:29:13.376470",
     "exception": false,
     "start_time": "2022-09-14T11:29:13.369369",
     "status": "completed"
    },
    "tags": []
   },
   "source": [
    "# Question 4\n",
    "\n",
    "In the Python course, you'll learn all about **list comprehensions**, which allow you to create a list based on the values in another list.  In this question, you'll get a brief preview of how they work.\n",
    "\n",
    "Say we're working with the list below."
   ]
  },
  {
   "cell_type": "code",
   "execution_count": 10,
   "id": "9d1c1077",
   "metadata": {
    "execution": {
     "iopub.execute_input": "2022-09-14T11:29:13.393260Z",
     "iopub.status.busy": "2022-09-14T11:29:13.392609Z",
     "iopub.status.idle": "2022-09-14T11:29:13.397309Z",
     "shell.execute_reply": "2022-09-14T11:29:13.396547Z"
    },
    "papermill": {
     "duration": 0.015432,
     "end_time": "2022-09-14T11:29:13.399341",
     "exception": false,
     "start_time": "2022-09-14T11:29:13.383909",
     "status": "completed"
    },
    "tags": []
   },
   "outputs": [],
   "source": [
    "test_ratings = [1, 2, 3, 4, 5]"
   ]
  },
  {
   "cell_type": "markdown",
   "id": "8778b374",
   "metadata": {
    "papermill": {
     "duration": 0.006889,
     "end_time": "2022-09-14T11:29:13.413628",
     "exception": false,
     "start_time": "2022-09-14T11:29:13.406739",
     "status": "completed"
    },
    "tags": []
   },
   "source": [
    "Then we can use this list (`test_ratings`) to create a new list (`test_liked`) where each item has been turned into a boolean, depending on whether or not the item is greater than or equal to four."
   ]
  },
  {
   "cell_type": "code",
   "execution_count": 11,
   "id": "92ec5a3b",
   "metadata": {
    "execution": {
     "iopub.execute_input": "2022-09-14T11:29:13.430708Z",
     "iopub.status.busy": "2022-09-14T11:29:13.429916Z",
     "iopub.status.idle": "2022-09-14T11:29:13.436648Z",
     "shell.execute_reply": "2022-09-14T11:29:13.435167Z"
    },
    "papermill": {
     "duration": 0.018212,
     "end_time": "2022-09-14T11:29:13.439375",
     "exception": false,
     "start_time": "2022-09-14T11:29:13.421163",
     "status": "completed"
    },
    "tags": []
   },
   "outputs": [
    {
     "name": "stdout",
     "output_type": "stream",
     "text": [
      "[False, False, False, True, True]\n"
     ]
    }
   ],
   "source": [
    "test_liked = [i>=4 for i in test_ratings]\n",
    "print(test_liked)"
   ]
  },
  {
   "cell_type": "markdown",
   "id": "99d79fff",
   "metadata": {
    "papermill": {
     "duration": 0.007109,
     "end_time": "2022-09-14T11:29:13.454234",
     "exception": false,
     "start_time": "2022-09-14T11:29:13.447125",
     "status": "completed"
    },
    "tags": []
   },
   "source": [
    "In this question, you'll use this list comprehension to define a function `percentage_liked()` that takes one argument as input:\n",
    "- `ratings`: list of ratings that people gave to a movie, where each rating is a number between 1-5, inclusive\n",
    "\n",
    "We say someone liked the movie, if they gave a rating of either 4 or 5.  Your function should return the percentage of people who liked the movie.\n",
    "\n",
    "For instance, if we supply a value of `[1, 2, 3, 4, 5, 4, 5, 1]`, then 50% (4/8) of the people liked the movie, and the function should return `0.5`.\n",
    "\n",
    "Part of the function has already been completed for you.  You need only use `list_liked` to calculate `percentage_liked`."
   ]
  },
  {
   "cell_type": "code",
   "execution_count": 12,
   "id": "ed3599b6",
   "metadata": {
    "execution": {
     "iopub.execute_input": "2022-09-14T11:29:13.471000Z",
     "iopub.status.busy": "2022-09-14T11:29:13.470238Z",
     "iopub.status.idle": "2022-09-14T11:29:13.480810Z",
     "shell.execute_reply": "2022-09-14T11:29:13.479884Z"
    },
    "papermill": {
     "duration": 0.021491,
     "end_time": "2022-09-14T11:29:13.483027",
     "exception": false,
     "start_time": "2022-09-14T11:29:13.461536",
     "status": "completed"
    },
    "tags": []
   },
   "outputs": [
    {
     "data": {
      "application/javascript": [
       "parent.postMessage({\"jupyterEvent\": \"custom.exercise_interaction\", \"data\": {\"outcomeType\": 1, \"valueTowardsCompletion\": 0.2, \"interactionType\": 1, \"questionType\": 2, \"questionId\": \"4_PercentageLiked\", \"learnToolsVersion\": \"0.3.4\", \"failureMessage\": \"\", \"exceptionClass\": \"\", \"trace\": \"\"}}, \"*\")"
      ],
      "text/plain": [
       "<IPython.core.display.Javascript object>"
      ]
     },
     "metadata": {},
     "output_type": "display_data"
    },
    {
     "data": {
      "text/markdown": [
       "<span style=\"color:#33cc33\">Correct</span>"
      ],
      "text/plain": [
       "Correct"
      ]
     },
     "metadata": {},
     "output_type": "display_data"
    }
   ],
   "source": [
    "\n",
    "def percentage_liked(ratings):\n",
    "    list_liked = [i>=4 for i in ratings]\n",
    "    # TODO: Complete the function\n",
    "    percentage_liked = sum(list_liked)/len(list_liked)\n",
    "    return percentage_liked\n",
    "\n",
    "# Do not change: should return 0.5\n",
    "percentage_liked([1, 2, 3, 4, 5, 4, 5, 1])\n",
    "\n",
    "# Do not change: Check your answer\n",
    "q4.check()"
   ]
  },
  {
   "cell_type": "code",
   "execution_count": 13,
   "id": "ff27524c",
   "metadata": {
    "execution": {
     "iopub.execute_input": "2022-09-14T11:29:13.500768Z",
     "iopub.status.busy": "2022-09-14T11:29:13.499978Z",
     "iopub.status.idle": "2022-09-14T11:29:13.504594Z",
     "shell.execute_reply": "2022-09-14T11:29:13.503793Z"
    },
    "papermill": {
     "duration": 0.015937,
     "end_time": "2022-09-14T11:29:13.506752",
     "exception": false,
     "start_time": "2022-09-14T11:29:13.490815",
     "status": "completed"
    },
    "tags": []
   },
   "outputs": [],
   "source": [
    "# Uncomment to see a hint\n",
    "#q4.hint()\n",
    "\n",
    "# Uncomment to see the solution\n",
    "#q4.solution()"
   ]
  },
  {
   "cell_type": "markdown",
   "id": "2ac78954",
   "metadata": {
    "papermill": {
     "duration": 0.007372,
     "end_time": "2022-09-14T11:29:13.521736",
     "exception": false,
     "start_time": "2022-09-14T11:29:13.514364",
     "status": "completed"
    },
    "tags": []
   },
   "source": [
    "# 🌶️ Question 5\n",
    " \n",
    "Say you're doing analytics for a website.  You need to write a function that returns the percentage growth in the total number of users relative to a specified number of years ago.\n",
    "\n",
    "Your function `percentage_growth()` should take two arguments as input:\n",
    "- `num_users` = Python list with the total number of users each year.  So `num_users[0]` is the total number of users in the first year, `num_users[1]` is the total number of users in the second year, and so on.  The final entry in the list gives the total number of users in the most recently completed year.\n",
    "- `yrs_ago` = number of years to go back in time when calculating the growth percentage\n",
    "\n",
    "For instance, say `num_users = [920344, 1043553, 1204334, 1458996, 1503323, 1593432, 1623463, 1843064, 1930992, 2001078]`.\n",
    "- if `yrs_ago = 1`, we want the function to return a value of about `0.036`. This corresponds to a percentage growth of approximately 3.6%, calculated as (2001078 - 1930992)/1930992.\n",
    "- if `years_ago = 7`, we would want to return approximately `0.66`.  This corresponds to a percentage growth of approximately 66%, calculated as (2001078 - 1204334)/1204334.\n",
    "\n",
    "Your coworker sent you a draft of a function, but it doesn't seem to be doing the correct calculation.  Can you figure out what has gone wrong and make the needed changes?"
   ]
  },
  {
   "cell_type": "code",
   "execution_count": 14,
   "id": "edb65595",
   "metadata": {
    "execution": {
     "iopub.execute_input": "2022-09-14T11:29:13.540232Z",
     "iopub.status.busy": "2022-09-14T11:29:13.539422Z",
     "iopub.status.idle": "2022-09-14T11:29:13.552976Z",
     "shell.execute_reply": "2022-09-14T11:29:13.551843Z"
    },
    "papermill": {
     "duration": 0.025648,
     "end_time": "2022-09-14T11:29:13.555163",
     "exception": false,
     "start_time": "2022-09-14T11:29:13.529515",
     "status": "completed"
    },
    "tags": []
   },
   "outputs": [
    {
     "name": "stdout",
     "output_type": "stream",
     "text": [
      "0.03629533421163837\n",
      "0.6615639847417742\n"
     ]
    },
    {
     "data": {
      "application/javascript": [
       "parent.postMessage({\"jupyterEvent\": \"custom.exercise_interaction\", \"data\": {\"outcomeType\": 1, \"valueTowardsCompletion\": 0.2, \"interactionType\": 1, \"questionType\": 2, \"questionId\": \"5_WebsiteAnalytics\", \"learnToolsVersion\": \"0.3.4\", \"failureMessage\": \"\", \"exceptionClass\": \"\", \"trace\": \"\"}}, \"*\")"
      ],
      "text/plain": [
       "<IPython.core.display.Javascript object>"
      ]
     },
     "metadata": {},
     "output_type": "display_data"
    },
    {
     "data": {
      "text/markdown": [
       "<span style=\"color:#33cc33\">Correct</span>"
      ],
      "text/plain": [
       "Correct"
      ]
     },
     "metadata": {},
     "output_type": "display_data"
    }
   ],
   "source": [
    "# TODO: Edit the function\n",
    "def percentage_growth(num_users, yrs_ago):\n",
    "    growth = (num_users[len(num_users)-1] - num_users[len(num_users)-yrs_ago-1])/num_users[len(num_users)-yrs_ago-1]\n",
    "    return growth\n",
    "\n",
    "# Do not change: Variable for calculating some test examples\n",
    "num_users_test = [920344, 1043553, 1204334, 1458996, 1503323, 1593432, 1623463, 1843064, 1930992, 2001078]\n",
    "\n",
    "# Do not change: Should return .036\n",
    "print(percentage_growth(num_users_test, 1))\n",
    "\n",
    "# Do not change: Should return 0.66\n",
    "print(percentage_growth(num_users_test, 7))\n",
    "\n",
    "# Do not change: Check your answer\n",
    "q5.check()"
   ]
  },
  {
   "cell_type": "code",
   "execution_count": 15,
   "id": "e0e20097",
   "metadata": {
    "execution": {
     "iopub.execute_input": "2022-09-14T11:29:13.573455Z",
     "iopub.status.busy": "2022-09-14T11:29:13.572743Z",
     "iopub.status.idle": "2022-09-14T11:29:13.580222Z",
     "shell.execute_reply": "2022-09-14T11:29:13.579343Z"
    },
    "papermill": {
     "duration": 0.019209,
     "end_time": "2022-09-14T11:29:13.582419",
     "exception": false,
     "start_time": "2022-09-14T11:29:13.563210",
     "status": "completed"
    },
    "tags": []
   },
   "outputs": [
    {
     "data": {
      "application/javascript": [
       "parent.postMessage({\"jupyterEvent\": \"custom.exercise_interaction\", \"data\": {\"interactionType\": 3, \"questionType\": 2, \"questionId\": \"5_WebsiteAnalytics\", \"learnToolsVersion\": \"0.3.4\", \"valueTowardsCompletion\": 0.0, \"failureMessage\": \"\", \"exceptionClass\": \"\", \"trace\": \"\", \"outcomeType\": 4}}, \"*\")"
      ],
      "text/plain": [
       "<IPython.core.display.Javascript object>"
      ]
     },
     "metadata": {},
     "output_type": "display_data"
    },
    {
     "data": {
      "text/markdown": [
       "<span style=\"color:#33cc99\">Solution:</span> \n",
       "```python\n",
       "def percentage_growth(num_users, yrs_ago):\n",
       "    growth = (num_users[len(num_users)-1] - num_users[len(num_users)-yrs_ago-1])/num_users[len(num_users)-yrs_ago-1]\n",
       "    return growth\n",
       "\n",
       "```"
      ],
      "text/plain": [
       "Solution: \n",
       "```python\n",
       "def percentage_growth(num_users, yrs_ago):\n",
       "    growth = (num_users[len(num_users)-1] - num_users[len(num_users)-yrs_ago-1])/num_users[len(num_users)-yrs_ago-1]\n",
       "    return growth\n",
       "\n",
       "```"
      ]
     },
     "metadata": {},
     "output_type": "display_data"
    }
   ],
   "source": [
    "# Uncomment to see a hint\n",
    "#q5.hint()\n",
    "\n",
    "# Uncomment to see the solution\n",
    "q5.solution()"
   ]
  },
  {
   "cell_type": "markdown",
   "id": "4431fcbc",
   "metadata": {
    "papermill": {
     "duration": 0.008351,
     "end_time": "2022-09-14T11:29:13.599154",
     "exception": false,
     "start_time": "2022-09-14T11:29:13.590803",
     "status": "completed"
    },
    "tags": []
   },
   "source": [
    "# Congratulations!\n",
    "\n",
    "Congratulations for finishing the Intro to Programming course!  You should be proud of your very first steps with learning programming.  As next steps, we recommend taking:\n",
    "- the **[Python course](http://www.kaggle.com/learn/python)**, and \n",
    "- the **[Intro to Machine Learning course](https://www.kaggle.com/learn/intro-to-machine-learning)**."
   ]
  },
  {
   "cell_type": "markdown",
   "id": "e5f25bff",
   "metadata": {
    "papermill": {
     "duration": 0.007885,
     "end_time": "2022-09-14T11:29:13.615332",
     "exception": false,
     "start_time": "2022-09-14T11:29:13.607447",
     "status": "completed"
    },
    "tags": []
   },
   "source": [
    "---\n",
    "\n",
    "\n",
    "\n",
    "\n",
    "*Have questions or comments? Visit the [course discussion forum](https://www.kaggle.com/learn/intro-to-programming/discussion) to chat with other learners.*"
   ]
  }
 ],
 "metadata": {
  "kernelspec": {
   "display_name": "Python 3",
   "language": "python",
   "name": "python3"
  },
  "language_info": {
   "codemirror_mode": {
    "name": "ipython",
    "version": 3
   },
   "file_extension": ".py",
   "mimetype": "text/x-python",
   "name": "python",
   "nbconvert_exporter": "python",
   "pygments_lexer": "ipython3",
   "version": "3.7.12"
  },
  "papermill": {
   "default_parameters": {},
   "duration": 10.383585,
   "end_time": "2022-09-14T11:29:14.244435",
   "environment_variables": {},
   "exception": null,
   "input_path": "__notebook__.ipynb",
   "output_path": "__notebook__.ipynb",
   "parameters": {},
   "start_time": "2022-09-14T11:29:03.860850",
   "version": "2.3.4"
  }
 },
 "nbformat": 4,
 "nbformat_minor": 5
}
