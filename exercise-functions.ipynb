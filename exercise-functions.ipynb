{
 "cells": [
  {
   "cell_type": "markdown",
   "id": "074222be",
   "metadata": {
    "papermill": {
     "duration": 0.008789,
     "end_time": "2022-09-14T09:24:31.006919",
     "exception": false,
     "start_time": "2022-09-14T09:24:30.998130",
     "status": "completed"
    },
    "tags": []
   },
   "source": [
    "**This notebook is an exercise in the [Intro to Programming](https://www.kaggle.com/learn/intro-to-programming) course.  You can reference the tutorial at [this link](https://www.kaggle.com/alexisbcook/functions).**\n",
    "\n",
    "---\n"
   ]
  },
  {
   "cell_type": "markdown",
   "id": "357d603d",
   "metadata": {
    "papermill": {
     "duration": 0.005933,
     "end_time": "2022-09-14T09:24:31.020108",
     "exception": false,
     "start_time": "2022-09-14T09:24:31.014175",
     "status": "completed"
    },
    "tags": []
   },
   "source": [
    "In the tutorial, you learned about functions. In this exercise, you'll write some of your own!\n",
    "\n",
    "# Set up the notebook\n",
    "\n",
    "Run the next code cell without changes to set up the notebook."
   ]
  },
  {
   "cell_type": "code",
   "execution_count": 1,
   "id": "68f09dc4",
   "metadata": {
    "execution": {
     "iopub.execute_input": "2022-09-14T09:24:31.035301Z",
     "iopub.status.busy": "2022-09-14T09:24:31.034512Z",
     "iopub.status.idle": "2022-09-14T09:24:31.095881Z",
     "shell.execute_reply": "2022-09-14T09:24:31.094794Z"
    },
    "papermill": {
     "duration": 0.072594,
     "end_time": "2022-09-14T09:24:31.099436",
     "exception": false,
     "start_time": "2022-09-14T09:24:31.026842",
     "status": "completed"
    },
    "tags": []
   },
   "outputs": [
    {
     "name": "stdout",
     "output_type": "stream",
     "text": [
      "Setup complete.\n"
     ]
    }
   ],
   "source": [
    "# Set up the exercise\n",
    "import math\n",
    "from learntools.core import binder\n",
    "binder.bind(globals())\n",
    "from learntools.intro_to_programming.ex2 import *\n",
    "print('Setup complete.')"
   ]
  },
  {
   "cell_type": "markdown",
   "id": "61ccc81d",
   "metadata": {
    "papermill": {
     "duration": 0.005995,
     "end_time": "2022-09-14T09:24:31.114329",
     "exception": false,
     "start_time": "2022-09-14T09:24:31.108334",
     "status": "completed"
    },
    "tags": []
   },
   "source": [
    "# Question 1\n",
    "\n",
    "In the [House Prices - Advanced Regression Techniques competition](https://www.kaggle.com/c/house-prices-advanced-regression-techniques/overview), you need to use information like the number of bedrooms and bathrooms to predict the price of a house.  Inspired by this competition, you'll write your own function to do this.\n",
    "\n",
    "In the next code cell, create a function `get_expected_cost()` that has two arguments:\n",
    "- `beds` - number of bedrooms \n",
    "- `baths` - number of bathrooms\n",
    "\n",
    "It should return the expected cost of a house with that number of bedrooms and bathrooms.  Assume that:\n",
    "- the expected cost for a house with 0 bedrooms and 0 bathrooms is `80000`.  \n",
    "- each bedroom adds `30000` to the expected cost\n",
    "- each bathroom adds `10000` to the expected cost.\n",
    "\n",
    "For instance, \n",
    "- a house with 1 bedroom and 1 bathroom has an expected cost of `120000`, and \n",
    "- a house with 2 bedrooms and 1 bathroom has an expected cost of `150000`."
   ]
  },
  {
   "cell_type": "code",
   "execution_count": 2,
   "id": "644a74ca",
   "metadata": {
    "execution": {
     "iopub.execute_input": "2022-09-14T09:24:31.128279Z",
     "iopub.status.busy": "2022-09-14T09:24:31.127610Z",
     "iopub.status.idle": "2022-09-14T09:24:31.137137Z",
     "shell.execute_reply": "2022-09-14T09:24:31.136422Z"
    },
    "papermill": {
     "duration": 0.018879,
     "end_time": "2022-09-14T09:24:31.139030",
     "exception": false,
     "start_time": "2022-09-14T09:24:31.120151",
     "status": "completed"
    },
    "tags": []
   },
   "outputs": [
    {
     "data": {
      "application/javascript": [
       "parent.postMessage({\"jupyterEvent\": \"custom.exercise_interaction\", \"data\": {\"outcomeType\": 1, \"valueTowardsCompletion\": 0.2, \"interactionType\": 1, \"questionType\": 2, \"questionId\": \"1_GetExpectedCost\", \"learnToolsVersion\": \"0.3.4\", \"failureMessage\": \"\", \"exceptionClass\": \"\", \"trace\": \"\"}}, \"*\")"
      ],
      "text/plain": [
       "<IPython.core.display.Javascript object>"
      ]
     },
     "metadata": {},
     "output_type": "display_data"
    },
    {
     "data": {
      "text/markdown": [
       "<span style=\"color:#33cc33\">Correct</span>"
      ],
      "text/plain": [
       "Correct"
      ]
     },
     "metadata": {},
     "output_type": "display_data"
    }
   ],
   "source": [
    "# TODO: Complete the function\n",
    "def get_expected_cost(beds, baths):\n",
    "    value = 80000+30000*beds+10000*baths\n",
    "    return value\n",
    "\n",
    "# Check your answer \n",
    "q1.check()"
   ]
  },
  {
   "cell_type": "code",
   "execution_count": 3,
   "id": "13391f25",
   "metadata": {
    "execution": {
     "iopub.execute_input": "2022-09-14T09:24:31.152984Z",
     "iopub.status.busy": "2022-09-14T09:24:31.152332Z",
     "iopub.status.idle": "2022-09-14T09:24:31.155946Z",
     "shell.execute_reply": "2022-09-14T09:24:31.155216Z"
    },
    "papermill": {
     "duration": 0.012747,
     "end_time": "2022-09-14T09:24:31.157908",
     "exception": false,
     "start_time": "2022-09-14T09:24:31.145161",
     "status": "completed"
    },
    "tags": []
   },
   "outputs": [],
   "source": [
    "# Uncomment to see a hint\n",
    "#q1.hint()\n",
    "\n",
    "# Uncomment to view the solution\n",
    "#q1.solution()"
   ]
  },
  {
   "cell_type": "markdown",
   "id": "c3750cd0",
   "metadata": {
    "papermill": {
     "duration": 0.005726,
     "end_time": "2022-09-14T09:24:31.169654",
     "exception": false,
     "start_time": "2022-09-14T09:24:31.163928",
     "status": "completed"
    },
    "tags": []
   },
   "source": [
    "# Question 2\n",
    "\n",
    "You are thinking about buying a home and want to get an idea of how much you will spend, based on the number of bedrooms and bathrooms.  You are trying to decide between four different options:\n",
    "- Option 1: house with two bedrooms and three bathrooms\n",
    "- Option 2: house with three bedrooms and two bathrooms\n",
    "- Option 3: house with three bedrooms and three bathrooms\n",
    "- Option 4: house with three bedrooms and four bathrooms\n",
    "\n",
    "Use the `get_expected_cost()` function you defined in question 1 to set `option_1`, `option_2`, `option_3`, and `option_4` to the expected cost of each option."
   ]
  },
  {
   "cell_type": "code",
   "execution_count": 4,
   "id": "e175e127",
   "metadata": {
    "execution": {
     "iopub.execute_input": "2022-09-14T09:24:31.183580Z",
     "iopub.status.busy": "2022-09-14T09:24:31.182942Z",
     "iopub.status.idle": "2022-09-14T09:24:31.193663Z",
     "shell.execute_reply": "2022-09-14T09:24:31.192433Z"
    },
    "papermill": {
     "duration": 0.020898,
     "end_time": "2022-09-14T09:24:31.196487",
     "exception": false,
     "start_time": "2022-09-14T09:24:31.175589",
     "status": "completed"
    },
    "tags": []
   },
   "outputs": [
    {
     "name": "stdout",
     "output_type": "stream",
     "text": [
      "170000\n",
      "190000\n",
      "200000\n",
      "210000\n"
     ]
    },
    {
     "data": {
      "application/javascript": [
       "parent.postMessage({\"jupyterEvent\": \"custom.exercise_interaction\", \"data\": {\"outcomeType\": 1, \"valueTowardsCompletion\": 0.2, \"interactionType\": 1, \"questionType\": 1, \"questionId\": \"2_RunGetExpectedCost\", \"learnToolsVersion\": \"0.3.4\", \"failureMessage\": \"\", \"exceptionClass\": \"\", \"trace\": \"\"}}, \"*\")"
      ],
      "text/plain": [
       "<IPython.core.display.Javascript object>"
      ]
     },
     "metadata": {},
     "output_type": "display_data"
    },
    {
     "data": {
      "text/markdown": [
       "<span style=\"color:#33cc33\">Correct</span>"
      ],
      "text/plain": [
       "Correct"
      ]
     },
     "metadata": {},
     "output_type": "display_data"
    }
   ],
   "source": [
    "# TODO: Use the get_expected_cost function to fill in each value\n",
    "option_one = 80000+2*30000+3*10000\n",
    "option_two = 80000+3*30000+2*10000\n",
    "option_three = 80000+3*30000+3*10000\n",
    "option_four = 80000+3*30000+4*10000\n",
    "\n",
    "print(option_one)\n",
    "print(option_two)\n",
    "print(option_three)\n",
    "print(option_four)\n",
    "\n",
    "# Check your answer\n",
    "q2.check()"
   ]
  },
  {
   "cell_type": "code",
   "execution_count": 5,
   "id": "fcb45119",
   "metadata": {
    "execution": {
     "iopub.execute_input": "2022-09-14T09:24:31.215738Z",
     "iopub.status.busy": "2022-09-14T09:24:31.214181Z",
     "iopub.status.idle": "2022-09-14T09:24:31.219614Z",
     "shell.execute_reply": "2022-09-14T09:24:31.218722Z"
    },
    "papermill": {
     "duration": 0.017998,
     "end_time": "2022-09-14T09:24:31.223246",
     "exception": false,
     "start_time": "2022-09-14T09:24:31.205248",
     "status": "completed"
    },
    "tags": []
   },
   "outputs": [],
   "source": [
    "# Uncomment to see a hint\n",
    "#q2.hint()\n",
    "\n",
    "# Uncomment to view the solution\n",
    "#q2.solution()"
   ]
  },
  {
   "cell_type": "markdown",
   "id": "b478de1d",
   "metadata": {
    "papermill": {
     "duration": 0.0065,
     "end_time": "2022-09-14T09:24:31.237602",
     "exception": false,
     "start_time": "2022-09-14T09:24:31.231102",
     "status": "completed"
    },
    "tags": []
   },
   "source": [
    "# Question 3\n",
    "\n",
    "You're a home decorator, and you'd like to use Python to streamline some of your work.  Specifically, you're creating a tool that you intend to use to calculate the cost of painting a room.\n",
    "\n",
    "As a first step, define a function `get_cost()` that takes as input:\n",
    "- `sqft_walls` = total square feet of walls to be painted\n",
    "- `sqft_ceiling` = square feet of ceiling to be painted\n",
    "- `sqft_per_gallon` = number of square feet that you can cover with one gallon of paint\n",
    "- `cost_per_gallon` = cost (in dollars) of one gallon of paint\n",
    "\n",
    "It should return the cost (in dollars) of putting one coat of paint on all walls and the ceiling.  Assume you can buy the exact amount of paint that you need, so you can buy partial gallons (e.g., if you need 7.523 gallons, you can buy that exact amount, instead of needing to buy 8 gallons and waste some paint).  Do not round your answer."
   ]
  },
  {
   "cell_type": "code",
   "execution_count": 6,
   "id": "84806961",
   "metadata": {
    "execution": {
     "iopub.execute_input": "2022-09-14T09:24:31.253218Z",
     "iopub.status.busy": "2022-09-14T09:24:31.252321Z",
     "iopub.status.idle": "2022-09-14T09:24:31.262112Z",
     "shell.execute_reply": "2022-09-14T09:24:31.260989Z"
    },
    "papermill": {
     "duration": 0.019971,
     "end_time": "2022-09-14T09:24:31.264693",
     "exception": false,
     "start_time": "2022-09-14T09:24:31.244722",
     "status": "completed"
    },
    "tags": []
   },
   "outputs": [
    {
     "data": {
      "application/javascript": [
       "parent.postMessage({\"jupyterEvent\": \"custom.exercise_interaction\", \"data\": {\"outcomeType\": 1, \"valueTowardsCompletion\": 0.2, \"interactionType\": 1, \"questionType\": 2, \"questionId\": \"3_GetCostPaint\", \"learnToolsVersion\": \"0.3.4\", \"failureMessage\": \"\", \"exceptionClass\": \"\", \"trace\": \"\"}}, \"*\")"
      ],
      "text/plain": [
       "<IPython.core.display.Javascript object>"
      ]
     },
     "metadata": {},
     "output_type": "display_data"
    },
    {
     "data": {
      "text/markdown": [
       "<span style=\"color:#33cc33\">Correct</span>"
      ],
      "text/plain": [
       "Correct"
      ]
     },
     "metadata": {},
     "output_type": "display_data"
    }
   ],
   "source": [
    "# TODO: Finish defining the function\n",
    "def get_cost(sqft_walls, sqft_ceiling, sqft_per_gallon, cost_per_gallon):\n",
    "    cost = (sqft_walls+sqft_ceiling)/sqft_per_gallon*cost_per_gallon\n",
    "    return cost\n",
    "\n",
    "# Check your answer\n",
    "q3.check()"
   ]
  },
  {
   "cell_type": "code",
   "execution_count": 7,
   "id": "d6153bfb",
   "metadata": {
    "execution": {
     "iopub.execute_input": "2022-09-14T09:24:31.280217Z",
     "iopub.status.busy": "2022-09-14T09:24:31.279481Z",
     "iopub.status.idle": "2022-09-14T09:24:31.285291Z",
     "shell.execute_reply": "2022-09-14T09:24:31.283784Z"
    },
    "papermill": {
     "duration": 0.016745,
     "end_time": "2022-09-14T09:24:31.288196",
     "exception": false,
     "start_time": "2022-09-14T09:24:31.271451",
     "status": "completed"
    },
    "tags": []
   },
   "outputs": [],
   "source": [
    "# Uncomment to see a hint\n",
    "#q3.hint()\n",
    "\n",
    "# Uncomment to view the solution\n",
    "#q3.solution()"
   ]
  },
  {
   "cell_type": "markdown",
   "id": "5f29c143",
   "metadata": {
    "papermill": {
     "duration": 0.006523,
     "end_time": "2022-09-14T09:24:31.301490",
     "exception": false,
     "start_time": "2022-09-14T09:24:31.294967",
     "status": "completed"
    },
    "tags": []
   },
   "source": [
    "# Question 4\n",
    "\n",
    "Use the `get_cost()` function you defined in Question 3 to calculate the cost of applying one coat of paint to a room with:\n",
    "- 432 square feet of walls, and\n",
    "- 144 square feet of ceiling.\n",
    "\n",
    "Assume that one gallon of paint covers 400 square feet and costs $15.  As in Question 3, assume you can buy partial gallons of paint.  Do not round your answer."
   ]
  },
  {
   "cell_type": "code",
   "execution_count": 8,
   "id": "25f738b6",
   "metadata": {
    "execution": {
     "iopub.execute_input": "2022-09-14T09:24:31.317269Z",
     "iopub.status.busy": "2022-09-14T09:24:31.316891Z",
     "iopub.status.idle": "2022-09-14T09:24:31.324189Z",
     "shell.execute_reply": "2022-09-14T09:24:31.323429Z"
    },
    "papermill": {
     "duration": 0.017414,
     "end_time": "2022-09-14T09:24:31.326291",
     "exception": false,
     "start_time": "2022-09-14T09:24:31.308877",
     "status": "completed"
    },
    "tags": []
   },
   "outputs": [
    {
     "data": {
      "application/javascript": [
       "parent.postMessage({\"jupyterEvent\": \"custom.exercise_interaction\", \"data\": {\"outcomeType\": 1, \"valueTowardsCompletion\": 0.2, \"interactionType\": 1, \"questionType\": 1, \"questionId\": \"4_GetCostPaintExample\", \"learnToolsVersion\": \"0.3.4\", \"failureMessage\": \"\", \"exceptionClass\": \"\", \"trace\": \"\"}}, \"*\")"
      ],
      "text/plain": [
       "<IPython.core.display.Javascript object>"
      ]
     },
     "metadata": {},
     "output_type": "display_data"
    },
    {
     "data": {
      "text/markdown": [
       "<span style=\"color:#33cc33\">Correct</span>"
      ],
      "text/plain": [
       "Correct"
      ]
     },
     "metadata": {},
     "output_type": "display_data"
    }
   ],
   "source": [
    "# TODO: Set the project_cost variable to the cost of the project\n",
    "project_cost = get_cost(432,144,400,15)\n",
    "\n",
    "# Check your answer\n",
    "q4.check()"
   ]
  },
  {
   "cell_type": "code",
   "execution_count": 9,
   "id": "78d2098a",
   "metadata": {
    "execution": {
     "iopub.execute_input": "2022-09-14T09:24:31.342201Z",
     "iopub.status.busy": "2022-09-14T09:24:31.341514Z",
     "iopub.status.idle": "2022-09-14T09:24:31.345299Z",
     "shell.execute_reply": "2022-09-14T09:24:31.344549Z"
    },
    "papermill": {
     "duration": 0.014013,
     "end_time": "2022-09-14T09:24:31.347248",
     "exception": false,
     "start_time": "2022-09-14T09:24:31.333235",
     "status": "completed"
    },
    "tags": []
   },
   "outputs": [],
   "source": [
    "# Uncomment to see a hint\n",
    "#q4.hint()\n",
    "\n",
    "# Uncomment to view the solution\n",
    "#q4.solution()"
   ]
  },
  {
   "cell_type": "markdown",
   "id": "60adc5ef",
   "metadata": {
    "papermill": {
     "duration": 0.006584,
     "end_time": "2022-09-14T09:24:31.360867",
     "exception": false,
     "start_time": "2022-09-14T09:24:31.354283",
     "status": "completed"
    },
    "tags": []
   },
   "source": [
    "# 🌶️ Question 5\n",
    "\n",
    "Now say you can no longer buy fractions of a gallon.  (For instance, if you need 4.3 gallons to do a project, then you have to buy 5 gallons of paint.)\n",
    "\n",
    "With this new scenario, you will create a new function `get_actual_cost` that uses the same inputs and calculates the cost of your project.\n",
    "\n",
    "One function that you'll need to use to do this is `math.ceil()`.  We demonstrate usage of this function in the code cell below.  It takes as a number as input and rounds the number up to the nearest integer.  \n",
    "\n",
    "Run the next code cell to test this function for yourself.  Feel free to change the value of `test_value` and make sure `math.ceil()` returns the number you expect."
   ]
  },
  {
   "cell_type": "code",
   "execution_count": 10,
   "id": "7d3bf983",
   "metadata": {
    "execution": {
     "iopub.execute_input": "2022-09-14T09:24:31.376569Z",
     "iopub.status.busy": "2022-09-14T09:24:31.375841Z",
     "iopub.status.idle": "2022-09-14T09:24:31.381327Z",
     "shell.execute_reply": "2022-09-14T09:24:31.380087Z"
    },
    "papermill": {
     "duration": 0.015945,
     "end_time": "2022-09-14T09:24:31.383635",
     "exception": false,
     "start_time": "2022-09-14T09:24:31.367690",
     "status": "completed"
    },
    "tags": []
   },
   "outputs": [
    {
     "name": "stdout",
     "output_type": "stream",
     "text": [
      "3\n"
     ]
    }
   ],
   "source": [
    "test_value = 2.17\n",
    "\n",
    "rounded_value = math.ceil(test_value)\n",
    "print(rounded_value)"
   ]
  },
  {
   "cell_type": "markdown",
   "id": "f4e776b2",
   "metadata": {
    "papermill": {
     "duration": 0.006694,
     "end_time": "2022-09-14T09:24:31.397472",
     "exception": false,
     "start_time": "2022-09-14T09:24:31.390778",
     "status": "completed"
    },
    "tags": []
   },
   "source": [
    "Use the next code cell to define the function `get_actual_cost()`.  You'll need to use the `math.ceil()` function to do this.\n",
    "\n",
    "When answering this question, note that it's completely valid to define a function that makes use of another function.  For instance, we can define a function `round_up_and_divide_by_three` that makes use of the `math.ceil` function:\n",
    "```\n",
    "def round_up_and_divide_by_three(num):\n",
    "    new_value = math.ceil(num)\n",
    "    final_value = new_value / 3\n",
    "    return final_value\n",
    "```"
   ]
  },
  {
   "cell_type": "code",
   "execution_count": 11,
   "id": "040d6e1b",
   "metadata": {
    "execution": {
     "iopub.execute_input": "2022-09-14T09:24:31.413670Z",
     "iopub.status.busy": "2022-09-14T09:24:31.412964Z",
     "iopub.status.idle": "2022-09-14T09:24:31.421811Z",
     "shell.execute_reply": "2022-09-14T09:24:31.420801Z"
    },
    "papermill": {
     "duration": 0.019456,
     "end_time": "2022-09-14T09:24:31.423881",
     "exception": false,
     "start_time": "2022-09-14T09:24:31.404425",
     "status": "completed"
    },
    "tags": []
   },
   "outputs": [
    {
     "data": {
      "application/javascript": [
       "parent.postMessage({\"jupyterEvent\": \"custom.exercise_interaction\", \"data\": {\"outcomeType\": 1, \"valueTowardsCompletion\": 0.2, \"interactionType\": 1, \"questionType\": 2, \"questionId\": \"5_NoMoreFractions\", \"learnToolsVersion\": \"0.3.4\", \"failureMessage\": \"\", \"exceptionClass\": \"\", \"trace\": \"\"}}, \"*\")"
      ],
      "text/plain": [
       "<IPython.core.display.Javascript object>"
      ]
     },
     "metadata": {},
     "output_type": "display_data"
    },
    {
     "data": {
      "text/markdown": [
       "<span style=\"color:#33cc33\">Correct</span>"
      ],
      "text/plain": [
       "Correct"
      ]
     },
     "metadata": {},
     "output_type": "display_data"
    }
   ],
   "source": [
    "def get_actual_cost(sqft_walls, sqft_ceiling, sqft_per_gallon, cost_per_gallon):\n",
    "    cost = math.ceil((sqft_walls+sqft_ceiling)/sqft_per_gallon)*cost_per_gallon\n",
    "    return cost\n",
    "\n",
    "# Check your answer\n",
    "q5.check()"
   ]
  },
  {
   "cell_type": "code",
   "execution_count": 12,
   "id": "fe2d937b",
   "metadata": {
    "execution": {
     "iopub.execute_input": "2022-09-14T09:24:31.440624Z",
     "iopub.status.busy": "2022-09-14T09:24:31.439911Z",
     "iopub.status.idle": "2022-09-14T09:24:31.443782Z",
     "shell.execute_reply": "2022-09-14T09:24:31.442981Z"
    },
    "papermill": {
     "duration": 0.014757,
     "end_time": "2022-09-14T09:24:31.446081",
     "exception": false,
     "start_time": "2022-09-14T09:24:31.431324",
     "status": "completed"
    },
    "tags": []
   },
   "outputs": [],
   "source": [
    "# Uncomment to see a hint\n",
    "#q5.hint()\n",
    "\n",
    "# Uncomment to view the solution\n",
    "#q5.solution()"
   ]
  },
  {
   "cell_type": "markdown",
   "id": "a1afe8e6",
   "metadata": {
    "papermill": {
     "duration": 0.007127,
     "end_time": "2022-09-14T09:24:31.460936",
     "exception": false,
     "start_time": "2022-09-14T09:24:31.453809",
     "status": "completed"
    },
    "tags": []
   },
   "source": [
    "Once your function is verified as correct, run the next code cell to calculate the updated cost of your project."
   ]
  },
  {
   "cell_type": "code",
   "execution_count": 13,
   "id": "176c1ce0",
   "metadata": {
    "execution": {
     "iopub.execute_input": "2022-09-14T09:24:31.477614Z",
     "iopub.status.busy": "2022-09-14T09:24:31.477194Z",
     "iopub.status.idle": "2022-09-14T09:24:31.484296Z",
     "shell.execute_reply": "2022-09-14T09:24:31.483118Z"
    },
    "papermill": {
     "duration": 0.018319,
     "end_time": "2022-09-14T09:24:31.486737",
     "exception": false,
     "start_time": "2022-09-14T09:24:31.468418",
     "status": "completed"
    },
    "tags": []
   },
   "outputs": [
    {
     "data": {
      "text/plain": [
       "30"
      ]
     },
     "execution_count": 13,
     "metadata": {},
     "output_type": "execute_result"
    }
   ],
   "source": [
    "get_actual_cost(432, 144, 400, 15) "
   ]
  },
  {
   "cell_type": "markdown",
   "id": "5b43c778",
   "metadata": {
    "papermill": {
     "duration": 0.007432,
     "end_time": "2022-09-14T09:24:31.501397",
     "exception": false,
     "start_time": "2022-09-14T09:24:31.493965",
     "status": "completed"
    },
    "tags": []
   },
   "source": [
    "Say you're working with a slightly larger room.  Run the next code cell to calculate the cost of the project."
   ]
  },
  {
   "cell_type": "code",
   "execution_count": 14,
   "id": "a173dbd7",
   "metadata": {
    "execution": {
     "iopub.execute_input": "2022-09-14T09:24:31.518109Z",
     "iopub.status.busy": "2022-09-14T09:24:31.517469Z",
     "iopub.status.idle": "2022-09-14T09:24:31.524169Z",
     "shell.execute_reply": "2022-09-14T09:24:31.523259Z"
    },
    "papermill": {
     "duration": 0.01751,
     "end_time": "2022-09-14T09:24:31.526277",
     "exception": false,
     "start_time": "2022-09-14T09:24:31.508767",
     "status": "completed"
    },
    "tags": []
   },
   "outputs": [
    {
     "data": {
      "text/plain": [
       "45"
      ]
     },
     "execution_count": 14,
     "metadata": {},
     "output_type": "execute_result"
    }
   ],
   "source": [
    "get_actual_cost(594, 288, 400, 15) "
   ]
  },
  {
   "cell_type": "markdown",
   "id": "4991a75c",
   "metadata": {
    "papermill": {
     "duration": 0.007039,
     "end_time": "2022-09-14T09:24:31.540708",
     "exception": false,
     "start_time": "2022-09-14T09:24:31.533669",
     "status": "completed"
    },
    "tags": []
   },
   "source": [
    "# Keep going\n",
    "\n",
    "Continue to learn about **[data types](https://www.kaggle.com/alexisbcook/data-types)**."
   ]
  },
  {
   "cell_type": "markdown",
   "id": "d853cc7f",
   "metadata": {
    "papermill": {
     "duration": 0.007077,
     "end_time": "2022-09-14T09:24:31.555262",
     "exception": false,
     "start_time": "2022-09-14T09:24:31.548185",
     "status": "completed"
    },
    "tags": []
   },
   "source": [
    "---\n",
    "\n",
    "\n",
    "\n",
    "\n",
    "*Have questions or comments? Visit the [course discussion forum](https://www.kaggle.com/learn/intro-to-programming/discussion) to chat with other learners.*"
   ]
  }
 ],
 "metadata": {
  "kernelspec": {
   "display_name": "Python 3",
   "language": "python",
   "name": "python3"
  },
  "language_info": {
   "codemirror_mode": {
    "name": "ipython",
    "version": 3
   },
   "file_extension": ".py",
   "mimetype": "text/x-python",
   "name": "python",
   "nbconvert_exporter": "python",
   "pygments_lexer": "ipython3",
   "version": "3.7.12"
  },
  "papermill": {
   "default_parameters": {},
   "duration": 10.191932,
   "end_time": "2022-09-14T09:24:32.182808",
   "environment_variables": {},
   "exception": null,
   "input_path": "__notebook__.ipynb",
   "output_path": "__notebook__.ipynb",
   "parameters": {},
   "start_time": "2022-09-14T09:24:21.990876",
   "version": "2.3.4"
  }
 },
 "nbformat": 4,
 "nbformat_minor": 5
}
